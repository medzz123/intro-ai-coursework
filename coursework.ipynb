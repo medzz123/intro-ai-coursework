{
  "nbformat": 4,
  "nbformat_minor": 0,
  "metadata": {
    "language_info": {
      "codemirror_mode": {
        "name": "ipython",
        "version": 3
      },
      "file_extension": ".py",
      "mimetype": "text/x-python",
      "name": "python",
      "nbconvert_exporter": "python",
      "pygments_lexer": "ipython3",
      "version": "3.8.3-final"
    },
    "orig_nbformat": 2,
    "kernelspec": {
      "name": "python3",
      "display_name": "Python 3",
      "language": "python"
    },
    "colab": {
      "name": "coursework.ipynb",
      "provenance": []
    }
  },
  "cells": [
    {
      "cell_type": "markdown",
      "metadata": {
        "id": "hz8tRZ1xgFix"
      },
      "source": [
        "# Will it rain tomorrow in Australia?\n",
        "\n",
        "The objective of this, is to find the best model that will predict if it will rain tomorrow in Australia. The data-set is from Kaggle, but we will load it from a github repositiry, as Kaggle downlaod service is not reliable."
      ]
    },
    {
      "cell_type": "markdown",
      "metadata": {
        "id": "UQGBX9dHgY-5"
      },
      "source": [
        "We will start by importing all the libaries we require."
      ]
    },
    {
      "cell_type": "code",
      "metadata": {
        "id": "wLmonjDqH6BX"
      },
      "source": [
        "import os\n",
        "import numpy as np\n",
        "import pandas as pd\n",
        "import seaborn as sns\n",
        "import matplotlib.pyplot as plt\n",
        "from sklearn.utils import resample\n",
        "from sklearn.model_selection import train_test_split\n",
        "from sklearn.tree import DecisionTreeClassifier\n",
        "from sklearn.preprocessing import LabelEncoder\n",
        "from sklearn.metrics import accuracy_score\n",
        "from sklearn.metrics import confusion_matrix\n",
        "from sklearn.linear_model import LogisticRegression\n",
        "from sklearn.neural_network import MLPClassifier\n",
        "from sklearn.model_selection import GridSearchCV"
      ],
      "execution_count": 4,
      "outputs": []
    },
    {
      "cell_type": "markdown",
      "metadata": {
        "id": "_P5ShtIlghaJ"
      },
      "source": [
        "Loading the data into a pandas Data Frame."
      ]
    },
    {
      "cell_type": "code",
      "metadata": {
        "id": "f8sON322H6Bd"
      },
      "source": [
        "df = pd.read_csv(\"https://raw.githubusercontent.com/medzz123/rain-data/main/weatherAUS.csv\",  na_values=['NA', '?'])"
      ],
      "execution_count": 5,
      "outputs": []
    },
    {
      "cell_type": "markdown",
      "metadata": {
        "id": "rQM6Ddkck6Dy"
      },
      "source": [
        "## Exploring the dataset"
      ]
    },
    {
      "cell_type": "markdown",
      "metadata": {
        "id": "Bx2D_XWqgy1V"
      },
      "source": [
        "Now lets check the summary of the data. This should give us the shape of the data, and its feature columns. "
      ]
    },
    {
      "cell_type": "code",
      "metadata": {
        "colab": {
          "base_uri": "https://localhost:8080/"
        },
        "id": "PxGTAxuiH6Bg",
        "outputId": "b9116d0b-bc3b-469e-ebb8-f3760b628aa7"
      },
      "source": [
        "df.info()"
      ],
      "execution_count": 6,
      "outputs": [
        {
          "output_type": "stream",
          "text": [
            "<class 'pandas.core.frame.DataFrame'>\n",
            "RangeIndex: 145460 entries, 0 to 145459\n",
            "Data columns (total 23 columns):\n",
            " #   Column         Non-Null Count   Dtype  \n",
            "---  ------         --------------   -----  \n",
            " 0   Date           145460 non-null  object \n",
            " 1   Location       145460 non-null  object \n",
            " 2   MinTemp        143975 non-null  float64\n",
            " 3   MaxTemp        144199 non-null  float64\n",
            " 4   Rainfall       142199 non-null  float64\n",
            " 5   Evaporation    82670 non-null   float64\n",
            " 6   Sunshine       75625 non-null   float64\n",
            " 7   WindGustDir    135134 non-null  object \n",
            " 8   WindGustSpeed  135197 non-null  float64\n",
            " 9   WindDir9am     134894 non-null  object \n",
            " 10  WindDir3pm     141232 non-null  object \n",
            " 11  WindSpeed9am   143693 non-null  float64\n",
            " 12  WindSpeed3pm   142398 non-null  float64\n",
            " 13  Humidity9am    142806 non-null  float64\n",
            " 14  Humidity3pm    140953 non-null  float64\n",
            " 15  Pressure9am    130395 non-null  float64\n",
            " 16  Pressure3pm    130432 non-null  float64\n",
            " 17  Cloud9am       89572 non-null   float64\n",
            " 18  Cloud3pm       86102 non-null   float64\n",
            " 19  Temp9am        143693 non-null  float64\n",
            " 20  Temp3pm        141851 non-null  float64\n",
            " 21  RainToday      142199 non-null  object \n",
            " 22  RainTomorrow   142193 non-null  object \n",
            "dtypes: float64(16), object(7)\n",
            "memory usage: 25.5+ MB\n"
          ],
          "name": "stdout"
        }
      ]
    },
    {
      "cell_type": "code",
      "metadata": {
        "colab": {
          "base_uri": "https://localhost:8080/"
        },
        "id": "1Y3UyGHAh0Uu",
        "outputId": "cd86c4b0-5659-4a99-d17c-783448d092fb"
      },
      "source": [
        "df.count().sort_values()"
      ],
      "execution_count": 7,
      "outputs": [
        {
          "output_type": "execute_result",
          "data": {
            "text/plain": [
              "Sunshine          75625\n",
              "Evaporation       82670\n",
              "Cloud3pm          86102\n",
              "Cloud9am          89572\n",
              "Pressure9am      130395\n",
              "Pressure3pm      130432\n",
              "WindDir9am       134894\n",
              "WindGustDir      135134\n",
              "WindGustSpeed    135197\n",
              "Humidity3pm      140953\n",
              "WindDir3pm       141232\n",
              "Temp3pm          141851\n",
              "RainTomorrow     142193\n",
              "RainToday        142199\n",
              "Rainfall         142199\n",
              "WindSpeed3pm     142398\n",
              "Humidity9am      142806\n",
              "Temp9am          143693\n",
              "WindSpeed9am     143693\n",
              "MinTemp          143975\n",
              "MaxTemp          144199\n",
              "Location         145460\n",
              "Date             145460\n",
              "dtype: int64"
            ]
          },
          "metadata": {
            "tags": []
          },
          "execution_count": 7
        }
      ]
    },
    {
      "cell_type": "markdown",
      "metadata": {
        "id": "3ZKpsnqcfy3f"
      },
      "source": [
        "We can observe that there is a total of 145460 entries with 23 columns. There are lot of columns which contains null values. \n",
        "\n",
        "Our target is `RainTomorrow`. As this column contains null values, we can drop those entries, as we won't be able test the accuracy of our model of those entries. \n",
        "\n",
        "We will also drop Location, as it the objective is to find out if it will rain tomorrow in Australia, not in a specific location. "
      ]
    },
    {
      "cell_type": "code",
      "metadata": {
        "id": "y2dnwyEHTkAK",
        "colab": {
          "base_uri": "https://localhost:8080/",
          "height": 299
        },
        "outputId": "95c85c57-b75e-45e1-9e8d-157334df63f0"
      },
      "source": [
        "target = 'RainTomorrow'\n",
        "\n",
        "df = df.drop(columns=['Location'],axis=1)\n",
        "\n",
        "df = df[df[target].notna()]\n",
        "\n",
        "df.head()"
      ],
      "execution_count": 8,
      "outputs": [
        {
          "output_type": "execute_result",
          "data": {
            "text/html": [
              "<div>\n",
              "<style scoped>\n",
              "    .dataframe tbody tr th:only-of-type {\n",
              "        vertical-align: middle;\n",
              "    }\n",
              "\n",
              "    .dataframe tbody tr th {\n",
              "        vertical-align: top;\n",
              "    }\n",
              "\n",
              "    .dataframe thead th {\n",
              "        text-align: right;\n",
              "    }\n",
              "</style>\n",
              "<table border=\"1\" class=\"dataframe\">\n",
              "  <thead>\n",
              "    <tr style=\"text-align: right;\">\n",
              "      <th></th>\n",
              "      <th>Date</th>\n",
              "      <th>MinTemp</th>\n",
              "      <th>MaxTemp</th>\n",
              "      <th>Rainfall</th>\n",
              "      <th>Evaporation</th>\n",
              "      <th>Sunshine</th>\n",
              "      <th>WindGustDir</th>\n",
              "      <th>WindGustSpeed</th>\n",
              "      <th>WindDir9am</th>\n",
              "      <th>WindDir3pm</th>\n",
              "      <th>WindSpeed9am</th>\n",
              "      <th>WindSpeed3pm</th>\n",
              "      <th>Humidity9am</th>\n",
              "      <th>Humidity3pm</th>\n",
              "      <th>Pressure9am</th>\n",
              "      <th>Pressure3pm</th>\n",
              "      <th>Cloud9am</th>\n",
              "      <th>Cloud3pm</th>\n",
              "      <th>Temp9am</th>\n",
              "      <th>Temp3pm</th>\n",
              "      <th>RainToday</th>\n",
              "      <th>RainTomorrow</th>\n",
              "    </tr>\n",
              "  </thead>\n",
              "  <tbody>\n",
              "    <tr>\n",
              "      <th>0</th>\n",
              "      <td>2008-12-01</td>\n",
              "      <td>13.4</td>\n",
              "      <td>22.9</td>\n",
              "      <td>0.6</td>\n",
              "      <td>NaN</td>\n",
              "      <td>NaN</td>\n",
              "      <td>W</td>\n",
              "      <td>44.0</td>\n",
              "      <td>W</td>\n",
              "      <td>WNW</td>\n",
              "      <td>20.0</td>\n",
              "      <td>24.0</td>\n",
              "      <td>71.0</td>\n",
              "      <td>22.0</td>\n",
              "      <td>1007.7</td>\n",
              "      <td>1007.1</td>\n",
              "      <td>8.0</td>\n",
              "      <td>NaN</td>\n",
              "      <td>16.9</td>\n",
              "      <td>21.8</td>\n",
              "      <td>No</td>\n",
              "      <td>No</td>\n",
              "    </tr>\n",
              "    <tr>\n",
              "      <th>1</th>\n",
              "      <td>2008-12-02</td>\n",
              "      <td>7.4</td>\n",
              "      <td>25.1</td>\n",
              "      <td>0.0</td>\n",
              "      <td>NaN</td>\n",
              "      <td>NaN</td>\n",
              "      <td>WNW</td>\n",
              "      <td>44.0</td>\n",
              "      <td>NNW</td>\n",
              "      <td>WSW</td>\n",
              "      <td>4.0</td>\n",
              "      <td>22.0</td>\n",
              "      <td>44.0</td>\n",
              "      <td>25.0</td>\n",
              "      <td>1010.6</td>\n",
              "      <td>1007.8</td>\n",
              "      <td>NaN</td>\n",
              "      <td>NaN</td>\n",
              "      <td>17.2</td>\n",
              "      <td>24.3</td>\n",
              "      <td>No</td>\n",
              "      <td>No</td>\n",
              "    </tr>\n",
              "    <tr>\n",
              "      <th>2</th>\n",
              "      <td>2008-12-03</td>\n",
              "      <td>12.9</td>\n",
              "      <td>25.7</td>\n",
              "      <td>0.0</td>\n",
              "      <td>NaN</td>\n",
              "      <td>NaN</td>\n",
              "      <td>WSW</td>\n",
              "      <td>46.0</td>\n",
              "      <td>W</td>\n",
              "      <td>WSW</td>\n",
              "      <td>19.0</td>\n",
              "      <td>26.0</td>\n",
              "      <td>38.0</td>\n",
              "      <td>30.0</td>\n",
              "      <td>1007.6</td>\n",
              "      <td>1008.7</td>\n",
              "      <td>NaN</td>\n",
              "      <td>2.0</td>\n",
              "      <td>21.0</td>\n",
              "      <td>23.2</td>\n",
              "      <td>No</td>\n",
              "      <td>No</td>\n",
              "    </tr>\n",
              "    <tr>\n",
              "      <th>3</th>\n",
              "      <td>2008-12-04</td>\n",
              "      <td>9.2</td>\n",
              "      <td>28.0</td>\n",
              "      <td>0.0</td>\n",
              "      <td>NaN</td>\n",
              "      <td>NaN</td>\n",
              "      <td>NE</td>\n",
              "      <td>24.0</td>\n",
              "      <td>SE</td>\n",
              "      <td>E</td>\n",
              "      <td>11.0</td>\n",
              "      <td>9.0</td>\n",
              "      <td>45.0</td>\n",
              "      <td>16.0</td>\n",
              "      <td>1017.6</td>\n",
              "      <td>1012.8</td>\n",
              "      <td>NaN</td>\n",
              "      <td>NaN</td>\n",
              "      <td>18.1</td>\n",
              "      <td>26.5</td>\n",
              "      <td>No</td>\n",
              "      <td>No</td>\n",
              "    </tr>\n",
              "    <tr>\n",
              "      <th>4</th>\n",
              "      <td>2008-12-05</td>\n",
              "      <td>17.5</td>\n",
              "      <td>32.3</td>\n",
              "      <td>1.0</td>\n",
              "      <td>NaN</td>\n",
              "      <td>NaN</td>\n",
              "      <td>W</td>\n",
              "      <td>41.0</td>\n",
              "      <td>ENE</td>\n",
              "      <td>NW</td>\n",
              "      <td>7.0</td>\n",
              "      <td>20.0</td>\n",
              "      <td>82.0</td>\n",
              "      <td>33.0</td>\n",
              "      <td>1010.8</td>\n",
              "      <td>1006.0</td>\n",
              "      <td>7.0</td>\n",
              "      <td>8.0</td>\n",
              "      <td>17.8</td>\n",
              "      <td>29.7</td>\n",
              "      <td>No</td>\n",
              "      <td>No</td>\n",
              "    </tr>\n",
              "  </tbody>\n",
              "</table>\n",
              "</div>"
            ],
            "text/plain": [
              "         Date  MinTemp  MaxTemp  ...  Temp3pm  RainToday  RainTomorrow\n",
              "0  2008-12-01     13.4     22.9  ...     21.8         No            No\n",
              "1  2008-12-02      7.4     25.1  ...     24.3         No            No\n",
              "2  2008-12-03     12.9     25.7  ...     23.2         No            No\n",
              "3  2008-12-04      9.2     28.0  ...     26.5         No            No\n",
              "4  2008-12-05     17.5     32.3  ...     29.7         No            No\n",
              "\n",
              "[5 rows x 22 columns]"
            ]
          },
          "metadata": {
            "tags": []
          },
          "execution_count": 8
        }
      ]
    },
    {
      "cell_type": "code",
      "metadata": {
        "colab": {
          "base_uri": "https://localhost:8080/"
        },
        "id": "YJnJ6jrAiaEM",
        "outputId": "22c7b646-3134-42a6-adf6-1ce46c00f0c4"
      },
      "source": [
        "df.shape"
      ],
      "execution_count": 9,
      "outputs": [
        {
          "output_type": "execute_result",
          "data": {
            "text/plain": [
              "(142193, 22)"
            ]
          },
          "metadata": {
            "tags": []
          },
          "execution_count": 9
        }
      ]
    },
    {
      "cell_type": "markdown",
      "metadata": {
        "id": "h2r7YzEuieiH"
      },
      "source": [
        "We can observe that arround 3 thousand entries have dropped. Now we need to observe the type of our target. "
      ]
    },
    {
      "cell_type": "code",
      "metadata": {
        "id": "kWy_ys1ZO6Eh",
        "colab": {
          "base_uri": "https://localhost:8080/"
        },
        "outputId": "c1fe03fe-e33e-4bfc-a75f-b9022c8067d9"
      },
      "source": [
        "df[target].value_counts()"
      ],
      "execution_count": 10,
      "outputs": [
        {
          "output_type": "execute_result",
          "data": {
            "text/plain": [
              "No     110316\n",
              "Yes     31877\n",
              "Name: RainTomorrow, dtype: int64"
            ]
          },
          "metadata": {
            "tags": []
          },
          "execution_count": 10
        }
      ]
    },
    {
      "cell_type": "markdown",
      "metadata": {
        "id": "PJ4Y7jDFiyeR"
      },
      "source": [
        "We can see that `RainTomorrow` can either be `Yes` or `No` which translates to Classification problem. Lets check the propoptions between these two. "
      ]
    },
    {
      "cell_type": "code",
      "metadata": {
        "id": "9sX87mwLT7bp",
        "colab": {
          "base_uri": "https://localhost:8080/"
        },
        "outputId": "bf71ed88-11de-42c7-a4f2-9b841c5ece2e"
      },
      "source": [
        "df[target].value_counts()/len(df)"
      ],
      "execution_count": 11,
      "outputs": [
        {
          "output_type": "execute_result",
          "data": {
            "text/plain": [
              "No     0.775819\n",
              "Yes    0.224181\n",
              "Name: RainTomorrow, dtype: float64"
            ]
          },
          "metadata": {
            "tags": []
          },
          "execution_count": 11
        }
      ]
    },
    {
      "cell_type": "markdown",
      "metadata": {
        "id": "kSu2poX-jDL6"
      },
      "source": [
        "We can observe that in Australia it rains only 22% of the time. Lets plot this a chart."
      ]
    },
    {
      "cell_type": "code",
      "metadata": {
        "id": "iI6qYNp2TDu-",
        "colab": {
          "base_uri": "https://localhost:8080/",
          "height": 279
        },
        "outputId": "a5ef33cc-1148-4448-9fc9-52d26274dede"
      },
      "source": [
        "sns.countplot(x=target, data=df, palette=\"bwr\")\n",
        "plt.show()"
      ],
      "execution_count": 12,
      "outputs": [
        {
          "output_type": "display_data",
          "data": {
            "image/png": "[encoded data removed]",
            "text/plain": [
              "<Figure size 432x288 with 1 Axes>"
            ]
          },
          "metadata": {
            "tags": [],
            "needs_background": "light"
          }
        }
      ]
    },
    {
      "cell_type": "markdown",
      "metadata": {
        "id": "jJg12x9gFi5T"
      },
      "source": [
        "This also shows that our dataset is imbalanced. This means that whichever model we use, we will get almost perfect accuracy. To mitigate that, we will undersample the minority values. This is done by generating new samples."
      ]
    },
    {
      "cell_type": "code",
      "metadata": {
        "id": "lUApB4cjGbqn",
        "colab": {
          "base_uri": "https://localhost:8080/",
          "height": 279
        },
        "outputId": "d9d1fd8b-97c8-4c2a-dfe7-738bc9840640"
      },
      "source": [
        "yesRain = df[df.RainTomorrow == \"No\"]\r\n",
        "noRain = df[df.RainTomorrow == \"Yes\"]\r\n",
        "\r\n",
        "yes = resample(yesRain, replace = True, n_samples=len(noRain), random_state=123)\r\n",
        "df = pd.concat([noRain, yes])\r\n",
        "\r\n",
        "sns.countplot(x='RainTomorrow', data=df, palette=\"bwr\")\r\n",
        "plt.show()"
      ],
      "execution_count": 13,
      "outputs": [
        {
          "output_type": "display_data",
          "data": {
            "image/png": "[encoded data removed]",
            "text/plain": [
              "<Figure size 432x288 with 1 Axes>"
            ]
          },
          "metadata": {
            "tags": [],
            "needs_background": "light"
          }
        }
      ]
    },
    {
      "cell_type": "markdown",
      "metadata": {
        "id": "T67k9AOLwvXH"
      },
      "source": [
        "## Explore Values"
      ]
    },
    {
      "cell_type": "code",
      "metadata": {
        "colab": {
          "base_uri": "https://localhost:8080/"
        },
        "id": "rBBxMWi2wxxE",
        "outputId": "339fa7d4-a28b-499e-9448-15aca6e2035e"
      },
      "source": [
        "categorical = [name for name in df.columns if df[name].dtype=='O']\n",
        "\n",
        "df[categorical].head()"
      ],
      "execution_count": null,
      "outputs": [
        {
          "output_type": "execute_result",
          "data": {
            "text/html": [
              "<div>\n",
              "<style scoped>\n",
              "    .dataframe tbody tr th:only-of-type {\n",
              "        vertical-align: middle;\n",
              "    }\n",
              "\n",
              "    .dataframe tbody tr th {\n",
              "        vertical-align: top;\n",
              "    }\n",
              "\n",
              "    .dataframe thead th {\n",
              "        text-align: right;\n",
              "    }\n",
              "</style>\n",
              "<table border=\"1\" class=\"dataframe\">\n",
              "  <thead>\n",
              "    <tr style=\"text-align: right;\">\n",
              "      <th></th>\n",
              "      <th>Date</th>\n",
              "      <th>WindGustDir</th>\n",
              "      <th>WindDir9am</th>\n",
              "      <th>WindDir3pm</th>\n",
              "      <th>RainToday</th>\n",
              "      <th>RainTomorrow</th>\n",
              "    </tr>\n",
              "  </thead>\n",
              "  <tbody>\n",
              "    <tr>\n",
              "      <th>8</th>\n",
              "      <td>2008-12-09</td>\n",
              "      <td>NNW</td>\n",
              "      <td>SE</td>\n",
              "      <td>NW</td>\n",
              "      <td>No</td>\n",
              "      <td>Yes</td>\n",
              "    </tr>\n",
              "    <tr>\n",
              "      <th>10</th>\n",
              "      <td>2008-12-11</td>\n",
              "      <td>N</td>\n",
              "      <td>SSE</td>\n",
              "      <td>ESE</td>\n",
              "      <td>No</td>\n",
              "      <td>Yes</td>\n",
              "    </tr>\n",
              "    <tr>\n",
              "      <th>11</th>\n",
              "      <td>2008-12-12</td>\n",
              "      <td>NNE</td>\n",
              "      <td>NE</td>\n",
              "      <td>ENE</td>\n",
              "      <td>Yes</td>\n",
              "      <td>Yes</td>\n",
              "    </tr>\n",
              "    <tr>\n",
              "      <th>12</th>\n",
              "      <td>2008-12-13</td>\n",
              "      <td>W</td>\n",
              "      <td>NNW</td>\n",
              "      <td>NNW</td>\n",
              "      <td>Yes</td>\n",
              "      <td>Yes</td>\n",
              "    </tr>\n",
              "    <tr>\n",
              "      <th>16</th>\n",
              "      <td>2008-12-17</td>\n",
              "      <td>ENE</td>\n",
              "      <td>SSW</td>\n",
              "      <td>E</td>\n",
              "      <td>No</td>\n",
              "      <td>Yes</td>\n",
              "    </tr>\n",
              "  </tbody>\n",
              "</table>\n",
              "</div>"
            ],
            "text/plain": [
              "          Date WindGustDir WindDir9am WindDir3pm RainToday RainTomorrow\n",
              "8   2008-12-09         NNW         SE         NW        No          Yes\n",
              "10  2008-12-11           N        SSE        ESE        No          Yes\n",
              "11  2008-12-12         NNE         NE        ENE       Yes          Yes\n",
              "12  2008-12-13           W        NNW        NNW       Yes          Yes\n",
              "16  2008-12-17         ENE        SSW          E        No          Yes"
            ]
          },
          "metadata": {
            "tags": []
          },
          "execution_count": 11
        }
      ]
    },
    {
      "cell_type": "markdown",
      "metadata": {
        "id": "jz0OPcKdxSts"
      },
      "source": [
        "Look for missing values of the categorical values"
      ]
    },
    {
      "cell_type": "code",
      "metadata": {
        "colab": {
          "base_uri": "https://localhost:8080/"
        },
        "id": "xoBL1LZoxcCq",
        "outputId": "e910e1d6-2bf7-4674-c9b9-db9047ebd371"
      },
      "source": [
        "df[categorical].isnull().sum()"
      ],
      "execution_count": null,
      "outputs": [
        {
          "output_type": "execute_result",
          "data": {
            "text/plain": [
              "Date               0\n",
              "WindGustDir     4434\n",
              "WindDir9am      4217\n",
              "WindDir3pm      1835\n",
              "RainToday        867\n",
              "RainTomorrow       0\n",
              "dtype: int64"
            ]
          },
          "metadata": {
            "tags": []
          },
          "execution_count": 12
        }
      ]
    },
    {
      "cell_type": "markdown",
      "metadata": {
        "id": "cic_HKTbBijz"
      },
      "source": [
        "Lets replace all missing ones with the most common one."
      ]
    },
    {
      "cell_type": "code",
      "metadata": {
        "id": "Y6T04sFqBRgQ"
      },
      "source": [
        "contains_null = [col for col in categorical if df[col].isnull().sum()!=0]\n",
        "\n",
        "for col in contains_null:\n",
        "  most_common = df[col].mode()\n",
        "  df[col].fillna(most_common[0], inplace=True)"
      ],
      "execution_count": null,
      "outputs": []
    },
    {
      "cell_type": "code",
      "metadata": {
        "colab": {
          "base_uri": "https://localhost:8080/"
        },
        "id": "0IkSrghcB23k",
        "outputId": "99ffd941-52d7-4111-ff46-e33f1765e080"
      },
      "source": [
        "df[categorical].isnull().sum()"
      ],
      "execution_count": null,
      "outputs": [
        {
          "output_type": "execute_result",
          "data": {
            "text/plain": [
              "Date            0\n",
              "WindGustDir     0\n",
              "WindDir9am      0\n",
              "WindDir3pm      0\n",
              "RainToday       0\n",
              "RainTomorrow    0\n",
              "dtype: int64"
            ]
          },
          "metadata": {
            "tags": []
          },
          "execution_count": 14
        }
      ]
    },
    {
      "cell_type": "code",
      "metadata": {
        "colab": {
          "base_uri": "https://localhost:8080/"
        },
        "id": "ajl3YZ1ixr7x",
        "outputId": "fdefcbed-2f7a-4fd7-86c0-2d55c6b323e6"
      },
      "source": [
        "numerical = [name for name in df.columns if df[name].dtype!='O']\n",
        "\n",
        "df[numerical].head()"
      ],
      "execution_count": null,
      "outputs": [
        {
          "output_type": "execute_result",
          "data": {
            "text/html": [
              "<div>\n",
              "<style scoped>\n",
              "    .dataframe tbody tr th:only-of-type {\n",
              "        vertical-align: middle;\n",
              "    }\n",
              "\n",
              "    .dataframe tbody tr th {\n",
              "        vertical-align: top;\n",
              "    }\n",
              "\n",
              "    .dataframe thead th {\n",
              "        text-align: right;\n",
              "    }\n",
              "</style>\n",
              "<table border=\"1\" class=\"dataframe\">\n",
              "  <thead>\n",
              "    <tr style=\"text-align: right;\">\n",
              "      <th></th>\n",
              "      <th>MinTemp</th>\n",
              "      <th>MaxTemp</th>\n",
              "      <th>Rainfall</th>\n",
              "      <th>Evaporation</th>\n",
              "      <th>Sunshine</th>\n",
              "      <th>WindGustSpeed</th>\n",
              "      <th>WindSpeed9am</th>\n",
              "      <th>WindSpeed3pm</th>\n",
              "      <th>Humidity9am</th>\n",
              "      <th>Humidity3pm</th>\n",
              "      <th>Pressure9am</th>\n",
              "      <th>Pressure3pm</th>\n",
              "      <th>Cloud9am</th>\n",
              "      <th>Cloud3pm</th>\n",
              "      <th>Temp9am</th>\n",
              "      <th>Temp3pm</th>\n",
              "    </tr>\n",
              "  </thead>\n",
              "  <tbody>\n",
              "    <tr>\n",
              "      <th>8</th>\n",
              "      <td>9.7</td>\n",
              "      <td>31.9</td>\n",
              "      <td>0.0</td>\n",
              "      <td>NaN</td>\n",
              "      <td>NaN</td>\n",
              "      <td>80.0</td>\n",
              "      <td>7.0</td>\n",
              "      <td>28.0</td>\n",
              "      <td>42.0</td>\n",
              "      <td>9.0</td>\n",
              "      <td>1008.9</td>\n",
              "      <td>1003.6</td>\n",
              "      <td>NaN</td>\n",
              "      <td>NaN</td>\n",
              "      <td>18.3</td>\n",
              "      <td>30.2</td>\n",
              "    </tr>\n",
              "    <tr>\n",
              "      <th>10</th>\n",
              "      <td>13.4</td>\n",
              "      <td>30.4</td>\n",
              "      <td>0.0</td>\n",
              "      <td>NaN</td>\n",
              "      <td>NaN</td>\n",
              "      <td>30.0</td>\n",
              "      <td>17.0</td>\n",
              "      <td>6.0</td>\n",
              "      <td>48.0</td>\n",
              "      <td>22.0</td>\n",
              "      <td>1011.8</td>\n",
              "      <td>1008.7</td>\n",
              "      <td>NaN</td>\n",
              "      <td>NaN</td>\n",
              "      <td>20.4</td>\n",
              "      <td>28.8</td>\n",
              "    </tr>\n",
              "    <tr>\n",
              "      <th>11</th>\n",
              "      <td>15.9</td>\n",
              "      <td>21.7</td>\n",
              "      <td>2.2</td>\n",
              "      <td>NaN</td>\n",
              "      <td>NaN</td>\n",
              "      <td>31.0</td>\n",
              "      <td>15.0</td>\n",
              "      <td>13.0</td>\n",
              "      <td>89.0</td>\n",
              "      <td>91.0</td>\n",
              "      <td>1010.5</td>\n",
              "      <td>1004.2</td>\n",
              "      <td>8.0</td>\n",
              "      <td>8.0</td>\n",
              "      <td>15.9</td>\n",
              "      <td>17.0</td>\n",
              "    </tr>\n",
              "    <tr>\n",
              "      <th>12</th>\n",
              "      <td>15.9</td>\n",
              "      <td>18.6</td>\n",
              "      <td>15.6</td>\n",
              "      <td>NaN</td>\n",
              "      <td>NaN</td>\n",
              "      <td>61.0</td>\n",
              "      <td>28.0</td>\n",
              "      <td>28.0</td>\n",
              "      <td>76.0</td>\n",
              "      <td>93.0</td>\n",
              "      <td>994.3</td>\n",
              "      <td>993.0</td>\n",
              "      <td>8.0</td>\n",
              "      <td>8.0</td>\n",
              "      <td>17.4</td>\n",
              "      <td>15.8</td>\n",
              "    </tr>\n",
              "    <tr>\n",
              "      <th>16</th>\n",
              "      <td>14.1</td>\n",
              "      <td>20.9</td>\n",
              "      <td>0.0</td>\n",
              "      <td>NaN</td>\n",
              "      <td>NaN</td>\n",
              "      <td>22.0</td>\n",
              "      <td>11.0</td>\n",
              "      <td>9.0</td>\n",
              "      <td>69.0</td>\n",
              "      <td>82.0</td>\n",
              "      <td>1012.2</td>\n",
              "      <td>1010.4</td>\n",
              "      <td>8.0</td>\n",
              "      <td>1.0</td>\n",
              "      <td>17.2</td>\n",
              "      <td>18.1</td>\n",
              "    </tr>\n",
              "  </tbody>\n",
              "</table>\n",
              "</div>"
            ],
            "text/plain": [
              "    MinTemp  MaxTemp  Rainfall  ...  Cloud3pm  Temp9am  Temp3pm\n",
              "8       9.7     31.9       0.0  ...       NaN     18.3     30.2\n",
              "10     13.4     30.4       0.0  ...       NaN     20.4     28.8\n",
              "11     15.9     21.7       2.2  ...       8.0     15.9     17.0\n",
              "12     15.9     18.6      15.6  ...       8.0     17.4     15.8\n",
              "16     14.1     20.9       0.0  ...       1.0     17.2     18.1\n",
              "\n",
              "[5 rows x 16 columns]"
            ]
          },
          "metadata": {
            "tags": []
          },
          "execution_count": 15
        }
      ]
    },
    {
      "cell_type": "markdown",
      "metadata": {
        "id": "PhUW_fbxx0Io"
      },
      "source": [
        "Look for missing values in the numerical data"
      ]
    },
    {
      "cell_type": "code",
      "metadata": {
        "colab": {
          "base_uri": "https://localhost:8080/"
        },
        "id": "momsF77Ux2ga",
        "outputId": "5e1a7bf0-31d6-4a08-e296-a08b1210251f"
      },
      "source": [
        "df[numerical].isnull().sum()"
      ],
      "execution_count": null,
      "outputs": [
        {
          "output_type": "execute_result",
          "data": {
            "text/plain": [
              "MinTemp            307\n",
              "MaxTemp            143\n",
              "Rainfall           867\n",
              "Evaporation      27627\n",
              "Sunshine         30374\n",
              "WindGustSpeed     4403\n",
              "WindSpeed9am       605\n",
              "WindSpeed3pm      1230\n",
              "Humidity9am        894\n",
              "Humidity3pm       1755\n",
              "Pressure9am       6297\n",
              "Pressure3pm       6284\n",
              "Cloud9am         23530\n",
              "Cloud3pm         24822\n",
              "Temp9am            476\n",
              "Temp3pm           1332\n",
              "dtype: int64"
            ]
          },
          "metadata": {
            "tags": []
          },
          "execution_count": 16
        }
      ]
    },
    {
      "cell_type": "markdown",
      "metadata": {
        "id": "v1C7fpStza1W"
      },
      "source": [
        "Lets check the info of the numerical values"
      ]
    },
    {
      "cell_type": "code",
      "metadata": {
        "colab": {
          "base_uri": "https://localhost:8080/"
        },
        "id": "Is1e2hABzdcm",
        "outputId": "619f62b9-4787-49ac-8d71-834c68c6a06d"
      },
      "source": [
        "df[numerical].describe()"
      ],
      "execution_count": null,
      "outputs": [
        {
          "output_type": "execute_result",
          "data": {
            "text/html": [
              "<div>\n",
              "<style scoped>\n",
              "    .dataframe tbody tr th:only-of-type {\n",
              "        vertical-align: middle;\n",
              "    }\n",
              "\n",
              "    .dataframe tbody tr th {\n",
              "        vertical-align: top;\n",
              "    }\n",
              "\n",
              "    .dataframe thead th {\n",
              "        text-align: right;\n",
              "    }\n",
              "</style>\n",
              "<table border=\"1\" class=\"dataframe\">\n",
              "  <thead>\n",
              "    <tr style=\"text-align: right;\">\n",
              "      <th></th>\n",
              "      <th>MinTemp</th>\n",
              "      <th>MaxTemp</th>\n",
              "      <th>Rainfall</th>\n",
              "      <th>Evaporation</th>\n",
              "      <th>Sunshine</th>\n",
              "      <th>WindGustSpeed</th>\n",
              "      <th>WindSpeed9am</th>\n",
              "      <th>WindSpeed3pm</th>\n",
              "      <th>Humidity9am</th>\n",
              "      <th>Humidity3pm</th>\n",
              "      <th>Pressure9am</th>\n",
              "      <th>Pressure3pm</th>\n",
              "      <th>Cloud9am</th>\n",
              "      <th>Cloud3pm</th>\n",
              "      <th>Temp9am</th>\n",
              "      <th>Temp3pm</th>\n",
              "    </tr>\n",
              "  </thead>\n",
              "  <tbody>\n",
              "    <tr>\n",
              "      <th>count</th>\n",
              "      <td>63447.000000</td>\n",
              "      <td>63611.000000</td>\n",
              "      <td>62887.000000</td>\n",
              "      <td>36127.000000</td>\n",
              "      <td>33380.000000</td>\n",
              "      <td>59351.000000</td>\n",
              "      <td>63149.000000</td>\n",
              "      <td>62524.000000</td>\n",
              "      <td>62860.000000</td>\n",
              "      <td>61999.000000</td>\n",
              "      <td>57457.000000</td>\n",
              "      <td>57470.000000</td>\n",
              "      <td>40224.000000</td>\n",
              "      <td>38932.000000</td>\n",
              "      <td>63278.000000</td>\n",
              "      <td>62422.000000</td>\n",
              "    </tr>\n",
              "    <tr>\n",
              "      <th>mean</th>\n",
              "      <td>12.535220</td>\n",
              "      <td>22.454286</td>\n",
              "      <td>3.674941</td>\n",
              "      <td>5.153522</td>\n",
              "      <td>6.491836</td>\n",
              "      <td>42.134454</td>\n",
              "      <td>14.551283</td>\n",
              "      <td>19.177420</td>\n",
              "      <td>72.102195</td>\n",
              "      <td>57.673301</td>\n",
              "      <td>1016.474001</td>\n",
              "      <td>1014.198163</td>\n",
              "      <td>5.056906</td>\n",
              "      <td>5.207875</td>\n",
              "      <td>16.858518</td>\n",
              "      <td>20.779054</td>\n",
              "    </tr>\n",
              "    <tr>\n",
              "      <th>std</th>\n",
              "      <td>6.391187</td>\n",
              "      <td>7.125528</td>\n",
              "      <td>10.988083</td>\n",
              "      <td>4.039621</td>\n",
              "      <td>3.934987</td>\n",
              "      <td>14.697019</td>\n",
              "      <td>9.202797</td>\n",
              "      <td>9.167757</td>\n",
              "      <td>18.571167</td>\n",
              "      <td>21.766891</td>\n",
              "      <td>7.328239</td>\n",
              "      <td>7.269191</td>\n",
              "      <td>2.775844</td>\n",
              "      <td>2.617885</td>\n",
              "      <td>6.453520</td>\n",
              "      <td>6.946309</td>\n",
              "    </tr>\n",
              "    <tr>\n",
              "      <th>min</th>\n",
              "      <td>-8.200000</td>\n",
              "      <td>-4.100000</td>\n",
              "      <td>0.000000</td>\n",
              "      <td>0.000000</td>\n",
              "      <td>0.000000</td>\n",
              "      <td>7.000000</td>\n",
              "      <td>0.000000</td>\n",
              "      <td>0.000000</td>\n",
              "      <td>0.000000</td>\n",
              "      <td>0.000000</td>\n",
              "      <td>980.500000</td>\n",
              "      <td>977.100000</td>\n",
              "      <td>0.000000</td>\n",
              "      <td>0.000000</td>\n",
              "      <td>-7.000000</td>\n",
              "      <td>-4.400000</td>\n",
              "    </tr>\n",
              "    <tr>\n",
              "      <th>25%</th>\n",
              "      <td>7.900000</td>\n",
              "      <td>17.200000</td>\n",
              "      <td>0.000000</td>\n",
              "      <td>2.400000</td>\n",
              "      <td>3.200000</td>\n",
              "      <td>31.000000</td>\n",
              "      <td>7.000000</td>\n",
              "      <td>13.000000</td>\n",
              "      <td>60.000000</td>\n",
              "      <td>43.000000</td>\n",
              "      <td>1011.700000</td>\n",
              "      <td>1009.300000</td>\n",
              "      <td>2.000000</td>\n",
              "      <td>3.000000</td>\n",
              "      <td>12.100000</td>\n",
              "      <td>15.700000</td>\n",
              "    </tr>\n",
              "    <tr>\n",
              "      <th>50%</th>\n",
              "      <td>12.200000</td>\n",
              "      <td>21.700000</td>\n",
              "      <td>0.000000</td>\n",
              "      <td>4.400000</td>\n",
              "      <td>6.800000</td>\n",
              "      <td>41.000000</td>\n",
              "      <td>13.000000</td>\n",
              "      <td>19.000000</td>\n",
              "      <td>74.000000</td>\n",
              "      <td>58.000000</td>\n",
              "      <td>1016.400000</td>\n",
              "      <td>1014.100000</td>\n",
              "      <td>6.000000</td>\n",
              "      <td>6.000000</td>\n",
              "      <td>16.500000</td>\n",
              "      <td>20.100000</td>\n",
              "    </tr>\n",
              "    <tr>\n",
              "      <th>75%</th>\n",
              "      <td>17.200000</td>\n",
              "      <td>27.400000</td>\n",
              "      <td>2.200000</td>\n",
              "      <td>7.000000</td>\n",
              "      <td>9.900000</td>\n",
              "      <td>50.000000</td>\n",
              "      <td>20.000000</td>\n",
              "      <td>24.000000</td>\n",
              "      <td>87.000000</td>\n",
              "      <td>73.000000</td>\n",
              "      <td>1021.400000</td>\n",
              "      <td>1019.100000</td>\n",
              "      <td>7.000000</td>\n",
              "      <td>7.000000</td>\n",
              "      <td>21.400000</td>\n",
              "      <td>25.500000</td>\n",
              "    </tr>\n",
              "    <tr>\n",
              "      <th>max</th>\n",
              "      <td>30.700000</td>\n",
              "      <td>47.300000</td>\n",
              "      <td>371.000000</td>\n",
              "      <td>145.000000</td>\n",
              "      <td>14.500000</td>\n",
              "      <td>135.000000</td>\n",
              "      <td>87.000000</td>\n",
              "      <td>87.000000</td>\n",
              "      <td>100.000000</td>\n",
              "      <td>100.000000</td>\n",
              "      <td>1040.600000</td>\n",
              "      <td>1037.900000</td>\n",
              "      <td>9.000000</td>\n",
              "      <td>8.000000</td>\n",
              "      <td>39.400000</td>\n",
              "      <td>46.700000</td>\n",
              "    </tr>\n",
              "  </tbody>\n",
              "</table>\n",
              "</div>"
            ],
            "text/plain": [
              "            MinTemp       MaxTemp  ...       Temp9am       Temp3pm\n",
              "count  63447.000000  63611.000000  ...  63278.000000  62422.000000\n",
              "mean      12.535220     22.454286  ...     16.858518     20.779054\n",
              "std        6.391187      7.125528  ...      6.453520      6.946309\n",
              "min       -8.200000     -4.100000  ...     -7.000000     -4.400000\n",
              "25%        7.900000     17.200000  ...     12.100000     15.700000\n",
              "50%       12.200000     21.700000  ...     16.500000     20.100000\n",
              "75%       17.200000     27.400000  ...     21.400000     25.500000\n",
              "max       30.700000     47.300000  ...     39.400000     46.700000\n",
              "\n",
              "[8 rows x 16 columns]"
            ]
          },
          "metadata": {
            "tags": []
          },
          "execution_count": 17
        }
      ]
    },
    {
      "cell_type": "markdown",
      "metadata": {
        "id": "cctiuNdVyBNR"
      },
      "source": [
        "Lets check if there are any outliers in numerical values by drawing some box plots."
      ]
    },
    {
      "cell_type": "code",
      "metadata": {
        "colab": {
          "base_uri": "https://localhost:8080/"
        },
        "id": "VrQDPLvJyJwp",
        "outputId": "a7222200-ec2d-4ddf-a09c-e705b9c5aba1"
      },
      "source": [
        "plt.figure(figsize=(28,16))\n",
        "\n",
        "for index, value in enumerate(numerical):\n",
        "  n = index + 1\n",
        "  plt.subplot(4, 4, n)\n",
        "  fig = df.boxplot(column=value)\n",
        "  fig.set_ylabel(value)"
      ],
      "execution_count": null,
      "outputs": [
        {
          "output_type": "display_data",
          "data": {
            "image/png": "[encoded data removed]",
            "text/plain": [
              "<Figure size 2016x1152 with 16 Axes>"
            ]
          },
          "metadata": {
            "tags": [],
            "needs_background": "light"
          }
        }
      ]
    },
    {
      "cell_type": "markdown",
      "metadata": {
        "id": "g3-CRJke2CXx"
      },
      "source": [
        "We can observe from these that RainFall, WindSpeed 9am, WindSpeed 3pm and Evaporation might have outliers. Letse check these more in detail."
      ]
    },
    {
      "cell_type": "code",
      "metadata": {
        "colab": {
          "base_uri": "https://localhost:8080/"
        },
        "id": "1EnJYY3l2TBf",
        "outputId": "5d2ddb8b-79f9-4957-de5e-b26ee72da230"
      },
      "source": [
        "outliers = ['Rainfall', 'WindSpeed9am', 'WindSpeed3pm', 'Evaporation']\n",
        "\n",
        "plt.figure(figsize=(15,15))\n",
        "\n",
        "for index, value in enumerate(outliers):\n",
        "  n = index + 1\n",
        "  plt.subplot(2, 2, n)\n",
        "  fig = df.boxplot(column=value)\n",
        "  fig.set_ylabel(value)"
      ],
      "execution_count": null,
      "outputs": [
        {
          "output_type": "display_data",
          "data": {
            "image/png": "[encoded data removed]",
            "text/plain": [
              "<Figure size 1080x1080 with 4 Axes>"
            ]
          },
          "metadata": {
            "tags": [],
            "needs_background": "light"
          }
        }
      ]
    },
    {
      "cell_type": "markdown",
      "metadata": {
        "id": "2HgtEAg_4pB9"
      },
      "source": [
        "Finding the upper and lower bounds of the outliers using IQR"
      ]
    },
    {
      "cell_type": "code",
      "metadata": {
        "colab": {
          "base_uri": "https://localhost:8080/"
        },
        "id": "Jel3eYXZ4tXe",
        "outputId": "2e778bcf-86f6-43f9-cdd9-5ce3c2dc1185"
      },
      "source": [
        "# Rainfall find outlier using IQR and replace\n",
        "\n",
        "IQR = df.Rainfall.quantile(0.75) - df.Rainfall.quantile(0.25)\n",
        "Upper_boundery = df.Rainfall.quantile(0.75) + (IQR * 3)\n",
        "\n",
        "median = df['Rainfall'].median()\n",
        "\n",
        "print(f\"Upper boundary is: {Upper_boundery} and Median is {median}\")\n",
        "\n",
        "df[\"Rainfall\"] = np.where(df[\"Rainfall\"] >Upper_boundery, median,df['Rainfall'])"
      ],
      "execution_count": null,
      "outputs": [
        {
          "output_type": "stream",
          "text": [
            "Upper boundary is: 8.8 and Median is 0.0\n"
          ],
          "name": "stdout"
        }
      ]
    },
    {
      "cell_type": "code",
      "metadata": {
        "colab": {
          "base_uri": "https://localhost:8080/"
        },
        "id": "4llhZ0fM_d6d",
        "outputId": "3d9ceac7-c42a-4bbb-e704-ef859965c823"
      },
      "source": [
        "# Windspeed 9 am\n",
        "IQR = df.WindSpeed9am.quantile(0.75) - df.WindSpeed9am.quantile(0.25)\n",
        "Upper_boundery = df.WindSpeed9am.quantile(0.75) + (IQR * 3)\n",
        "\n",
        "median = df['WindSpeed9am'].median()\n",
        "\n",
        "print(f\"Upper boundary is: {Upper_boundery} and Median is {median}\")\n",
        "\n",
        "df[\"WindSpeed9am\"] = np.where(df[\"WindSpeed9am\"] >Upper_boundery, median,df['WindSpeed9am'])"
      ],
      "execution_count": null,
      "outputs": [
        {
          "output_type": "stream",
          "text": [
            "Upper boundary is: 59.0 and Median is 13.0\n"
          ],
          "name": "stdout"
        }
      ]
    },
    {
      "cell_type": "code",
      "metadata": {
        "colab": {
          "base_uri": "https://localhost:8080/"
        },
        "id": "cpXM7N3F_qDy",
        "outputId": "27a05665-cf5a-44ad-a95c-9b97d4f520bd"
      },
      "source": [
        "# Windspeed 3 pm\n",
        "IQR = df.WindSpeed3pm.quantile(0.75) - df.WindSpeed3pm.quantile(0.25)\n",
        "Upper_boundery = df.WindSpeed3pm.quantile(0.75) + (IQR * 3)\n",
        "\n",
        "median = df['WindSpeed3pm'].median()\n",
        "\n",
        "print(f\"Upper boundary is: {Upper_boundery} and Median is {median}\")\n",
        "\n",
        "df[\"WindSpeed3pm\"] = np.where(df[\"WindSpeed3pm\"] >Upper_boundery, median,df['WindSpeed3pm'])"
      ],
      "execution_count": null,
      "outputs": [
        {
          "output_type": "stream",
          "text": [
            "Upper boundary is: 57.0 and Median is 19.0\n"
          ],
          "name": "stdout"
        }
      ]
    },
    {
      "cell_type": "code",
      "metadata": {
        "colab": {
          "base_uri": "https://localhost:8080/"
        },
        "id": "R8H6EeV2_wHS",
        "outputId": "c4cbbfee-db0e-4f44-ba31-cc9efc25be4d"
      },
      "source": [
        "# Evaporation\n",
        "IQR = df.Evaporation.quantile(0.75) - df.Evaporation.quantile(0.25)\n",
        "Upper_boundery = df.Evaporation.quantile(0.75) + (IQR * 3)\n",
        "\n",
        "median = df['Evaporation'].median()\n",
        "\n",
        "print(f\"Upper boundary is: {Upper_boundery} and Median is {median}\")\n",
        "\n",
        "df[\"Evaporation\"] = np.where(df[\"Evaporation\"] >Upper_boundery, median,df['Evaporation'])"
      ],
      "execution_count": null,
      "outputs": [
        {
          "output_type": "stream",
          "text": [
            "Upper boundary is: 20.799999999999997 and Median is 4.4\n"
          ],
          "name": "stdout"
        }
      ]
    },
    {
      "cell_type": "markdown",
      "metadata": {
        "id": "iLuOOXg9_1Cp"
      },
      "source": [
        "Lets check the box plots after fixing the outliers"
      ]
    },
    {
      "cell_type": "code",
      "metadata": {
        "colab": {
          "base_uri": "https://localhost:8080/"
        },
        "id": "O13_y6NB_5cr",
        "outputId": "3e67dc3d-8ee9-4ad5-8bd5-5c5114c7ad06"
      },
      "source": [
        "plt.figure(figsize=(15,15))\n",
        "\n",
        "for index, value in enumerate(outliers):\n",
        "  n = index + 1\n",
        "  plt.subplot(2, 2, n)\n",
        "  fig = df.boxplot(column=value)\n",
        "  fig.set_ylabel(value)"
      ],
      "execution_count": null,
      "outputs": [
        {
          "output_type": "display_data",
          "data": {
            "image/png": "[encoded data removed]",
            "text/plain": [
              "<Figure size 1080x1080 with 4 Axes>"
            ]
          },
          "metadata": {
            "tags": [],
            "needs_background": "light"
          }
        }
      ]
    },
    {
      "cell_type": "markdown",
      "metadata": {
        "id": "eldlh724AG-Q"
      },
      "source": [
        "Looks better now.\n",
        "\n",
        "Now lets replaces all the NA numerical values with the median one."
      ]
    },
    {
      "cell_type": "code",
      "metadata": {
        "colab": {
          "base_uri": "https://localhost:8080/"
        },
        "id": "_TSa9dERAIo3",
        "outputId": "aa8cbec2-9a0c-40ab-9a13-e7e1644a2089"
      },
      "source": [
        "for col in numerical:\n",
        "  col_median = df[col].median()\n",
        "  df[col].fillna(col_median, inplace=True)\n",
        "\n",
        "df[numerical].isnull().sum()"
      ],
      "execution_count": null,
      "outputs": [
        {
          "output_type": "execute_result",
          "data": {
            "text/plain": [
              "MinTemp          0\n",
              "MaxTemp          0\n",
              "Rainfall         0\n",
              "Evaporation      0\n",
              "Sunshine         0\n",
              "WindGustSpeed    0\n",
              "WindSpeed9am     0\n",
              "WindSpeed3pm     0\n",
              "Humidity9am      0\n",
              "Humidity3pm      0\n",
              "Pressure9am      0\n",
              "Pressure3pm      0\n",
              "Cloud9am         0\n",
              "Cloud3pm         0\n",
              "Temp9am          0\n",
              "Temp3pm          0\n",
              "dtype: int64"
            ]
          },
          "metadata": {
            "tags": []
          },
          "execution_count": 25
        }
      ]
    },
    {
      "cell_type": "markdown",
      "metadata": {
        "id": "WUNwFNTVA66Q"
      },
      "source": [
        "Now theres no null values anymore. Lastly encode categorical values\n",
        "\n",
        "\n"
      ]
    },
    {
      "cell_type": "code",
      "metadata": {
        "id": "AU33GnOuM68Y",
        "colab": {
          "base_uri": "https://localhost:8080/"
        },
        "outputId": "a1d123eb-a14f-4148-dd19-2d80858ad52d"
      },
      "source": [
        "df = df.apply(LabelEncoder().fit_transform)\n",
        "\n",
        "df.head()"
      ],
      "execution_count": null,
      "outputs": [
        {
          "output_type": "execute_result",
          "data": {
            "text/html": [
              "<div>\n",
              "<style scoped>\n",
              "    .dataframe tbody tr th:only-of-type {\n",
              "        vertical-align: middle;\n",
              "    }\n",
              "\n",
              "    .dataframe tbody tr th {\n",
              "        vertical-align: top;\n",
              "    }\n",
              "\n",
              "    .dataframe thead th {\n",
              "        text-align: right;\n",
              "    }\n",
              "</style>\n",
              "<table border=\"1\" class=\"dataframe\">\n",
              "  <thead>\n",
              "    <tr style=\"text-align: right;\">\n",
              "      <th></th>\n",
              "      <th>Date</th>\n",
              "      <th>MinTemp</th>\n",
              "      <th>MaxTemp</th>\n",
              "      <th>Rainfall</th>\n",
              "      <th>Evaporation</th>\n",
              "      <th>Sunshine</th>\n",
              "      <th>WindGustDir</th>\n",
              "      <th>WindGustSpeed</th>\n",
              "      <th>WindDir9am</th>\n",
              "      <th>WindDir3pm</th>\n",
              "      <th>WindSpeed9am</th>\n",
              "      <th>WindSpeed3pm</th>\n",
              "      <th>Humidity9am</th>\n",
              "      <th>Humidity3pm</th>\n",
              "      <th>Pressure9am</th>\n",
              "      <th>Pressure3pm</th>\n",
              "      <th>Cloud9am</th>\n",
              "      <th>Cloud3pm</th>\n",
              "      <th>Temp9am</th>\n",
              "      <th>Temp3pm</th>\n",
              "      <th>RainToday</th>\n",
              "      <th>RainTomorrow</th>\n",
              "    </tr>\n",
              "  </thead>\n",
              "  <tbody>\n",
              "    <tr>\n",
              "      <th>8</th>\n",
              "      <td>300</td>\n",
              "      <td>169</td>\n",
              "      <td>346</td>\n",
              "      <td>0</td>\n",
              "      <td>44</td>\n",
              "      <td>68</td>\n",
              "      <td>6</td>\n",
              "      <td>39</td>\n",
              "      <td>9</td>\n",
              "      <td>7</td>\n",
              "      <td>4</td>\n",
              "      <td>15</td>\n",
              "      <td>42</td>\n",
              "      <td>9</td>\n",
              "      <td>223</td>\n",
              "      <td>194</td>\n",
              "      <td>6</td>\n",
              "      <td>6</td>\n",
              "      <td>231</td>\n",
              "      <td>341</td>\n",
              "      <td>0</td>\n",
              "      <td>1</td>\n",
              "    </tr>\n",
              "    <tr>\n",
              "      <th>10</th>\n",
              "      <td>302</td>\n",
              "      <td>206</td>\n",
              "      <td>331</td>\n",
              "      <td>0</td>\n",
              "      <td>44</td>\n",
              "      <td>68</td>\n",
              "      <td>3</td>\n",
              "      <td>12</td>\n",
              "      <td>10</td>\n",
              "      <td>2</td>\n",
              "      <td>9</td>\n",
              "      <td>3</td>\n",
              "      <td>48</td>\n",
              "      <td>22</td>\n",
              "      <td>252</td>\n",
              "      <td>245</td>\n",
              "      <td>6</td>\n",
              "      <td>6</td>\n",
              "      <td>252</td>\n",
              "      <td>327</td>\n",
              "      <td>0</td>\n",
              "      <td>1</td>\n",
              "    </tr>\n",
              "    <tr>\n",
              "      <th>11</th>\n",
              "      <td>303</td>\n",
              "      <td>231</td>\n",
              "      <td>244</td>\n",
              "      <td>22</td>\n",
              "      <td>44</td>\n",
              "      <td>68</td>\n",
              "      <td>5</td>\n",
              "      <td>13</td>\n",
              "      <td>4</td>\n",
              "      <td>1</td>\n",
              "      <td>8</td>\n",
              "      <td>7</td>\n",
              "      <td>89</td>\n",
              "      <td>91</td>\n",
              "      <td>239</td>\n",
              "      <td>200</td>\n",
              "      <td>8</td>\n",
              "      <td>8</td>\n",
              "      <td>207</td>\n",
              "      <td>209</td>\n",
              "      <td>1</td>\n",
              "      <td>1</td>\n",
              "    </tr>\n",
              "    <tr>\n",
              "      <th>12</th>\n",
              "      <td>304</td>\n",
              "      <td>231</td>\n",
              "      <td>213</td>\n",
              "      <td>0</td>\n",
              "      <td>44</td>\n",
              "      <td>68</td>\n",
              "      <td>13</td>\n",
              "      <td>29</td>\n",
              "      <td>6</td>\n",
              "      <td>6</td>\n",
              "      <td>15</td>\n",
              "      <td>15</td>\n",
              "      <td>76</td>\n",
              "      <td>93</td>\n",
              "      <td>77</td>\n",
              "      <td>88</td>\n",
              "      <td>8</td>\n",
              "      <td>8</td>\n",
              "      <td>222</td>\n",
              "      <td>197</td>\n",
              "      <td>1</td>\n",
              "      <td>1</td>\n",
              "    </tr>\n",
              "    <tr>\n",
              "      <th>16</th>\n",
              "      <td>308</td>\n",
              "      <td>213</td>\n",
              "      <td>236</td>\n",
              "      <td>0</td>\n",
              "      <td>44</td>\n",
              "      <td>68</td>\n",
              "      <td>1</td>\n",
              "      <td>8</td>\n",
              "      <td>11</td>\n",
              "      <td>0</td>\n",
              "      <td>6</td>\n",
              "      <td>5</td>\n",
              "      <td>69</td>\n",
              "      <td>82</td>\n",
              "      <td>256</td>\n",
              "      <td>262</td>\n",
              "      <td>8</td>\n",
              "      <td>1</td>\n",
              "      <td>220</td>\n",
              "      <td>220</td>\n",
              "      <td>0</td>\n",
              "      <td>1</td>\n",
              "    </tr>\n",
              "  </tbody>\n",
              "</table>\n",
              "</div>"
            ],
            "text/plain": [
              "    Date  MinTemp  MaxTemp  Rainfall  ...  Temp9am  Temp3pm  RainToday  RainTomorrow\n",
              "8    300      169      346         0  ...      231      341          0             1\n",
              "10   302      206      331         0  ...      252      327          0             1\n",
              "11   303      231      244        22  ...      207      209          1             1\n",
              "12   304      231      213         0  ...      222      197          1             1\n",
              "16   308      213      236         0  ...      220      220          0             1\n",
              "\n",
              "[5 rows x 22 columns]"
            ]
          },
          "metadata": {
            "tags": []
          },
          "execution_count": 26
        }
      ]
    },
    {
      "cell_type": "markdown",
      "metadata": {
        "id": "eXBus87NRtXf"
      },
      "source": [
        "Reshuffle the data before spliting. We notcied that there are duplicate entries in the data. We deicded to drop them, as reshuffling is not possible with them. "
      ]
    },
    {
      "cell_type": "code",
      "metadata": {
        "id": "QxmLPRA1CqCh"
      },
      "source": [
        "df.drop_duplicates(keep = False, inplace = True)\n",
        "\n",
        "df = df.reindex(np.random.permutation(df.index))"
      ],
      "execution_count": null,
      "outputs": []
    },
    {
      "cell_type": "markdown",
      "metadata": {
        "id": "RQ003Z3-Rblr"
      },
      "source": [
        "Split data into train and test set"
      ]
    },
    {
      "cell_type": "code",
      "metadata": {
        "id": "8vP7lhnLIqAX",
        "colab": {
          "base_uri": "https://localhost:8080/"
        },
        "outputId": "b7bca254-8b22-4804-ae1c-3914313bbbb0"
      },
      "source": [
        "y = df[target]\n",
        "X = df.drop([target], axis=1)\n",
        "X_train, X_test, y_train, y_test = train_test_split(X, y, test_size = 0.2, random_state = 0)\n",
        "X_train.shape, X_test.shape"
      ],
      "execution_count": null,
      "outputs": [
        {
          "output_type": "execute_result",
          "data": {
            "text/plain": [
              "((44852, 21), (11214, 21))"
            ]
          },
          "metadata": {
            "tags": []
          },
          "execution_count": 28
        }
      ]
    },
    {
      "cell_type": "markdown",
      "metadata": {
        "id": "_Zun-WiFRoWQ"
      },
      "source": [
        "### Function to plot confusion matrices"
      ]
    },
    {
      "cell_type": "code",
      "metadata": {
        "id": "FFj41BGeP8Gq"
      },
      "source": [
        "def plot_confusion_matrix(cm):\n",
        "  cm_matrix = pd.DataFrame(data=cm, columns=['TP:1', 'TN:0'], \n",
        "                                 index=['FP:1', 'FN:0'])\n",
        "  sns.heatmap(cm_matrix, annot=True, fmt='d', cmap=plt.cm.Blues)\n",
        "\n",
        "  print('\\nTrue Positives = ', cm[0,0])\n",
        "  print('\\nTrue Negatives = ', cm[1,1])\n",
        "  print('\\nFalse Positives = ', cm[0,1])\n",
        "  print('\\nFalse Negatives = ', cm[1,0])"
      ],
      "execution_count": null,
      "outputs": []
    },
    {
      "cell_type": "markdown",
      "metadata": {
        "id": "ihfNTdPlIL4-"
      },
      "source": [
        "# Decision Tree Classifier"
      ]
    },
    {
      "cell_type": "code",
      "metadata": {
        "id": "A8xt31BULUbI",
        "colab": {
          "base_uri": "https://localhost:8080/"
        },
        "outputId": "168399ff-c74e-4bfe-8020-bed9e252cd6b"
      },
      "source": [
        "tree = DecisionTreeClassifier(criterion = 'entropy', max_depth=5).fit(X_train,y_train)\n",
        "\n",
        "y_pred_test = tree.predict(X_test)\n",
        "\n",
        "dtc_score = accuracy_score(y_test, y_pred_test)\n",
        "\n",
        "print(f'Model accuracy score: {dtc_score}')"
      ],
      "execution_count": null,
      "outputs": [
        {
          "output_type": "stream",
          "text": [
            "Model accuracy score: 0.7599429284822543\n"
          ],
          "name": "stdout"
        }
      ]
    },
    {
      "cell_type": "markdown",
      "metadata": {
        "id": "MgZG9siMOU5q"
      },
      "source": [
        "Compare train and test set accuracy score"
      ]
    },
    {
      "cell_type": "code",
      "metadata": {
        "id": "-q20eO57OXCS",
        "colab": {
          "base_uri": "https://localhost:8080/"
        },
        "outputId": "e467b3d8-0268-49be-921d-c8acd5b2b704"
      },
      "source": [
        "y_pred_train = tree.predict(X_train)\n",
        "\n",
        "dtc_score2 = accuracy_score(y_train, y_pred_train)\n",
        "\n",
        "print(f'Model accuracy score: {dtc_score2}')"
      ],
      "execution_count": null,
      "outputs": [
        {
          "output_type": "stream",
          "text": [
            "Model accuracy score: 0.7625523945420494\n"
          ],
          "name": "stdout"
        }
      ]
    },
    {
      "cell_type": "markdown",
      "metadata": {
        "id": "MtXq7LyIPlCA"
      },
      "source": [
        "Plotting confusion matrices"
      ]
    },
    {
      "cell_type": "code",
      "metadata": {
        "id": "2CsfD6DFPnjM",
        "colab": {
          "base_uri": "https://localhost:8080/",
          "height": 401
        },
        "outputId": "bbdac4c7-f61b-44c0-d141-0b8928e61fd3"
      },
      "source": [
        "cm = confusion_matrix(y_test, y_pred_test)\n",
        "plot_confusion_matrix(cm)"
      ],
      "execution_count": null,
      "outputs": [
        {
          "output_type": "stream",
          "text": [
            "\n",
            "True Positives =  3377\n",
            "\n",
            "True Negatives =  4829\n",
            "\n",
            "False Positives =  1387\n",
            "\n",
            "False Negatives =  1621\n"
          ],
          "name": "stdout"
        },
        {
          "output_type": "display_data",
          "data": {
            "image/png": "[encoded data removed]",
            "text/plain": [
              "<Figure size 432x288 with 2 Axes>"
            ]
          },
          "metadata": {
            "tags": [],
            "needs_background": "light"
          }
        }
      ]
    },
    {
      "cell_type": "markdown",
      "metadata": {
        "id": "m2iDY6KTRfuQ"
      },
      "source": [
        "# Logistic Regression Model"
      ]
    },
    {
      "cell_type": "code",
      "metadata": {
        "id": "dRsHklz0SFGQ",
        "colab": {
          "base_uri": "https://localhost:8080/"
        },
        "outputId": "c4e2838d-1ef3-4ce3-abb5-c148a40a7956"
      },
      "source": [
        "logreg = LogisticRegression(solver='liblinear', random_state=0).fit(X_train, y_train)\n",
        "\n",
        "y_pred_test = logreg.predict(X_test)\n",
        "\n",
        "lr_score = accuracy_score(y_test, y_pred_test)\n",
        "\n",
        "print(f'Model accuracy score: {lr_score}')"
      ],
      "execution_count": null,
      "outputs": [
        {
          "output_type": "stream",
          "text": [
            "Model accuracy score: 0.7818797931157482\n"
          ],
          "name": "stdout"
        }
      ]
    },
    {
      "cell_type": "markdown",
      "metadata": {
        "id": "9OLQj6aMSYxP"
      },
      "source": [
        "Compare againts test set"
      ]
    },
    {
      "cell_type": "code",
      "metadata": {
        "id": "_A8k6A6lSbTz",
        "colab": {
          "base_uri": "https://localhost:8080/"
        },
        "outputId": "3e1d7d09-40c9-48bf-a07a-9952c22972c2"
      },
      "source": [
        "y_pred_train = logreg.predict(X_train)\n",
        "\n",
        "lr_score2 = accuracy_score(y_train, y_pred_train)\n",
        "\n",
        "print(f'Model accuracy score: {lr_score2}')"
      ],
      "execution_count": null,
      "outputs": [
        {
          "output_type": "stream",
          "text": [
            "Model accuracy score: 0.7840007134575938\n"
          ],
          "name": "stdout"
        }
      ]
    },
    {
      "cell_type": "code",
      "metadata": {
        "id": "YRjJYkHaSjra",
        "colab": {
          "base_uri": "https://localhost:8080/",
          "height": 401
        },
        "outputId": "54a81548-9a1a-40ed-983e-de666ebe3cad"
      },
      "source": [
        "cm = confusion_matrix(y_test, y_pred_test)\n",
        "\n",
        "plot_confusion_matrix(cm)"
      ],
      "execution_count": null,
      "outputs": [
        {
          "output_type": "stream",
          "text": [
            "\n",
            "True Positives =  3512\n",
            "\n",
            "True Negatives =  5256\n",
            "\n",
            "False Positives =  1252\n",
            "\n",
            "False Negatives =  1194\n"
          ],
          "name": "stdout"
        },
        {
          "output_type": "display_data",
          "data": {
            "image/png": "[encoded data removed]",
            "text/plain": [
              "<Figure size 432x288 with 2 Axes>"
            ]
          },
          "metadata": {
            "tags": [],
            "needs_background": "light"
          }
        }
      ]
    },
    {
      "cell_type": "markdown",
      "metadata": {
        "id": "zPKj3bSQTe1z"
      },
      "source": [
        "# Neural Network Model"
      ]
    },
    {
      "cell_type": "code",
      "metadata": {
        "id": "9ztX-ec8Tg_m",
        "colab": {
          "base_uri": "https://localhost:8080/"
        },
        "outputId": "bcfc6c08-a82d-422c-8fdb-428031359ba6"
      },
      "source": [
        "nn_model = MLPClassifier(random_state = 0, max_iter=500, learning_rate='constant').fit(X_train, y_train)\n",
        "\n",
        "nn_score = nn_model.score(X_test, y_test)\n",
        "\n",
        "y_pred_test = nn_model.predict(X_test)\n",
        "\n",
        "print(f'Model accuracy score: {nn_score}')"
      ],
      "execution_count": null,
      "outputs": [
        {
          "output_type": "stream",
          "text": [
            "Model accuracy score: 0.7654717317638666\n"
          ],
          "name": "stdout"
        }
      ]
    },
    {
      "cell_type": "code",
      "metadata": {
        "id": "TcHkVYMXTjzV",
        "colab": {
          "base_uri": "https://localhost:8080/"
        },
        "outputId": "5496a549-bbf0-45a7-cfa2-7f57d4f59799"
      },
      "source": [
        "y_pred_train = nn_model.predict(X_train)\n",
        "\n",
        "nn_score2 = accuracy_score(y_train, y_pred_train)\n",
        "\n",
        "print(f'Model accuracy score: {nn_score2}')"
      ],
      "execution_count": null,
      "outputs": [
        {
          "output_type": "stream",
          "text": [
            "Model accuracy score: 0.763466512084188\n"
          ],
          "name": "stdout"
        }
      ]
    },
    {
      "cell_type": "code",
      "metadata": {
        "id": "o-mNXM7hTl2O",
        "colab": {
          "base_uri": "https://localhost:8080/",
          "height": 401
        },
        "outputId": "c76554e1-2a64-40ca-ee26-d1f3a309ec88"
      },
      "source": [
        "cm = confusion_matrix(y_test, y_pred_test)\n",
        "\n",
        "plot_confusion_matrix(cm)"
      ],
      "execution_count": null,
      "outputs": [
        {
          "output_type": "stream",
          "text": [
            "\n",
            "True Positives =  2778\n",
            "\n",
            "True Negatives =  5806\n",
            "\n",
            "False Positives =  1986\n",
            "\n",
            "False Negatives =  644\n"
          ],
          "name": "stdout"
        },
        {
          "output_type": "display_data",
          "data": {
            "image/png": "[encoded data removed]",
            "text/plain": [
              "<Figure size 432x288 with 2 Axes>"
            ]
          },
          "metadata": {
            "tags": [],
            "needs_background": "light"
          }
        }
      ]
    },
    {
      "cell_type": "markdown",
      "metadata": {
        "id": "wEBM79tykhYw"
      },
      "source": [
        "# Hyperparameter Optimization using GridSearch"
      ]
    },
    {
      "cell_type": "code",
      "metadata": {
        "id": "QfYckfrImjRI"
      },
      "source": [
        "def print_grid_results(gs):\n",
        "  print(f'Grid Search Accuracy: {gs.best_score_ * 100}%\\n')\n",
        "  print(f'Best Parameters: {gs.best_params_}\\n')\n",
        "  print(f'All Parameters: {gs.best_estimator_}')"
      ],
      "execution_count": null,
      "outputs": []
    },
    {
      "cell_type": "markdown",
      "metadata": {
        "id": "brnNrn025pik"
      },
      "source": [
        "## GridSearch Decision Tree Classifier\n"
      ]
    },
    {
      "cell_type": "code",
      "metadata": {
        "id": "KUmo0ZFs5oGo",
        "colab": {
          "base_uri": "https://localhost:8080/"
        },
        "outputId": "ae8ff018-2edb-4792-b320-85a7ff09fd06"
      },
      "source": [
        "param_grid =[{'criterion': ['gini', 'entropy'], 'max_depth': [None, 10]}]\r\n",
        "gs_tree = GridSearchCV(estimator=tree,param_grid=param_grid)\r\n",
        "gs_tree.fit(X_train,y_train)"
      ],
      "execution_count": null,
      "outputs": [
        {
          "output_type": "execute_result",
          "data": {
            "text/plain": [
              "GridSearchCV(cv=None, error_score=nan,\n",
              "             estimator=DecisionTreeClassifier(ccp_alpha=0.0, class_weight=None,\n",
              "                                              criterion='entropy', max_depth=20,\n",
              "                                              max_features=None,\n",
              "                                              max_leaf_nodes=None,\n",
              "                                              min_impurity_decrease=0.0,\n",
              "                                              min_impurity_split=None,\n",
              "                                              min_samples_leaf=1,\n",
              "                                              min_samples_split=2,\n",
              "                                              min_weight_fraction_leaf=0.0,\n",
              "                                              presort='deprecated',\n",
              "                                              random_state=None,\n",
              "                                              splitter='random'),\n",
              "             iid='deprecated', n_jobs=None,\n",
              "             param_grid=[{'criterion': ['gini', 'entropy'],\n",
              "                          'max_depth': [None, 10]}],\n",
              "             pre_dispatch='2*n_jobs', refit=True, return_train_score=False,\n",
              "             scoring=None, verbose=0)"
            ]
          },
          "metadata": {
            "tags": []
          },
          "execution_count": 40
        }
      ]
    },
    {
      "cell_type": "code",
      "metadata": {
        "id": "gy79NXFp580Z",
        "colab": {
          "base_uri": "https://localhost:8080/"
        },
        "outputId": "c0bb5c41-584b-4f55-8573-451872df6794"
      },
      "source": [
        "print_grid_results(gs_tree)"
      ],
      "execution_count": null,
      "outputs": [
        {
          "output_type": "stream",
          "text": [
            "Grid Search Accuracy: 76.19282173563843%\n",
            "\n",
            "Best Parameters: {'criterion': 'gini', 'max_depth': 10}\n",
            "\n",
            "All Parameters: DecisionTreeClassifier(ccp_alpha=0.0, class_weight=None, criterion='gini',\n",
            "                       max_depth=10, max_features=None, max_leaf_nodes=None,\n",
            "                       min_impurity_decrease=0.0, min_impurity_split=None,\n",
            "                       min_samples_leaf=1, min_samples_split=2,\n",
            "                       min_weight_fraction_leaf=0.0, presort='deprecated',\n",
            "                       random_state=None, splitter='random')\n"
          ],
          "name": "stdout"
        }
      ]
    },
    {
      "cell_type": "markdown",
      "metadata": {
        "id": "9Mf2-BJV-i06"
      },
      "source": [
        "## GridSearch for Logistic Regression model"
      ]
    },
    {
      "cell_type": "code",
      "metadata": {
        "id": "W1PH0KpBkoy1",
        "colab": {
          "base_uri": "https://localhost:8080/"
        },
        "outputId": "7abacb10-9264-4770-804b-e1a27d946f74"
      },
      "source": [
        "params = [{'penalty':['l1','l2']}, {'C':[1, 10]}]\r\n",
        "\r\n",
        "gs_lr = GridSearchCV(estimator=logreg, param_grid=params)\r\n",
        "\r\n",
        "gs_lr.fit(X_train, y_train)"
      ],
      "execution_count": null,
      "outputs": [
        {
          "output_type": "execute_result",
          "data": {
            "text/plain": [
              "GridSearchCV(cv=None, error_score=nan,\n",
              "             estimator=LogisticRegression(C=1.0, class_weight=None, dual=False,\n",
              "                                          fit_intercept=True,\n",
              "                                          intercept_scaling=1, l1_ratio=None,\n",
              "                                          max_iter=100, multi_class='auto',\n",
              "                                          n_jobs=None, penalty='l2',\n",
              "                                          random_state=0, solver='liblinear',\n",
              "                                          tol=0.0001, verbose=0,\n",
              "                                          warm_start=False),\n",
              "             iid='deprecated', n_jobs=None,\n",
              "             param_grid=[{'penalty': ['l1', 'l2']}, {'C': [1, 10]}],\n",
              "             pre_dispatch='2*n_jobs', refit=True, return_train_score=False,\n",
              "             scoring=None, verbose=0)"
            ]
          },
          "metadata": {
            "tags": []
          },
          "execution_count": 42
        }
      ]
    },
    {
      "cell_type": "code",
      "metadata": {
        "id": "Cq1JmiZQwSOC",
        "colab": {
          "base_uri": "https://localhost:8080/"
        },
        "outputId": "2f724bf2-6506-4d5c-a004-7d2473989d35"
      },
      "source": [
        "print_grid_results(gs_lr)"
      ],
      "execution_count": null,
      "outputs": [
        {
          "output_type": "stream",
          "text": [
            "Grid Search Accuracy: 78.35547640377698%\n",
            "\n",
            "Best Parameters: {'C': 10}\n",
            "\n",
            "All Parameters: LogisticRegression(C=10, class_weight=None, dual=False, fit_intercept=True,\n",
            "                   intercept_scaling=1, l1_ratio=None, max_iter=100,\n",
            "                   multi_class='auto', n_jobs=None, penalty='l2',\n",
            "                   random_state=0, solver='liblinear', tol=0.0001, verbose=0,\n",
            "                   warm_start=False)\n"
          ],
          "name": "stdout"
        }
      ]
    },
    {
      "cell_type": "markdown",
      "metadata": {
        "id": "QCeiUqy3-2C2"
      },
      "source": [
        "## GridSearch for NN model"
      ]
    },
    {
      "cell_type": "code",
      "metadata": {
        "id": "CG7Iwkth_HEd",
        "colab": {
          "base_uri": "https://localhost:8080/"
        },
        "outputId": "1175474c-246f-4cfd-aca7-e5cbdd978992"
      },
      "source": [
        "param_grid = {'activation': ['identity', 'relu'], 'solver': ['adam', 'lbfgs']}\r\n",
        "nn_gs = GridSearchCV(estimator=nn_model,param_grid=param_grid)\r\n",
        "nn_gs.fit(X_train, y_train)"
      ],
      "execution_count": null,
      "outputs": [
        {
          "output_type": "execute_result",
          "data": {
            "text/plain": [
              "GridSearchCV(cv=None, error_score=nan,\n",
              "             estimator=MLPClassifier(activation='relu', alpha=0.0001,\n",
              "                                     batch_size='auto', beta_1=0.9,\n",
              "                                     beta_2=0.999, early_stopping=False,\n",
              "                                     epsilon=1e-08, hidden_layer_sizes=(100,),\n",
              "                                     learning_rate='constant',\n",
              "                                     learning_rate_init=0.001, max_fun=15000,\n",
              "                                     max_iter=500, momentum=0.9,\n",
              "                                     n_iter_no_change=10,\n",
              "                                     nesterovs_momentum=True, power_t=0.5,\n",
              "                                     random_state=0, shuffle=True,\n",
              "                                     solver='adam', tol=0.0001,\n",
              "                                     validation_fraction=0.1, verbose=False,\n",
              "                                     warm_start=False),\n",
              "             iid='deprecated', n_jobs=None,\n",
              "             param_grid={'activation': ['identity', 'relu'],\n",
              "                         'solver': ['adam', 'lbfgs']},\n",
              "             pre_dispatch='2*n_jobs', refit=True, return_train_score=False,\n",
              "             scoring=None, verbose=0)"
            ]
          },
          "metadata": {
            "tags": []
          },
          "execution_count": 47
        }
      ]
    },
    {
      "cell_type": "code",
      "metadata": {
        "id": "3lzzSkhtCMUq",
        "colab": {
          "base_uri": "https://localhost:8080/"
        },
        "outputId": "269cdae6-1ce5-4762-d357-bd9c7154df20"
      },
      "source": [
        "print_grid_results(nn_gs)"
      ],
      "execution_count": null,
      "outputs": [
        {
          "output_type": "stream",
          "text": [
            "Grid Search Accuracy: 74.13271476640885%\n",
            "\n",
            "Best Parameters: {'hidden_layer_sizes': (100, 50)}\n",
            "\n",
            "All Parameters: MLPClassifier(activation='relu', alpha=0.0001, batch_size='auto', beta_1=0.9,\n",
            "              beta_2=0.999, early_stopping=False, epsilon=1e-08,\n",
            "              hidden_layer_sizes=(100, 50), learning_rate='constant',\n",
            "              learning_rate_init=0.001, max_fun=15000, max_iter=500,\n",
            "              momentum=0.9, n_iter_no_change=10, nesterovs_momentum=True,\n",
            "              power_t=0.5, random_state=0, shuffle=True, solver='adam',\n",
            "              tol=0.0001, validation_fraction=0.1, verbose=False,\n",
            "              warm_start=False)\n"
          ],
          "name": "stdout"
        }
      ]
    },
    {
      "cell_type": "markdown",
      "metadata": {
        "id": "uL9yz4i01uZ2"
      },
      "source": [
        "# Results"
      ]
    },
    {
      "cell_type": "code",
      "metadata": {
        "id": "RIPBDtZ_NMcf",
        "colab": {
          "base_uri": "https://localhost:8080/",
          "height": 428
        },
        "outputId": "a42799a8-84d4-47b5-e73e-0b95ccb77628"
      },
      "source": [
        "y1 = np.array([dtc_score, lr_score, nn_score]) * 100\n",
        "y2 = np.array([gs_tree.best_score_, gs_lr.best_score_, nn_gs.best_score_]) * 100\n",
        "\n",
        "x = np.arange(len(y1))\n",
        "width = 0.20\n",
        "\n",
        "fig, axes = plt.subplots(ncols=1, nrows=1, figsize=(7, 7))\n",
        "plt.ylabel('Accuracy Score')\n",
        "axes.bar(x, y1, width=-1.*width, align='edge', label=\"Default Hyperparams\")\n",
        "axes.bar(x, y2, width=width, align='edge', label=\"Grid Search\")\n",
        "axes.set_xticks(x)\n",
        "axes.set_xticklabels(['DecisionTree', 'LogisticRegression', 'NeuralNetworks'])\n",
        "plt.legend()\n",
        "plt.show()"
      ],
      "execution_count": null,
      "outputs": [
        {
          "output_type": "display_data",
          "data": {
            "image/png": "[encoded data removed]",
            "text/plain": [
              "<Figure size 504x504 with 1 Axes>"
            ]
          },
          "metadata": {
            "tags": [],
            "needs_background": "light"
          }
        }
      ]
    },
    {
      "cell_type": "markdown",
      "metadata": {
        "id": "TRB_3-B62AGB"
      },
      "source": [
        "We can observe that gridsearch improves DecisionTree and LogisticRegression by a small margin, while it worsens NeuralNetworks. We would have to grid search with more hypermaters to find a better model.\n",
        "\n",
        "In this case, we recommend to use LogisitcRegression as it has the best accuracy of all with 78%."
      ]
    }
  ]
}