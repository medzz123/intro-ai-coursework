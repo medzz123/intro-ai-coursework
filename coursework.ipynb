{
  "nbformat": 4,
  "nbformat_minor": 0,
  "metadata": {
    "language_info": {
      "codemirror_mode": {
        "name": "ipython",
        "version": 3
      },
      "file_extension": ".py",
      "mimetype": "text/x-python",
      "name": "python",
      "nbconvert_exporter": "python",
      "pygments_lexer": "ipython3",
      "version": "3.8.3-final"
    },
    "orig_nbformat": 2,
    "kernelspec": {
      "name": "python3",
      "display_name": "Python 3",
      "language": "python"
    },
    "colab": {
      "name": "coursework.ipynb",
      "provenance": []
    }
  },
  "cells": [
    {
      "cell_type": "markdown",
      "metadata": {
        "id": "hz8tRZ1xgFix"
      },
      "source": [
        "# Will it rain tomorrow in Australia?\n",
        "\n",
        "The objective of this, is to find the best model that will predict if it will rain tomorrow in Australia. The data-set is from Kaggle, but we will load it from a github repositiry, as Kaggle downlaod service is not reliable."
      ]
    },
    {
      "cell_type": "markdown",
      "metadata": {
        "id": "UQGBX9dHgY-5"
      },
      "source": [
        "We will start by importing all the libaries we require."
      ]
    },
    {
      "cell_type": "code",
      "metadata": {
        "id": "wLmonjDqH6BX"
      },
      "source": [
        "import os\n",
        "import numpy as np\n",
        "import pandas as pd\n",
        "import seaborn as sns\n",
        "import matplotlib.pyplot as plt\n",
        "from sklearn.utils import resample\n",
        "from sklearn.model_selection import train_test_split\n",
        "from sklearn.tree import DecisionTreeClassifier\n",
        "from sklearn.preprocessing import LabelEncoder\n",
        "from sklearn.metrics import accuracy_score\n",
        "from sklearn.metrics import confusion_matrix\n",
        "from sklearn.linear_model import LogisticRegression"
      ],
      "execution_count": 61,
      "outputs": []
    },
    {
      "cell_type": "markdown",
      "metadata": {
        "id": "_P5ShtIlghaJ"
      },
      "source": [
        "Loading the data into a pandas Data Frame."
      ]
    },
    {
      "cell_type": "code",
      "metadata": {
        "id": "f8sON322H6Bd"
      },
      "source": [
        "df = pd.read_csv(\"https://raw.githubusercontent.com/medzz123/rain-data/main/weatherAUS.csv\",  na_values=['NA', '?'])"
      ],
      "execution_count": 62,
      "outputs": []
    },
    {
      "cell_type": "markdown",
      "metadata": {
        "id": "rQM6Ddkck6Dy"
      },
      "source": [
        "## Resuffle Data?"
      ]
    },
    {
      "cell_type": "markdown",
      "metadata": {
        "id": "Bx2D_XWqgy1V"
      },
      "source": [
        "Now lets check the summary of the data. This should give us the shape of the data, and its feature columns. "
      ]
    },
    {
      "cell_type": "code",
      "metadata": {
        "colab": {
          "base_uri": "https://localhost:8080/"
        },
        "id": "PxGTAxuiH6Bg",
        "outputId": "5e4c8d78-475b-4666-d342-20e5920fb852"
      },
      "source": [
        "df.info()"
      ],
      "execution_count": 63,
      "outputs": [
        {
          "output_type": "stream",
          "text": [
            "<class 'pandas.core.frame.DataFrame'>\n",
            "RangeIndex: 145460 entries, 0 to 145459\n",
            "Data columns (total 23 columns):\n",
            " #   Column         Non-Null Count   Dtype  \n",
            "---  ------         --------------   -----  \n",
            " 0   Date           145460 non-null  object \n",
            " 1   Location       145460 non-null  object \n",
            " 2   MinTemp        143975 non-null  float64\n",
            " 3   MaxTemp        144199 non-null  float64\n",
            " 4   Rainfall       142199 non-null  float64\n",
            " 5   Evaporation    82670 non-null   float64\n",
            " 6   Sunshine       75625 non-null   float64\n",
            " 7   WindGustDir    135134 non-null  object \n",
            " 8   WindGustSpeed  135197 non-null  float64\n",
            " 9   WindDir9am     134894 non-null  object \n",
            " 10  WindDir3pm     141232 non-null  object \n",
            " 11  WindSpeed9am   143693 non-null  float64\n",
            " 12  WindSpeed3pm   142398 non-null  float64\n",
            " 13  Humidity9am    142806 non-null  float64\n",
            " 14  Humidity3pm    140953 non-null  float64\n",
            " 15  Pressure9am    130395 non-null  float64\n",
            " 16  Pressure3pm    130432 non-null  float64\n",
            " 17  Cloud9am       89572 non-null   float64\n",
            " 18  Cloud3pm       86102 non-null   float64\n",
            " 19  Temp9am        143693 non-null  float64\n",
            " 20  Temp3pm        141851 non-null  float64\n",
            " 21  RainToday      142199 non-null  object \n",
            " 22  RainTomorrow   142193 non-null  object \n",
            "dtypes: float64(16), object(7)\n",
            "memory usage: 25.5+ MB\n"
          ],
          "name": "stdout"
        }
      ]
    },
    {
      "cell_type": "code",
      "metadata": {
        "colab": {
          "base_uri": "https://localhost:8080/"
        },
        "id": "1Y3UyGHAh0Uu",
        "outputId": "3d838b59-da8b-495f-aa11-617a0239cc49"
      },
      "source": [
        "df.count().sort_values()"
      ],
      "execution_count": 64,
      "outputs": [
        {
          "output_type": "execute_result",
          "data": {
            "text/plain": [
              "Sunshine          75625\n",
              "Evaporation       82670\n",
              "Cloud3pm          86102\n",
              "Cloud9am          89572\n",
              "Pressure9am      130395\n",
              "Pressure3pm      130432\n",
              "WindDir9am       134894\n",
              "WindGustDir      135134\n",
              "WindGustSpeed    135197\n",
              "Humidity3pm      140953\n",
              "WindDir3pm       141232\n",
              "Temp3pm          141851\n",
              "RainTomorrow     142193\n",
              "RainToday        142199\n",
              "Rainfall         142199\n",
              "WindSpeed3pm     142398\n",
              "Humidity9am      142806\n",
              "Temp9am          143693\n",
              "WindSpeed9am     143693\n",
              "MinTemp          143975\n",
              "MaxTemp          144199\n",
              "Location         145460\n",
              "Date             145460\n",
              "dtype: int64"
            ]
          },
          "metadata": {
            "tags": []
          },
          "execution_count": 64
        }
      ]
    },
    {
      "cell_type": "markdown",
      "metadata": {
        "id": "3ZKpsnqcfy3f"
      },
      "source": [
        "We can observe that there is a total of 145460 entries with 23 columns. There are lot of columns which contains null values. \n",
        "\n",
        "Our target is `RainTomorrow`. As this column contains null values, we can drop those entries, as we won't be able test the accuracy of our model of those entries. \n",
        "\n",
        "We will also drop Location, as it the objective is to find out if it will rain tomorrow in Australia, not in a specific location. "
      ]
    },
    {
      "cell_type": "code",
      "metadata": {
        "id": "y2dnwyEHTkAK",
        "colab": {
          "base_uri": "https://localhost:8080/",
          "height": 299
        },
        "outputId": "0400676c-1fe4-492e-d9ff-e7aa2a7299ae"
      },
      "source": [
        "target = 'RainTomorrow'\n",
        "\n",
        "df = df.drop(columns=['Location'],axis=1)\n",
        "\n",
        "df = df[df[target].notna()]\n",
        "\n",
        "df.head()"
      ],
      "execution_count": 65,
      "outputs": [
        {
          "output_type": "execute_result",
          "data": {
            "text/html": [
              "<div>\n",
              "<style scoped>\n",
              "    .dataframe tbody tr th:only-of-type {\n",
              "        vertical-align: middle;\n",
              "    }\n",
              "\n",
              "    .dataframe tbody tr th {\n",
              "        vertical-align: top;\n",
              "    }\n",
              "\n",
              "    .dataframe thead th {\n",
              "        text-align: right;\n",
              "    }\n",
              "</style>\n",
              "<table border=\"1\" class=\"dataframe\">\n",
              "  <thead>\n",
              "    <tr style=\"text-align: right;\">\n",
              "      <th></th>\n",
              "      <th>Date</th>\n",
              "      <th>MinTemp</th>\n",
              "      <th>MaxTemp</th>\n",
              "      <th>Rainfall</th>\n",
              "      <th>Evaporation</th>\n",
              "      <th>Sunshine</th>\n",
              "      <th>WindGustDir</th>\n",
              "      <th>WindGustSpeed</th>\n",
              "      <th>WindDir9am</th>\n",
              "      <th>WindDir3pm</th>\n",
              "      <th>WindSpeed9am</th>\n",
              "      <th>WindSpeed3pm</th>\n",
              "      <th>Humidity9am</th>\n",
              "      <th>Humidity3pm</th>\n",
              "      <th>Pressure9am</th>\n",
              "      <th>Pressure3pm</th>\n",
              "      <th>Cloud9am</th>\n",
              "      <th>Cloud3pm</th>\n",
              "      <th>Temp9am</th>\n",
              "      <th>Temp3pm</th>\n",
              "      <th>RainToday</th>\n",
              "      <th>RainTomorrow</th>\n",
              "    </tr>\n",
              "  </thead>\n",
              "  <tbody>\n",
              "    <tr>\n",
              "      <th>0</th>\n",
              "      <td>2008-12-01</td>\n",
              "      <td>13.4</td>\n",
              "      <td>22.9</td>\n",
              "      <td>0.6</td>\n",
              "      <td>NaN</td>\n",
              "      <td>NaN</td>\n",
              "      <td>W</td>\n",
              "      <td>44.0</td>\n",
              "      <td>W</td>\n",
              "      <td>WNW</td>\n",
              "      <td>20.0</td>\n",
              "      <td>24.0</td>\n",
              "      <td>71.0</td>\n",
              "      <td>22.0</td>\n",
              "      <td>1007.7</td>\n",
              "      <td>1007.1</td>\n",
              "      <td>8.0</td>\n",
              "      <td>NaN</td>\n",
              "      <td>16.9</td>\n",
              "      <td>21.8</td>\n",
              "      <td>No</td>\n",
              "      <td>No</td>\n",
              "    </tr>\n",
              "    <tr>\n",
              "      <th>1</th>\n",
              "      <td>2008-12-02</td>\n",
              "      <td>7.4</td>\n",
              "      <td>25.1</td>\n",
              "      <td>0.0</td>\n",
              "      <td>NaN</td>\n",
              "      <td>NaN</td>\n",
              "      <td>WNW</td>\n",
              "      <td>44.0</td>\n",
              "      <td>NNW</td>\n",
              "      <td>WSW</td>\n",
              "      <td>4.0</td>\n",
              "      <td>22.0</td>\n",
              "      <td>44.0</td>\n",
              "      <td>25.0</td>\n",
              "      <td>1010.6</td>\n",
              "      <td>1007.8</td>\n",
              "      <td>NaN</td>\n",
              "      <td>NaN</td>\n",
              "      <td>17.2</td>\n",
              "      <td>24.3</td>\n",
              "      <td>No</td>\n",
              "      <td>No</td>\n",
              "    </tr>\n",
              "    <tr>\n",
              "      <th>2</th>\n",
              "      <td>2008-12-03</td>\n",
              "      <td>12.9</td>\n",
              "      <td>25.7</td>\n",
              "      <td>0.0</td>\n",
              "      <td>NaN</td>\n",
              "      <td>NaN</td>\n",
              "      <td>WSW</td>\n",
              "      <td>46.0</td>\n",
              "      <td>W</td>\n",
              "      <td>WSW</td>\n",
              "      <td>19.0</td>\n",
              "      <td>26.0</td>\n",
              "      <td>38.0</td>\n",
              "      <td>30.0</td>\n",
              "      <td>1007.6</td>\n",
              "      <td>1008.7</td>\n",
              "      <td>NaN</td>\n",
              "      <td>2.0</td>\n",
              "      <td>21.0</td>\n",
              "      <td>23.2</td>\n",
              "      <td>No</td>\n",
              "      <td>No</td>\n",
              "    </tr>\n",
              "    <tr>\n",
              "      <th>3</th>\n",
              "      <td>2008-12-04</td>\n",
              "      <td>9.2</td>\n",
              "      <td>28.0</td>\n",
              "      <td>0.0</td>\n",
              "      <td>NaN</td>\n",
              "      <td>NaN</td>\n",
              "      <td>NE</td>\n",
              "      <td>24.0</td>\n",
              "      <td>SE</td>\n",
              "      <td>E</td>\n",
              "      <td>11.0</td>\n",
              "      <td>9.0</td>\n",
              "      <td>45.0</td>\n",
              "      <td>16.0</td>\n",
              "      <td>1017.6</td>\n",
              "      <td>1012.8</td>\n",
              "      <td>NaN</td>\n",
              "      <td>NaN</td>\n",
              "      <td>18.1</td>\n",
              "      <td>26.5</td>\n",
              "      <td>No</td>\n",
              "      <td>No</td>\n",
              "    </tr>\n",
              "    <tr>\n",
              "      <th>4</th>\n",
              "      <td>2008-12-05</td>\n",
              "      <td>17.5</td>\n",
              "      <td>32.3</td>\n",
              "      <td>1.0</td>\n",
              "      <td>NaN</td>\n",
              "      <td>NaN</td>\n",
              "      <td>W</td>\n",
              "      <td>41.0</td>\n",
              "      <td>ENE</td>\n",
              "      <td>NW</td>\n",
              "      <td>7.0</td>\n",
              "      <td>20.0</td>\n",
              "      <td>82.0</td>\n",
              "      <td>33.0</td>\n",
              "      <td>1010.8</td>\n",
              "      <td>1006.0</td>\n",
              "      <td>7.0</td>\n",
              "      <td>8.0</td>\n",
              "      <td>17.8</td>\n",
              "      <td>29.7</td>\n",
              "      <td>No</td>\n",
              "      <td>No</td>\n",
              "    </tr>\n",
              "  </tbody>\n",
              "</table>\n",
              "</div>"
            ],
            "text/plain": [
              "         Date  MinTemp  MaxTemp  ...  Temp3pm  RainToday  RainTomorrow\n",
              "0  2008-12-01     13.4     22.9  ...     21.8         No            No\n",
              "1  2008-12-02      7.4     25.1  ...     24.3         No            No\n",
              "2  2008-12-03     12.9     25.7  ...     23.2         No            No\n",
              "3  2008-12-04      9.2     28.0  ...     26.5         No            No\n",
              "4  2008-12-05     17.5     32.3  ...     29.7         No            No\n",
              "\n",
              "[5 rows x 22 columns]"
            ]
          },
          "metadata": {
            "tags": []
          },
          "execution_count": 65
        }
      ]
    },
    {
      "cell_type": "code",
      "metadata": {
        "colab": {
          "base_uri": "https://localhost:8080/"
        },
        "id": "YJnJ6jrAiaEM",
        "outputId": "d1eaf366-ab18-4449-9304-f3dd98d7261c"
      },
      "source": [
        "df.shape"
      ],
      "execution_count": 66,
      "outputs": [
        {
          "output_type": "execute_result",
          "data": {
            "text/plain": [
              "(142193, 22)"
            ]
          },
          "metadata": {
            "tags": []
          },
          "execution_count": 66
        }
      ]
    },
    {
      "cell_type": "markdown",
      "metadata": {
        "id": "h2r7YzEuieiH"
      },
      "source": [
        "We can observe that arround 3 thousand entries have dropped. Now we need to observe the type of our target. "
      ]
    },
    {
      "cell_type": "code",
      "metadata": {
        "id": "kWy_ys1ZO6Eh",
        "colab": {
          "base_uri": "https://localhost:8080/"
        },
        "outputId": "35d34527-544e-4062-9ee2-9fcc0f9d834d"
      },
      "source": [
        "df[target].value_counts()"
      ],
      "execution_count": 67,
      "outputs": [
        {
          "output_type": "execute_result",
          "data": {
            "text/plain": [
              "No     110316\n",
              "Yes     31877\n",
              "Name: RainTomorrow, dtype: int64"
            ]
          },
          "metadata": {
            "tags": []
          },
          "execution_count": 67
        }
      ]
    },
    {
      "cell_type": "markdown",
      "metadata": {
        "id": "PJ4Y7jDFiyeR"
      },
      "source": [
        "We can see that `RainTomorrow` can either be `Yes` or `No` which translates to Classification problem. Lets check the propoptions between these two. "
      ]
    },
    {
      "cell_type": "code",
      "metadata": {
        "id": "9sX87mwLT7bp",
        "colab": {
          "base_uri": "https://localhost:8080/"
        },
        "outputId": "feaa028b-85e4-4900-c51a-4e83c52f4c53"
      },
      "source": [
        "df[target].value_counts()/len(df)"
      ],
      "execution_count": 68,
      "outputs": [
        {
          "output_type": "execute_result",
          "data": {
            "text/plain": [
              "No     0.775819\n",
              "Yes    0.224181\n",
              "Name: RainTomorrow, dtype: float64"
            ]
          },
          "metadata": {
            "tags": []
          },
          "execution_count": 68
        }
      ]
    },
    {
      "cell_type": "markdown",
      "metadata": {
        "id": "kSu2poX-jDL6"
      },
      "source": [
        "We can observe that in Australia it rains only 22% of the time. Lets plot this a chart."
      ]
    },
    {
      "cell_type": "code",
      "metadata": {
        "id": "iI6qYNp2TDu-",
        "colab": {
          "base_uri": "https://localhost:8080/",
          "height": 279
        },
        "outputId": "8ccfce43-fa33-45ec-c39b-0234991c32d5"
      },
      "source": [
        "sns.countplot(x=target, data=df, palette=\"bwr\")\n",
        "plt.show()"
      ],
      "execution_count": 69,
      "outputs": [
        {
          "output_type": "display_data",
          "data": {
            "image/png": "[encoded data removed]",
            "text/plain": [
              "<Figure size 432x288 with 1 Axes>"
            ]
          },
          "metadata": {
            "tags": [],
            "needs_background": "light"
          }
        }
      ]
    },
    {
      "cell_type": "markdown",
      "metadata": {
        "id": "jJg12x9gFi5T"
      },
      "source": [
        "This also shows that our dataset is imbalanced. This means that whichever model we use, we will get almost perfect accuracy. To mitigate that, we will oversample the minority values. This is done by generating new samples."
      ]
    },
    {
      "cell_type": "code",
      "metadata": {
        "id": "lUApB4cjGbqn",
        "outputId": "040988e2-58ca-4ba4-d22b-28b403abe42e",
        "colab": {
          "base_uri": "https://localhost:8080/",
          "height": 279
        }
      },
      "source": [
        "yesRain = df[df.RainTomorrow == \"No\"]\r\n",
        "noRain = df[df.RainTomorrow == \"Yes\"]\r\n",
        "\r\n",
        "yesOversampled = resample(yesRain, replace = True, n_samples=len(noRain), random_state=123)\r\n",
        "df = pd.concat([noRain, yesOversampled])\r\n",
        "\r\n",
        "sns.countplot(x='RainTomorrow', data=df, palette=\"bwr\")\r\n",
        "plt.show()"
      ],
      "execution_count": 73,
      "outputs": [
        {
          "output_type": "display_data",
          "data": {
            "image/png": "[encoded data removed]",
            "text/plain": [
              "<Figure size 432x288 with 1 Axes>"
            ]
          },
          "metadata": {
            "tags": [],
            "needs_background": "light"
          }
        }
      ]
    },
    {
      "cell_type": "markdown",
      "metadata": {
        "id": "T67k9AOLwvXH"
      },
      "source": [
        "## Explore Values"
      ]
    },
    {
      "cell_type": "code",
      "metadata": {
        "colab": {
          "base_uri": "https://localhost:8080/",
          "height": 195
        },
        "id": "rBBxMWi2wxxE",
        "outputId": "b33f0c25-9736-47e8-d3e3-c71eba150c31"
      },
      "source": [
        "categorical = [name for name in df.columns if df[name].dtype=='O']\n",
        "\n",
        "df[categorical].head()"
      ],
      "execution_count": 74,
      "outputs": [
        {
          "output_type": "execute_result",
          "data": {
            "text/html": [
              "<div>\n",
              "<style scoped>\n",
              "    .dataframe tbody tr th:only-of-type {\n",
              "        vertical-align: middle;\n",
              "    }\n",
              "\n",
              "    .dataframe tbody tr th {\n",
              "        vertical-align: top;\n",
              "    }\n",
              "\n",
              "    .dataframe thead th {\n",
              "        text-align: right;\n",
              "    }\n",
              "</style>\n",
              "<table border=\"1\" class=\"dataframe\">\n",
              "  <thead>\n",
              "    <tr style=\"text-align: right;\">\n",
              "      <th></th>\n",
              "      <th>Date</th>\n",
              "      <th>WindGustDir</th>\n",
              "      <th>WindDir9am</th>\n",
              "      <th>WindDir3pm</th>\n",
              "      <th>RainToday</th>\n",
              "      <th>RainTomorrow</th>\n",
              "    </tr>\n",
              "  </thead>\n",
              "  <tbody>\n",
              "    <tr>\n",
              "      <th>8</th>\n",
              "      <td>2008-12-09</td>\n",
              "      <td>NNW</td>\n",
              "      <td>SE</td>\n",
              "      <td>NW</td>\n",
              "      <td>No</td>\n",
              "      <td>Yes</td>\n",
              "    </tr>\n",
              "    <tr>\n",
              "      <th>10</th>\n",
              "      <td>2008-12-11</td>\n",
              "      <td>N</td>\n",
              "      <td>SSE</td>\n",
              "      <td>ESE</td>\n",
              "      <td>No</td>\n",
              "      <td>Yes</td>\n",
              "    </tr>\n",
              "    <tr>\n",
              "      <th>11</th>\n",
              "      <td>2008-12-12</td>\n",
              "      <td>NNE</td>\n",
              "      <td>NE</td>\n",
              "      <td>ENE</td>\n",
              "      <td>Yes</td>\n",
              "      <td>Yes</td>\n",
              "    </tr>\n",
              "    <tr>\n",
              "      <th>12</th>\n",
              "      <td>2008-12-13</td>\n",
              "      <td>W</td>\n",
              "      <td>NNW</td>\n",
              "      <td>NNW</td>\n",
              "      <td>Yes</td>\n",
              "      <td>Yes</td>\n",
              "    </tr>\n",
              "    <tr>\n",
              "      <th>16</th>\n",
              "      <td>2008-12-17</td>\n",
              "      <td>ENE</td>\n",
              "      <td>SSW</td>\n",
              "      <td>E</td>\n",
              "      <td>No</td>\n",
              "      <td>Yes</td>\n",
              "    </tr>\n",
              "  </tbody>\n",
              "</table>\n",
              "</div>"
            ],
            "text/plain": [
              "          Date WindGustDir WindDir9am WindDir3pm RainToday RainTomorrow\n",
              "8   2008-12-09         NNW         SE         NW        No          Yes\n",
              "10  2008-12-11           N        SSE        ESE        No          Yes\n",
              "11  2008-12-12         NNE         NE        ENE       Yes          Yes\n",
              "12  2008-12-13           W        NNW        NNW       Yes          Yes\n",
              "16  2008-12-17         ENE        SSW          E        No          Yes"
            ]
          },
          "metadata": {
            "tags": []
          },
          "execution_count": 74
        }
      ]
    },
    {
      "cell_type": "markdown",
      "metadata": {
        "id": "jz0OPcKdxSts"
      },
      "source": [
        "Look for missing values of the categorical values"
      ]
    },
    {
      "cell_type": "code",
      "metadata": {
        "colab": {
          "base_uri": "https://localhost:8080/"
        },
        "id": "xoBL1LZoxcCq",
        "outputId": "6702b1b7-53ad-43ad-c12d-94b716b416e2"
      },
      "source": [
        "df[categorical].isnull().sum()"
      ],
      "execution_count": 75,
      "outputs": [
        {
          "output_type": "execute_result",
          "data": {
            "text/plain": [
              "Date               0\n",
              "WindGustDir     4539\n",
              "WindDir9am      4221\n",
              "WindDir3pm      1823\n",
              "RainToday        872\n",
              "RainTomorrow       0\n",
              "dtype: int64"
            ]
          },
          "metadata": {
            "tags": []
          },
          "execution_count": 75
        }
      ]
    },
    {
      "cell_type": "markdown",
      "metadata": {
        "id": "cic_HKTbBijz"
      },
      "source": [
        "Lets replace all missing ones with the most common one."
      ]
    },
    {
      "cell_type": "code",
      "metadata": {
        "id": "Y6T04sFqBRgQ"
      },
      "source": [
        "contains_null = [col for col in categorical if df[col].isnull().sum()!=0]\n",
        "\n",
        "for col in contains_null:\n",
        "  most_common = df[col].mode()\n",
        "  df[col].fillna(most_common[0], inplace=True)"
      ],
      "execution_count": 77,
      "outputs": []
    },
    {
      "cell_type": "code",
      "metadata": {
        "colab": {
          "base_uri": "https://localhost:8080/"
        },
        "id": "0IkSrghcB23k",
        "outputId": "d2da0cfc-a0e2-4221-93f2-0353378421a8"
      },
      "source": [
        "df[categorical].isnull().sum()"
      ],
      "execution_count": 78,
      "outputs": [
        {
          "output_type": "execute_result",
          "data": {
            "text/plain": [
              "Date            0\n",
              "WindGustDir     0\n",
              "WindDir9am      0\n",
              "WindDir3pm      0\n",
              "RainToday       0\n",
              "RainTomorrow    0\n",
              "dtype: int64"
            ]
          },
          "metadata": {
            "tags": []
          },
          "execution_count": 78
        }
      ]
    },
    {
      "cell_type": "code",
      "metadata": {
        "colab": {
          "base_uri": "https://localhost:8080/",
          "height": 215
        },
        "id": "ajl3YZ1ixr7x",
        "outputId": "c7c0975b-663c-43bb-9463-e3d86e8c08f0"
      },
      "source": [
        "numerical = [name for name in df.columns if df[name].dtype!='O']\n",
        "\n",
        "df[numerical].head()"
      ],
      "execution_count": 79,
      "outputs": [
        {
          "output_type": "execute_result",
          "data": {
            "text/html": [
              "<div>\n",
              "<style scoped>\n",
              "    .dataframe tbody tr th:only-of-type {\n",
              "        vertical-align: middle;\n",
              "    }\n",
              "\n",
              "    .dataframe tbody tr th {\n",
              "        vertical-align: top;\n",
              "    }\n",
              "\n",
              "    .dataframe thead th {\n",
              "        text-align: right;\n",
              "    }\n",
              "</style>\n",
              "<table border=\"1\" class=\"dataframe\">\n",
              "  <thead>\n",
              "    <tr style=\"text-align: right;\">\n",
              "      <th></th>\n",
              "      <th>MinTemp</th>\n",
              "      <th>MaxTemp</th>\n",
              "      <th>Rainfall</th>\n",
              "      <th>Evaporation</th>\n",
              "      <th>Sunshine</th>\n",
              "      <th>WindGustSpeed</th>\n",
              "      <th>WindSpeed9am</th>\n",
              "      <th>WindSpeed3pm</th>\n",
              "      <th>Humidity9am</th>\n",
              "      <th>Humidity3pm</th>\n",
              "      <th>Pressure9am</th>\n",
              "      <th>Pressure3pm</th>\n",
              "      <th>Cloud9am</th>\n",
              "      <th>Cloud3pm</th>\n",
              "      <th>Temp9am</th>\n",
              "      <th>Temp3pm</th>\n",
              "    </tr>\n",
              "  </thead>\n",
              "  <tbody>\n",
              "    <tr>\n",
              "      <th>8</th>\n",
              "      <td>9.7</td>\n",
              "      <td>31.9</td>\n",
              "      <td>0.0</td>\n",
              "      <td>NaN</td>\n",
              "      <td>NaN</td>\n",
              "      <td>80.0</td>\n",
              "      <td>7.0</td>\n",
              "      <td>28.0</td>\n",
              "      <td>42.0</td>\n",
              "      <td>9.0</td>\n",
              "      <td>1008.9</td>\n",
              "      <td>1003.6</td>\n",
              "      <td>NaN</td>\n",
              "      <td>NaN</td>\n",
              "      <td>18.3</td>\n",
              "      <td>30.2</td>\n",
              "    </tr>\n",
              "    <tr>\n",
              "      <th>10</th>\n",
              "      <td>13.4</td>\n",
              "      <td>30.4</td>\n",
              "      <td>0.0</td>\n",
              "      <td>NaN</td>\n",
              "      <td>NaN</td>\n",
              "      <td>30.0</td>\n",
              "      <td>17.0</td>\n",
              "      <td>6.0</td>\n",
              "      <td>48.0</td>\n",
              "      <td>22.0</td>\n",
              "      <td>1011.8</td>\n",
              "      <td>1008.7</td>\n",
              "      <td>NaN</td>\n",
              "      <td>NaN</td>\n",
              "      <td>20.4</td>\n",
              "      <td>28.8</td>\n",
              "    </tr>\n",
              "    <tr>\n",
              "      <th>11</th>\n",
              "      <td>15.9</td>\n",
              "      <td>21.7</td>\n",
              "      <td>2.2</td>\n",
              "      <td>NaN</td>\n",
              "      <td>NaN</td>\n",
              "      <td>31.0</td>\n",
              "      <td>15.0</td>\n",
              "      <td>13.0</td>\n",
              "      <td>89.0</td>\n",
              "      <td>91.0</td>\n",
              "      <td>1010.5</td>\n",
              "      <td>1004.2</td>\n",
              "      <td>8.0</td>\n",
              "      <td>8.0</td>\n",
              "      <td>15.9</td>\n",
              "      <td>17.0</td>\n",
              "    </tr>\n",
              "    <tr>\n",
              "      <th>12</th>\n",
              "      <td>15.9</td>\n",
              "      <td>18.6</td>\n",
              "      <td>15.6</td>\n",
              "      <td>NaN</td>\n",
              "      <td>NaN</td>\n",
              "      <td>61.0</td>\n",
              "      <td>28.0</td>\n",
              "      <td>28.0</td>\n",
              "      <td>76.0</td>\n",
              "      <td>93.0</td>\n",
              "      <td>994.3</td>\n",
              "      <td>993.0</td>\n",
              "      <td>8.0</td>\n",
              "      <td>8.0</td>\n",
              "      <td>17.4</td>\n",
              "      <td>15.8</td>\n",
              "    </tr>\n",
              "    <tr>\n",
              "      <th>16</th>\n",
              "      <td>14.1</td>\n",
              "      <td>20.9</td>\n",
              "      <td>0.0</td>\n",
              "      <td>NaN</td>\n",
              "      <td>NaN</td>\n",
              "      <td>22.0</td>\n",
              "      <td>11.0</td>\n",
              "      <td>9.0</td>\n",
              "      <td>69.0</td>\n",
              "      <td>82.0</td>\n",
              "      <td>1012.2</td>\n",
              "      <td>1010.4</td>\n",
              "      <td>8.0</td>\n",
              "      <td>1.0</td>\n",
              "      <td>17.2</td>\n",
              "      <td>18.1</td>\n",
              "    </tr>\n",
              "  </tbody>\n",
              "</table>\n",
              "</div>"
            ],
            "text/plain": [
              "    MinTemp  MaxTemp  Rainfall  ...  Cloud3pm  Temp9am  Temp3pm\n",
              "8       9.7     31.9       0.0  ...       NaN     18.3     30.2\n",
              "10     13.4     30.4       0.0  ...       NaN     20.4     28.8\n",
              "11     15.9     21.7       2.2  ...       8.0     15.9     17.0\n",
              "12     15.9     18.6      15.6  ...       8.0     17.4     15.8\n",
              "16     14.1     20.9       0.0  ...       1.0     17.2     18.1\n",
              "\n",
              "[5 rows x 16 columns]"
            ]
          },
          "metadata": {
            "tags": []
          },
          "execution_count": 79
        }
      ]
    },
    {
      "cell_type": "markdown",
      "metadata": {
        "id": "PhUW_fbxx0Io"
      },
      "source": [
        "Look for missing values in the numerical data"
      ]
    },
    {
      "cell_type": "code",
      "metadata": {
        "colab": {
          "base_uri": "https://localhost:8080/"
        },
        "id": "momsF77Ux2ga",
        "outputId": "0361e364-5cca-47dd-9b61-e54bdde5e3f5"
      },
      "source": [
        "df[numerical].isnull().sum()"
      ],
      "execution_count": 80,
      "outputs": [
        {
          "output_type": "execute_result",
          "data": {
            "text/plain": [
              "MinTemp            303\n",
              "MaxTemp            167\n",
              "Rainfall           872\n",
              "Evaporation      27598\n",
              "Sunshine         30431\n",
              "WindGustSpeed     4508\n",
              "WindSpeed9am       610\n",
              "WindSpeed3pm      1236\n",
              "Humidity9am        928\n",
              "Humidity3pm       1802\n",
              "Pressure9am       6399\n",
              "Pressure3pm       6374\n",
              "Cloud9am         23536\n",
              "Cloud3pm         24851\n",
              "Temp9am            490\n",
              "Temp3pm           1357\n",
              "dtype: int64"
            ]
          },
          "metadata": {
            "tags": []
          },
          "execution_count": 80
        }
      ]
    },
    {
      "cell_type": "markdown",
      "metadata": {
        "id": "v1C7fpStza1W"
      },
      "source": [
        "Lets check the info of the numerical values"
      ]
    },
    {
      "cell_type": "code",
      "metadata": {
        "colab": {
          "base_uri": "https://localhost:8080/",
          "height": 304
        },
        "id": "Is1e2hABzdcm",
        "outputId": "855899a4-7818-444d-b0f5-dc15960e9989"
      },
      "source": [
        "df[numerical].describe()"
      ],
      "execution_count": 81,
      "outputs": [
        {
          "output_type": "execute_result",
          "data": {
            "text/html": [
              "<div>\n",
              "<style scoped>\n",
              "    .dataframe tbody tr th:only-of-type {\n",
              "        vertical-align: middle;\n",
              "    }\n",
              "\n",
              "    .dataframe tbody tr th {\n",
              "        vertical-align: top;\n",
              "    }\n",
              "\n",
              "    .dataframe thead th {\n",
              "        text-align: right;\n",
              "    }\n",
              "</style>\n",
              "<table border=\"1\" class=\"dataframe\">\n",
              "  <thead>\n",
              "    <tr style=\"text-align: right;\">\n",
              "      <th></th>\n",
              "      <th>MinTemp</th>\n",
              "      <th>MaxTemp</th>\n",
              "      <th>Rainfall</th>\n",
              "      <th>Evaporation</th>\n",
              "      <th>Sunshine</th>\n",
              "      <th>WindGustSpeed</th>\n",
              "      <th>WindSpeed9am</th>\n",
              "      <th>WindSpeed3pm</th>\n",
              "      <th>Humidity9am</th>\n",
              "      <th>Humidity3pm</th>\n",
              "      <th>Pressure9am</th>\n",
              "      <th>Pressure3pm</th>\n",
              "      <th>Cloud9am</th>\n",
              "      <th>Cloud3pm</th>\n",
              "      <th>Temp9am</th>\n",
              "      <th>Temp3pm</th>\n",
              "    </tr>\n",
              "  </thead>\n",
              "  <tbody>\n",
              "    <tr>\n",
              "      <th>count</th>\n",
              "      <td>63451.000000</td>\n",
              "      <td>63587.000000</td>\n",
              "      <td>62882.000000</td>\n",
              "      <td>36156.000000</td>\n",
              "      <td>33323.000000</td>\n",
              "      <td>59246.000000</td>\n",
              "      <td>63144.000000</td>\n",
              "      <td>62518.000000</td>\n",
              "      <td>62826.000000</td>\n",
              "      <td>61952.000000</td>\n",
              "      <td>57355.000000</td>\n",
              "      <td>57380.000000</td>\n",
              "      <td>40218.000000</td>\n",
              "      <td>38903.000000</td>\n",
              "      <td>63264.000000</td>\n",
              "      <td>62397.000000</td>\n",
              "    </tr>\n",
              "    <tr>\n",
              "      <th>mean</th>\n",
              "      <td>12.556989</td>\n",
              "      <td>22.532128</td>\n",
              "      <td>3.657594</td>\n",
              "      <td>5.163735</td>\n",
              "      <td>6.481766</td>\n",
              "      <td>42.140583</td>\n",
              "      <td>14.515805</td>\n",
              "      <td>19.155139</td>\n",
              "      <td>72.011699</td>\n",
              "      <td>57.567278</td>\n",
              "      <td>1016.477301</td>\n",
              "      <td>1014.186113</td>\n",
              "      <td>5.036725</td>\n",
              "      <td>5.204277</td>\n",
              "      <td>16.908482</td>\n",
              "      <td>20.850390</td>\n",
              "    </tr>\n",
              "    <tr>\n",
              "      <th>std</th>\n",
              "      <td>6.409591</td>\n",
              "      <td>7.133720</td>\n",
              "      <td>10.939951</td>\n",
              "      <td>3.994527</td>\n",
              "      <td>3.948733</td>\n",
              "      <td>14.654071</td>\n",
              "      <td>9.182765</td>\n",
              "      <td>9.149314</td>\n",
              "      <td>18.634546</td>\n",
              "      <td>21.839466</td>\n",
              "      <td>7.318027</td>\n",
              "      <td>7.254008</td>\n",
              "      <td>2.790765</td>\n",
              "      <td>2.617481</td>\n",
              "      <td>6.469056</td>\n",
              "      <td>6.947911</td>\n",
              "    </tr>\n",
              "    <tr>\n",
              "      <th>min</th>\n",
              "      <td>-7.800000</td>\n",
              "      <td>-4.100000</td>\n",
              "      <td>0.000000</td>\n",
              "      <td>0.000000</td>\n",
              "      <td>0.000000</td>\n",
              "      <td>7.000000</td>\n",
              "      <td>0.000000</td>\n",
              "      <td>0.000000</td>\n",
              "      <td>0.000000</td>\n",
              "      <td>0.000000</td>\n",
              "      <td>980.500000</td>\n",
              "      <td>977.100000</td>\n",
              "      <td>0.000000</td>\n",
              "      <td>0.000000</td>\n",
              "      <td>-7.000000</td>\n",
              "      <td>-4.400000</td>\n",
              "    </tr>\n",
              "    <tr>\n",
              "      <th>25%</th>\n",
              "      <td>7.900000</td>\n",
              "      <td>17.300000</td>\n",
              "      <td>0.000000</td>\n",
              "      <td>2.400000</td>\n",
              "      <td>3.100000</td>\n",
              "      <td>31.000000</td>\n",
              "      <td>7.000000</td>\n",
              "      <td>13.000000</td>\n",
              "      <td>60.000000</td>\n",
              "      <td>42.000000</td>\n",
              "      <td>1011.700000</td>\n",
              "      <td>1009.300000</td>\n",
              "      <td>2.000000</td>\n",
              "      <td>3.000000</td>\n",
              "      <td>12.200000</td>\n",
              "      <td>15.800000</td>\n",
              "    </tr>\n",
              "    <tr>\n",
              "      <th>50%</th>\n",
              "      <td>12.200000</td>\n",
              "      <td>21.800000</td>\n",
              "      <td>0.000000</td>\n",
              "      <td>4.400000</td>\n",
              "      <td>6.800000</td>\n",
              "      <td>41.000000</td>\n",
              "      <td>13.000000</td>\n",
              "      <td>19.000000</td>\n",
              "      <td>74.000000</td>\n",
              "      <td>58.000000</td>\n",
              "      <td>1016.400000</td>\n",
              "      <td>1014.100000</td>\n",
              "      <td>6.000000</td>\n",
              "      <td>6.000000</td>\n",
              "      <td>16.500000</td>\n",
              "      <td>20.200000</td>\n",
              "    </tr>\n",
              "    <tr>\n",
              "      <th>75%</th>\n",
              "      <td>17.300000</td>\n",
              "      <td>27.500000</td>\n",
              "      <td>2.200000</td>\n",
              "      <td>7.000000</td>\n",
              "      <td>9.900000</td>\n",
              "      <td>50.000000</td>\n",
              "      <td>20.000000</td>\n",
              "      <td>24.000000</td>\n",
              "      <td>87.000000</td>\n",
              "      <td>73.000000</td>\n",
              "      <td>1021.400000</td>\n",
              "      <td>1019.100000</td>\n",
              "      <td>7.000000</td>\n",
              "      <td>7.000000</td>\n",
              "      <td>21.400000</td>\n",
              "      <td>25.600000</td>\n",
              "    </tr>\n",
              "    <tr>\n",
              "      <th>max</th>\n",
              "      <td>30.700000</td>\n",
              "      <td>46.800000</td>\n",
              "      <td>371.000000</td>\n",
              "      <td>82.400000</td>\n",
              "      <td>14.500000</td>\n",
              "      <td>135.000000</td>\n",
              "      <td>87.000000</td>\n",
              "      <td>87.000000</td>\n",
              "      <td>100.000000</td>\n",
              "      <td>100.000000</td>\n",
              "      <td>1040.300000</td>\n",
              "      <td>1037.600000</td>\n",
              "      <td>8.000000</td>\n",
              "      <td>8.000000</td>\n",
              "      <td>39.400000</td>\n",
              "      <td>46.100000</td>\n",
              "    </tr>\n",
              "  </tbody>\n",
              "</table>\n",
              "</div>"
            ],
            "text/plain": [
              "            MinTemp       MaxTemp  ...       Temp9am       Temp3pm\n",
              "count  63451.000000  63587.000000  ...  63264.000000  62397.000000\n",
              "mean      12.556989     22.532128  ...     16.908482     20.850390\n",
              "std        6.409591      7.133720  ...      6.469056      6.947911\n",
              "min       -7.800000     -4.100000  ...     -7.000000     -4.400000\n",
              "25%        7.900000     17.300000  ...     12.200000     15.800000\n",
              "50%       12.200000     21.800000  ...     16.500000     20.200000\n",
              "75%       17.300000     27.500000  ...     21.400000     25.600000\n",
              "max       30.700000     46.800000  ...     39.400000     46.100000\n",
              "\n",
              "[8 rows x 16 columns]"
            ]
          },
          "metadata": {
            "tags": []
          },
          "execution_count": 81
        }
      ]
    },
    {
      "cell_type": "markdown",
      "metadata": {
        "id": "cctiuNdVyBNR"
      },
      "source": [
        "Lets check if there are any outliers in numerical values by drawing some box plots."
      ]
    },
    {
      "cell_type": "code",
      "metadata": {
        "colab": {
          "base_uri": "https://localhost:8080/",
          "height": 519
        },
        "id": "VrQDPLvJyJwp",
        "outputId": "b36b0903-130a-45b2-9abb-69683546b6b6"
      },
      "source": [
        "plt.figure(figsize=(28,16))\n",
        "\n",
        "for index, value in enumerate(numerical):\n",
        "  n = index + 1\n",
        "  plt.subplot(4, 4, n)\n",
        "  fig = df.boxplot(column=value)\n",
        "  fig.set_ylabel(value)"
      ],
      "execution_count": 82,
      "outputs": [
        {
          "output_type": "display_data",
          "data": {
            "image/png": "[encoded data removed]",
            "text/plain": [
              "<Figure size 2016x1152 with 16 Axes>"
            ]
          },
          "metadata": {
            "tags": [],
            "needs_background": "light"
          }
        }
      ]
    },
    {
      "cell_type": "markdown",
      "metadata": {
        "id": "g3-CRJke2CXx"
      },
      "source": [
        "We can observe from these that RainFall, WindSpeed 9am, WindSpeed 3pm and Evaporation might have outliers. Letse check these more in detail."
      ]
    },
    {
      "cell_type": "code",
      "metadata": {
        "colab": {
          "base_uri": "https://localhost:8080/",
          "height": 863
        },
        "id": "1EnJYY3l2TBf",
        "outputId": "82506cf4-fbec-4acb-d09d-397f94cd91f7"
      },
      "source": [
        "outliers = ['Rainfall', 'WindSpeed9am', 'WindSpeed3pm', 'Evaporation']\n",
        "\n",
        "plt.figure(figsize=(15,15))\n",
        "\n",
        "for index, value in enumerate(outliers):\n",
        "  n = index + 1\n",
        "  plt.subplot(2, 2, n)\n",
        "  fig = df.boxplot(column=value)\n",
        "  fig.set_ylabel(value)"
      ],
      "execution_count": 83,
      "outputs": [
        {
          "output_type": "display_data",
          "data": {
            "image/png": "[encoded data removed]",
            "text/plain": [
              "<Figure size 1080x1080 with 4 Axes>"
            ]
          },
          "metadata": {
            "tags": [],
            "needs_background": "light"
          }
        }
      ]
    },
    {
      "cell_type": "markdown",
      "metadata": {
        "id": "2HgtEAg_4pB9"
      },
      "source": [
        "Finding the upper and lower bounds of the outliers using IQR"
      ]
    },
    {
      "cell_type": "code",
      "metadata": {
        "colab": {
          "base_uri": "https://localhost:8080/"
        },
        "id": "Jel3eYXZ4tXe",
        "outputId": "14e424d0-b12a-46e6-c893-4e49ac2a3408"
      },
      "source": [
        "# Rainfall find outlier using IQR and replace\n",
        "\n",
        "IQR = df.Rainfall.quantile(0.75) - df.Rainfall.quantile(0.25)\n",
        "Upper_boundery = df.Rainfall.quantile(0.75) + (IQR * 3)\n",
        "\n",
        "median = df['Rainfall'].median()\n",
        "\n",
        "print(f\"Upper boundary is: {Upper_boundery} and Median is {median}\")\n",
        "\n",
        "df[\"Rainfall\"] = np.where(df[\"Rainfall\"] >Upper_boundery, median,df['Rainfall'])"
      ],
      "execution_count": 84,
      "outputs": [
        {
          "output_type": "stream",
          "text": [
            "Upper boundary is: 8.8 and Median is 0.0\n"
          ],
          "name": "stdout"
        }
      ]
    },
    {
      "cell_type": "code",
      "metadata": {
        "colab": {
          "base_uri": "https://localhost:8080/"
        },
        "id": "4llhZ0fM_d6d",
        "outputId": "2b55feb4-f135-4111-a664-91ff4a695c51"
      },
      "source": [
        "# Windspeed 9 am\n",
        "IQR = df.WindSpeed9am.quantile(0.75) - df.WindSpeed9am.quantile(0.25)\n",
        "Upper_boundery = df.WindSpeed9am.quantile(0.75) + (IQR * 3)\n",
        "\n",
        "median = df['WindSpeed9am'].median()\n",
        "\n",
        "print(f\"Upper boundary is: {Upper_boundery} and Median is {median}\")\n",
        "\n",
        "df[\"WindSpeed9am\"] = np.where(df[\"WindSpeed9am\"] >Upper_boundery, median,df['WindSpeed9am'])"
      ],
      "execution_count": 85,
      "outputs": [
        {
          "output_type": "stream",
          "text": [
            "Upper boundary is: 59.0 and Median is 13.0\n"
          ],
          "name": "stdout"
        }
      ]
    },
    {
      "cell_type": "code",
      "metadata": {
        "colab": {
          "base_uri": "https://localhost:8080/"
        },
        "id": "cpXM7N3F_qDy",
        "outputId": "cebd25c7-2891-4127-d9db-5ab923755ad4"
      },
      "source": [
        "# Windspeed 3 pm\n",
        "IQR = df.WindSpeed3pm.quantile(0.75) - df.WindSpeed3pm.quantile(0.25)\n",
        "Upper_boundery = df.WindSpeed3pm.quantile(0.75) + (IQR * 3)\n",
        "\n",
        "median = df['WindSpeed3pm'].median()\n",
        "\n",
        "print(f\"Upper boundary is: {Upper_boundery} and Median is {median}\")\n",
        "\n",
        "df[\"WindSpeed3pm\"] = np.where(df[\"WindSpeed3pm\"] >Upper_boundery, median,df['WindSpeed3pm'])"
      ],
      "execution_count": 86,
      "outputs": [
        {
          "output_type": "stream",
          "text": [
            "Upper boundary is: 57.0 and Median is 19.0\n"
          ],
          "name": "stdout"
        }
      ]
    },
    {
      "cell_type": "code",
      "metadata": {
        "colab": {
          "base_uri": "https://localhost:8080/"
        },
        "id": "R8H6EeV2_wHS",
        "outputId": "5d4b94f5-da71-4586-ab71-6e34352f651f"
      },
      "source": [
        "# Evaporation\n",
        "IQR = df.Evaporation.quantile(0.75) - df.Evaporation.quantile(0.25)\n",
        "Upper_boundery = df.Evaporation.quantile(0.75) + (IQR * 3)\n",
        "\n",
        "median = df['Evaporation'].median()\n",
        "\n",
        "print(f\"Upper boundary is: {Upper_boundery} and Median is {median}\")\n",
        "\n",
        "df[\"Evaporation\"] = np.where(df[\"Evaporation\"] >Upper_boundery, median,df['Evaporation'])"
      ],
      "execution_count": 87,
      "outputs": [
        {
          "output_type": "stream",
          "text": [
            "Upper boundary is: 20.799999999999997 and Median is 4.4\n"
          ],
          "name": "stdout"
        }
      ]
    },
    {
      "cell_type": "markdown",
      "metadata": {
        "id": "iLuOOXg9_1Cp"
      },
      "source": [
        "Lets check the box plots after fixing the outliers"
      ]
    },
    {
      "cell_type": "code",
      "metadata": {
        "colab": {
          "base_uri": "https://localhost:8080/",
          "height": 863
        },
        "id": "O13_y6NB_5cr",
        "outputId": "c030047b-6377-4e0a-aa40-385bd944b95e"
      },
      "source": [
        "plt.figure(figsize=(15,15))\n",
        "\n",
        "for index, value in enumerate(outliers):\n",
        "  n = index + 1\n",
        "  plt.subplot(2, 2, n)\n",
        "  fig = df.boxplot(column=value)\n",
        "  fig.set_ylabel(value)"
      ],
      "execution_count": 88,
      "outputs": [
        {
          "output_type": "display_data",
          "data": {
            "image/png": "[encoded data removed]",
            "text/plain": [
              "<Figure size 1080x1080 with 4 Axes>"
            ]
          },
          "metadata": {
            "tags": [],
            "needs_background": "light"
          }
        }
      ]
    },
    {
      "cell_type": "markdown",
      "metadata": {
        "id": "eldlh724AG-Q"
      },
      "source": [
        "Looks better now.\n",
        "\n",
        "Now lets replaces all the NA numerical values with the median one."
      ]
    },
    {
      "cell_type": "code",
      "metadata": {
        "colab": {
          "base_uri": "https://localhost:8080/"
        },
        "id": "_TSa9dERAIo3",
        "outputId": "5a215c13-ce0b-446f-86ba-01bb25ee8316"
      },
      "source": [
        "for col in numerical:\n",
        "  col_median = df[col].median()\n",
        "  df[col].fillna(col_median, inplace=True)\n",
        "\n",
        "df[numerical].isnull().sum()"
      ],
      "execution_count": 89,
      "outputs": [
        {
          "output_type": "execute_result",
          "data": {
            "text/plain": [
              "MinTemp          0\n",
              "MaxTemp          0\n",
              "Rainfall         0\n",
              "Evaporation      0\n",
              "Sunshine         0\n",
              "WindGustSpeed    0\n",
              "WindSpeed9am     0\n",
              "WindSpeed3pm     0\n",
              "Humidity9am      0\n",
              "Humidity3pm      0\n",
              "Pressure9am      0\n",
              "Pressure3pm      0\n",
              "Cloud9am         0\n",
              "Cloud3pm         0\n",
              "Temp9am          0\n",
              "Temp3pm          0\n",
              "dtype: int64"
            ]
          },
          "metadata": {
            "tags": []
          },
          "execution_count": 89
        }
      ]
    },
    {
      "cell_type": "markdown",
      "metadata": {
        "id": "WUNwFNTVA66Q"
      },
      "source": [
        "Now theres no null values anymore. Lastly encode categorical values\n",
        "\n",
        "\n"
      ]
    },
    {
      "cell_type": "code",
      "metadata": {
        "id": "AU33GnOuM68Y",
        "colab": {
          "base_uri": "https://localhost:8080/",
          "height": 215
        },
        "outputId": "ceecb91f-1a8d-484e-f1a5-699b42a7df52"
      },
      "source": [
        "df = df.apply(LabelEncoder().fit_transform)\n",
        "\n",
        "df.head()"
      ],
      "execution_count": 90,
      "outputs": [
        {
          "output_type": "execute_result",
          "data": {
            "text/html": [
              "<div>\n",
              "<style scoped>\n",
              "    .dataframe tbody tr th:only-of-type {\n",
              "        vertical-align: middle;\n",
              "    }\n",
              "\n",
              "    .dataframe tbody tr th {\n",
              "        vertical-align: top;\n",
              "    }\n",
              "\n",
              "    .dataframe thead th {\n",
              "        text-align: right;\n",
              "    }\n",
              "</style>\n",
              "<table border=\"1\" class=\"dataframe\">\n",
              "  <thead>\n",
              "    <tr style=\"text-align: right;\">\n",
              "      <th></th>\n",
              "      <th>Date</th>\n",
              "      <th>MinTemp</th>\n",
              "      <th>MaxTemp</th>\n",
              "      <th>Rainfall</th>\n",
              "      <th>Evaporation</th>\n",
              "      <th>Sunshine</th>\n",
              "      <th>WindGustDir</th>\n",
              "      <th>WindGustSpeed</th>\n",
              "      <th>WindDir9am</th>\n",
              "      <th>WindDir3pm</th>\n",
              "      <th>WindSpeed9am</th>\n",
              "      <th>WindSpeed3pm</th>\n",
              "      <th>Humidity9am</th>\n",
              "      <th>Humidity3pm</th>\n",
              "      <th>Pressure9am</th>\n",
              "      <th>Pressure3pm</th>\n",
              "      <th>Cloud9am</th>\n",
              "      <th>Cloud3pm</th>\n",
              "      <th>Temp9am</th>\n",
              "      <th>Temp3pm</th>\n",
              "      <th>RainToday</th>\n",
              "      <th>RainTomorrow</th>\n",
              "    </tr>\n",
              "  </thead>\n",
              "  <tbody>\n",
              "    <tr>\n",
              "      <th>8</th>\n",
              "      <td>270</td>\n",
              "      <td>167</td>\n",
              "      <td>345</td>\n",
              "      <td>0</td>\n",
              "      <td>44</td>\n",
              "      <td>68</td>\n",
              "      <td>6</td>\n",
              "      <td>39</td>\n",
              "      <td>9</td>\n",
              "      <td>7</td>\n",
              "      <td>4</td>\n",
              "      <td>15</td>\n",
              "      <td>41</td>\n",
              "      <td>9</td>\n",
              "      <td>222</td>\n",
              "      <td>193</td>\n",
              "      <td>6</td>\n",
              "      <td>6</td>\n",
              "      <td>230</td>\n",
              "      <td>341</td>\n",
              "      <td>0</td>\n",
              "      <td>1</td>\n",
              "    </tr>\n",
              "    <tr>\n",
              "      <th>10</th>\n",
              "      <td>272</td>\n",
              "      <td>204</td>\n",
              "      <td>330</td>\n",
              "      <td>0</td>\n",
              "      <td>44</td>\n",
              "      <td>68</td>\n",
              "      <td>3</td>\n",
              "      <td>12</td>\n",
              "      <td>10</td>\n",
              "      <td>2</td>\n",
              "      <td>9</td>\n",
              "      <td>3</td>\n",
              "      <td>47</td>\n",
              "      <td>22</td>\n",
              "      <td>251</td>\n",
              "      <td>244</td>\n",
              "      <td>6</td>\n",
              "      <td>6</td>\n",
              "      <td>251</td>\n",
              "      <td>327</td>\n",
              "      <td>0</td>\n",
              "      <td>1</td>\n",
              "    </tr>\n",
              "    <tr>\n",
              "      <th>11</th>\n",
              "      <td>273</td>\n",
              "      <td>229</td>\n",
              "      <td>243</td>\n",
              "      <td>22</td>\n",
              "      <td>44</td>\n",
              "      <td>68</td>\n",
              "      <td>5</td>\n",
              "      <td>13</td>\n",
              "      <td>4</td>\n",
              "      <td>1</td>\n",
              "      <td>8</td>\n",
              "      <td>7</td>\n",
              "      <td>88</td>\n",
              "      <td>91</td>\n",
              "      <td>238</td>\n",
              "      <td>199</td>\n",
              "      <td>8</td>\n",
              "      <td>8</td>\n",
              "      <td>206</td>\n",
              "      <td>209</td>\n",
              "      <td>1</td>\n",
              "      <td>1</td>\n",
              "    </tr>\n",
              "    <tr>\n",
              "      <th>12</th>\n",
              "      <td>274</td>\n",
              "      <td>229</td>\n",
              "      <td>212</td>\n",
              "      <td>0</td>\n",
              "      <td>44</td>\n",
              "      <td>68</td>\n",
              "      <td>13</td>\n",
              "      <td>29</td>\n",
              "      <td>6</td>\n",
              "      <td>6</td>\n",
              "      <td>15</td>\n",
              "      <td>15</td>\n",
              "      <td>75</td>\n",
              "      <td>93</td>\n",
              "      <td>76</td>\n",
              "      <td>87</td>\n",
              "      <td>8</td>\n",
              "      <td>8</td>\n",
              "      <td>221</td>\n",
              "      <td>197</td>\n",
              "      <td>1</td>\n",
              "      <td>1</td>\n",
              "    </tr>\n",
              "    <tr>\n",
              "      <th>16</th>\n",
              "      <td>278</td>\n",
              "      <td>211</td>\n",
              "      <td>235</td>\n",
              "      <td>0</td>\n",
              "      <td>44</td>\n",
              "      <td>68</td>\n",
              "      <td>1</td>\n",
              "      <td>8</td>\n",
              "      <td>11</td>\n",
              "      <td>0</td>\n",
              "      <td>6</td>\n",
              "      <td>5</td>\n",
              "      <td>68</td>\n",
              "      <td>82</td>\n",
              "      <td>255</td>\n",
              "      <td>261</td>\n",
              "      <td>8</td>\n",
              "      <td>1</td>\n",
              "      <td>219</td>\n",
              "      <td>220</td>\n",
              "      <td>0</td>\n",
              "      <td>1</td>\n",
              "    </tr>\n",
              "  </tbody>\n",
              "</table>\n",
              "</div>"
            ],
            "text/plain": [
              "    Date  MinTemp  MaxTemp  Rainfall  ...  Temp9am  Temp3pm  RainToday  RainTomorrow\n",
              "8    270      167      345         0  ...      230      341          0             1\n",
              "10   272      204      330         0  ...      251      327          0             1\n",
              "11   273      229      243        22  ...      206      209          1             1\n",
              "12   274      229      212         0  ...      221      197          1             1\n",
              "16   278      211      235         0  ...      219      220          0             1\n",
              "\n",
              "[5 rows x 22 columns]"
            ]
          },
          "metadata": {
            "tags": []
          },
          "execution_count": 90
        }
      ]
    },
    {
      "cell_type": "markdown",
      "metadata": {
        "id": "RQ003Z3-Rblr"
      },
      "source": [
        "Split data into train and test set"
      ]
    },
    {
      "cell_type": "code",
      "metadata": {
        "id": "8vP7lhnLIqAX",
        "colab": {
          "base_uri": "https://localhost:8080/"
        },
        "outputId": "ff064f7e-5142-4e58-8f44-690359911d0e"
      },
      "source": [
        "y = df[target]\n",
        "X = df.drop([target], axis=1)\n",
        "X_train, X_test, y_train, y_test = train_test_split(X, y, test_size = 0.2, random_state = 0)\n",
        "X_train.shape, X_test.shape"
      ],
      "execution_count": 91,
      "outputs": [
        {
          "output_type": "execute_result",
          "data": {
            "text/plain": [
              "((51003, 21), (12751, 21))"
            ]
          },
          "metadata": {
            "tags": []
          },
          "execution_count": 91
        }
      ]
    },
    {
      "cell_type": "markdown",
      "metadata": {
        "id": "ihfNTdPlIL4-"
      },
      "source": [
        "# Decision Tree Classifier"
      ]
    },
    {
      "cell_type": "code",
      "metadata": {
        "id": "A8xt31BULUbI",
        "colab": {
          "base_uri": "https://localhost:8080/"
        },
        "outputId": "d895a991-ca4c-4ea2-a726-e47217b75103"
      },
      "source": [
        "tree = DecisionTreeClassifier(criterion = 'entropy').fit(X_train,y_train)\n",
        "\n",
        "y_pred_test = tree.predict(X_test)\n",
        "\n",
        "score = accuracy_score(y_test, y_pred_test)\n",
        "\n",
        "print(f'Model accuracy score: {score}')"
      ],
      "execution_count": 96,
      "outputs": [
        {
          "output_type": "stream",
          "text": [
            "Model accuracy score: 0.8610305074111835\n"
          ],
          "name": "stdout"
        }
      ]
    },
    {
      "cell_type": "markdown",
      "metadata": {
        "id": "MgZG9siMOU5q"
      },
      "source": [
        "Compare train and test set accuracy score"
      ]
    },
    {
      "cell_type": "code",
      "metadata": {
        "id": "-q20eO57OXCS",
        "colab": {
          "base_uri": "https://localhost:8080/"
        },
        "outputId": "b89fd1f6-1cf1-4742-e5bf-03f0fe1e63ea"
      },
      "source": [
        "y_pred_train = tree.predict(X_train)\n",
        "\n",
        "score2 = accuracy_score(y_train, y_pred_train)\n",
        "\n",
        "print(f'Model accuracy score: {score2}')"
      ],
      "execution_count": 97,
      "outputs": [
        {
          "output_type": "stream",
          "text": [
            "Model accuracy score: 1.0\n"
          ],
          "name": "stdout"
        }
      ]
    },
    {
      "cell_type": "markdown",
      "metadata": {
        "id": "MtXq7LyIPlCA"
      },
      "source": [
        "Plotting confusion matrices"
      ]
    },
    {
      "cell_type": "code",
      "metadata": {
        "id": "FFj41BGeP8Gq"
      },
      "source": [
        "def plot_confusion_matrix(cm):\n",
        "  plt.imshow(cm, interpolation='nearest', cmap=plt.cm.Blues)\n",
        "  plt.colorbar(fraction=0.5)\n",
        "  plt.tight_layout()\n",
        "  plt.ylabel('True Label')\n",
        "  plt.xlabel('Predicted Label')"
      ],
      "execution_count": 98,
      "outputs": []
    },
    {
      "cell_type": "code",
      "metadata": {
        "id": "2CsfD6DFPnjM",
        "colab": {
          "base_uri": "https://localhost:8080/",
          "height": 297
        },
        "outputId": "d01346f8-6dcf-4965-faaf-91e77beb0e6a"
      },
      "source": [
        "cm = confusion_matrix(y_test, y_pred_test)\n",
        "\n",
        "plot_confusion_matrix(cm)"
      ],
      "execution_count": 99,
      "outputs": [
        {
          "output_type": "display_data",
          "data": {
            "image/png": "[encoded data removed]",
            "text/plain": [
              "<Figure size 432x288 with 2 Axes>"
            ]
          },
          "metadata": {
            "tags": [],
            "needs_background": "light"
          }
        }
      ]
    },
    {
      "cell_type": "code",
      "metadata": {
        "id": "Dt0-8E6lRJEx",
        "colab": {
          "base_uri": "https://localhost:8080/",
          "height": 313
        },
        "outputId": "d92df153-9275-462d-db44-79e4070ceb0a"
      },
      "source": [
        "cm_normalized = cm.astype('float') / cm.sum(axis=1)[:, np.newaxis]\n",
        "print('Normalized confusion matrix')\n",
        "plot_confusion_matrix(cm_normalized)"
      ],
      "execution_count": 100,
      "outputs": [
        {
          "output_type": "stream",
          "text": [
            "Normalized confusion matrix\n"
          ],
          "name": "stdout"
        },
        {
          "output_type": "display_data",
          "data": {
            "image/png": "[encoded data removed]",
            "text/plain": [
              "<Figure size 432x288 with 2 Axes>"
            ]
          },
          "metadata": {
            "tags": [],
            "needs_background": "light"
          }
        }
      ]
    },
    {
      "cell_type": "markdown",
      "metadata": {
        "id": "m2iDY6KTRfuQ"
      },
      "source": [
        "# Logistic Regression Model"
      ]
    },
    {
      "cell_type": "code",
      "metadata": {
        "id": "dRsHklz0SFGQ",
        "colab": {
          "base_uri": "https://localhost:8080/"
        },
        "outputId": "b78468f4-828a-4f2e-df0c-bef3d4b992ba"
      },
      "source": [
        "logreg = LogisticRegression(solver='liblinear', random_state=0).fit(X_train, y_train)\n",
        "\n",
        "y_pred_test = logreg.predict(X_test)\n",
        "\n",
        "score = accuracy_score(y_test, y_pred_test)\n",
        "\n",
        "print(f'Model accuracy score: {score}')"
      ],
      "execution_count": 101,
      "outputs": [
        {
          "output_type": "stream",
          "text": [
            "Model accuracy score: 0.7820563093090738\n"
          ],
          "name": "stdout"
        }
      ]
    },
    {
      "cell_type": "markdown",
      "metadata": {
        "id": "9OLQj6aMSYxP"
      },
      "source": [
        "Compare againts test set"
      ]
    },
    {
      "cell_type": "code",
      "metadata": {
        "id": "_A8k6A6lSbTz",
        "colab": {
          "base_uri": "https://localhost:8080/"
        },
        "outputId": "cc343a58-2147-4f88-ffbd-0425a4c36c1e"
      },
      "source": [
        "y_pred_train = logreg.predict(X_train)\n",
        "\n",
        "score2 = accuracy_score(y_train, y_pred_train)\n",
        "\n",
        "print(f'Model accuracy score: {score2}')"
      ],
      "execution_count": 102,
      "outputs": [
        {
          "output_type": "stream",
          "text": [
            "Model accuracy score: 0.7807972080073721\n"
          ],
          "name": "stdout"
        }
      ]
    },
    {
      "cell_type": "code",
      "metadata": {
        "id": "YRjJYkHaSjra",
        "colab": {
          "base_uri": "https://localhost:8080/",
          "height": 297
        },
        "outputId": "d947accb-715c-432a-ebfd-2c8731e252c2"
      },
      "source": [
        "cm = confusion_matrix(y_test, y_pred_test)\n",
        "\n",
        "plot_confusion_matrix(cm)"
      ],
      "execution_count": 103,
      "outputs": [
        {
          "output_type": "display_data",
          "data": {
            "image/png": "[encoded data removed]",
            "text/plain": [
              "<Figure size 432x288 with 2 Axes>"
            ]
          },
          "metadata": {
            "tags": [],
            "needs_background": "light"
          }
        }
      ]
    },
    {
      "cell_type": "code",
      "metadata": {
        "id": "oYTPVkciSmn3",
        "colab": {
          "base_uri": "https://localhost:8080/",
          "height": 314
        },
        "outputId": "4b0458ed-a8c7-4445-a91f-48ac08feaac0"
      },
      "source": [
        "cm_normalized = cm.astype('float') / cm.sum(axis=1)[:, np.newaxis]\n",
        "print('Normalized confusion matrix')\n",
        "plot_confusion_matrix(cm_normalized)"
      ],
      "execution_count": 104,
      "outputs": [
        {
          "output_type": "stream",
          "text": [
            "Normalized confusion matrix\n"
          ],
          "name": "stdout"
        },
        {
          "output_type": "display_data",
          "data": {
            "image/png": "[encoded data removed]",
            "text/plain": [
              "<Figure size 432x288 with 2 Axes>"
            ]
          },
          "metadata": {
            "tags": [],
            "needs_background": "light"
          }
        }
      ]
    }
  ]
}