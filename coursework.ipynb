{
  "nbformat": 4,
  "nbformat_minor": 0,
  "metadata": {
    "language_info": {
      "codemirror_mode": {
        "name": "ipython",
        "version": 3
      },
      "file_extension": ".py",
      "mimetype": "text/x-python",
      "name": "python",
      "nbconvert_exporter": "python",
      "pygments_lexer": "ipython3",
      "version": "3.8.3-final"
    },
    "orig_nbformat": 2,
    "kernelspec": {
      "name": "python3",
      "display_name": "Python 3",
      "language": "python"
    },
    "colab": {
      "name": "coursework.ipynb",
      "provenance": []
    }
  },
  "cells": [
    {
      "cell_type": "markdown",
      "metadata": {
        "id": "hz8tRZ1xgFix"
      },
      "source": [
        "# Will it rain tomorrow in Australia?\n",
        "\n",
        "The objective of this, is to find the best model that will predict if it will rain tomorrow in Australia. The data-set is from Kaggle, but we will load it from a github repositiry, as Kaggle downlaod service is not reliable."
      ]
    },
    {
      "cell_type": "markdown",
      "metadata": {
        "id": "UQGBX9dHgY-5"
      },
      "source": [
        "We will start by importing all the libaries we require."
      ]
    },
    {
      "cell_type": "code",
      "metadata": {
        "id": "wLmonjDqH6BX"
      },
      "source": [
        "import os\n",
        "import numpy as np\n",
        "import pandas as pd\n",
        "import seaborn as sns\n",
        "import matplotlib.pyplot as plt\n",
        "from sklearn.utils import resample\n",
        "from sklearn.model_selection import train_test_split\n",
        "from sklearn.tree import DecisionTreeClassifier\n",
        "from sklearn.preprocessing import LabelEncoder\n",
        "from sklearn.metrics import accuracy_score\n",
        "from sklearn.metrics import confusion_matrix\n",
        "from sklearn.linear_model import LogisticRegression\n",
        "from sklearn.neural_network import MLPClassifier"
      ],
      "execution_count": 227,
      "outputs": []
    },
    {
      "cell_type": "markdown",
      "metadata": {
        "id": "_P5ShtIlghaJ"
      },
      "source": [
        "Loading the data into a pandas Data Frame."
      ]
    },
    {
      "cell_type": "code",
      "metadata": {
        "id": "f8sON322H6Bd"
      },
      "source": [
        "df = pd.read_csv(\"https://raw.githubusercontent.com/medzz123/rain-data/main/weatherAUS.csv\",  na_values=['NA', '?'])"
      ],
      "execution_count": 228,
      "outputs": []
    },
    {
      "cell_type": "markdown",
      "metadata": {
        "id": "rQM6Ddkck6Dy"
      },
      "source": [
        "## Resuffle Data?"
      ]
    },
    {
      "cell_type": "markdown",
      "metadata": {
        "id": "Bx2D_XWqgy1V"
      },
      "source": [
        "Now lets check the summary of the data. This should give us the shape of the data, and its feature columns. "
      ]
    },
    {
      "cell_type": "code",
      "metadata": {
        "colab": {
          "base_uri": "https://localhost:8080/"
        },
        "id": "PxGTAxuiH6Bg",
        "outputId": "29baada4-7f01-4106-e3ec-a872c74bc2ed"
      },
      "source": [
        "df.info()"
      ],
      "execution_count": 229,
      "outputs": [
        {
          "output_type": "stream",
          "text": [
            "<class 'pandas.core.frame.DataFrame'>\n",
            "RangeIndex: 145460 entries, 0 to 145459\n",
            "Data columns (total 23 columns):\n",
            " #   Column         Non-Null Count   Dtype  \n",
            "---  ------         --------------   -----  \n",
            " 0   Date           145460 non-null  object \n",
            " 1   Location       145460 non-null  object \n",
            " 2   MinTemp        143975 non-null  float64\n",
            " 3   MaxTemp        144199 non-null  float64\n",
            " 4   Rainfall       142199 non-null  float64\n",
            " 5   Evaporation    82670 non-null   float64\n",
            " 6   Sunshine       75625 non-null   float64\n",
            " 7   WindGustDir    135134 non-null  object \n",
            " 8   WindGustSpeed  135197 non-null  float64\n",
            " 9   WindDir9am     134894 non-null  object \n",
            " 10  WindDir3pm     141232 non-null  object \n",
            " 11  WindSpeed9am   143693 non-null  float64\n",
            " 12  WindSpeed3pm   142398 non-null  float64\n",
            " 13  Humidity9am    142806 non-null  float64\n",
            " 14  Humidity3pm    140953 non-null  float64\n",
            " 15  Pressure9am    130395 non-null  float64\n",
            " 16  Pressure3pm    130432 non-null  float64\n",
            " 17  Cloud9am       89572 non-null   float64\n",
            " 18  Cloud3pm       86102 non-null   float64\n",
            " 19  Temp9am        143693 non-null  float64\n",
            " 20  Temp3pm        141851 non-null  float64\n",
            " 21  RainToday      142199 non-null  object \n",
            " 22  RainTomorrow   142193 non-null  object \n",
            "dtypes: float64(16), object(7)\n",
            "memory usage: 25.5+ MB\n"
          ],
          "name": "stdout"
        }
      ]
    },
    {
      "cell_type": "code",
      "metadata": {
        "colab": {
          "base_uri": "https://localhost:8080/"
        },
        "id": "1Y3UyGHAh0Uu",
        "outputId": "cc83ec1e-ad41-4efc-be15-bdf25b9ff3b1"
      },
      "source": [
        "df.count().sort_values()"
      ],
      "execution_count": 230,
      "outputs": [
        {
          "output_type": "execute_result",
          "data": {
            "text/plain": [
              "Sunshine          75625\n",
              "Evaporation       82670\n",
              "Cloud3pm          86102\n",
              "Cloud9am          89572\n",
              "Pressure9am      130395\n",
              "Pressure3pm      130432\n",
              "WindDir9am       134894\n",
              "WindGustDir      135134\n",
              "WindGustSpeed    135197\n",
              "Humidity3pm      140953\n",
              "WindDir3pm       141232\n",
              "Temp3pm          141851\n",
              "RainTomorrow     142193\n",
              "RainToday        142199\n",
              "Rainfall         142199\n",
              "WindSpeed3pm     142398\n",
              "Humidity9am      142806\n",
              "Temp9am          143693\n",
              "WindSpeed9am     143693\n",
              "MinTemp          143975\n",
              "MaxTemp          144199\n",
              "Location         145460\n",
              "Date             145460\n",
              "dtype: int64"
            ]
          },
          "metadata": {
            "tags": []
          },
          "execution_count": 230
        }
      ]
    },
    {
      "cell_type": "markdown",
      "metadata": {
        "id": "3ZKpsnqcfy3f"
      },
      "source": [
        "We can observe that there is a total of 145460 entries with 23 columns. There are lot of columns which contains null values. \n",
        "\n",
        "Our target is `RainTomorrow`. As this column contains null values, we can drop those entries, as we won't be able test the accuracy of our model of those entries. \n",
        "\n",
        "We will also drop Location, as it the objective is to find out if it will rain tomorrow in Australia, not in a specific location. "
      ]
    },
    {
      "cell_type": "code",
      "metadata": {
        "id": "y2dnwyEHTkAK",
        "colab": {
          "base_uri": "https://localhost:8080/",
          "height": 299
        },
        "outputId": "1432e8e5-5b3b-4302-fe9c-91672700886a"
      },
      "source": [
        "target = 'RainTomorrow'\n",
        "\n",
        "df = df.drop(columns=['Location'],axis=1)\n",
        "\n",
        "df = df[df[target].notna()]\n",
        "\n",
        "df.head()"
      ],
      "execution_count": 231,
      "outputs": [
        {
          "output_type": "execute_result",
          "data": {
            "text/html": [
              "<div>\n",
              "<style scoped>\n",
              "    .dataframe tbody tr th:only-of-type {\n",
              "        vertical-align: middle;\n",
              "    }\n",
              "\n",
              "    .dataframe tbody tr th {\n",
              "        vertical-align: top;\n",
              "    }\n",
              "\n",
              "    .dataframe thead th {\n",
              "        text-align: right;\n",
              "    }\n",
              "</style>\n",
              "<table border=\"1\" class=\"dataframe\">\n",
              "  <thead>\n",
              "    <tr style=\"text-align: right;\">\n",
              "      <th></th>\n",
              "      <th>Date</th>\n",
              "      <th>MinTemp</th>\n",
              "      <th>MaxTemp</th>\n",
              "      <th>Rainfall</th>\n",
              "      <th>Evaporation</th>\n",
              "      <th>Sunshine</th>\n",
              "      <th>WindGustDir</th>\n",
              "      <th>WindGustSpeed</th>\n",
              "      <th>WindDir9am</th>\n",
              "      <th>WindDir3pm</th>\n",
              "      <th>WindSpeed9am</th>\n",
              "      <th>WindSpeed3pm</th>\n",
              "      <th>Humidity9am</th>\n",
              "      <th>Humidity3pm</th>\n",
              "      <th>Pressure9am</th>\n",
              "      <th>Pressure3pm</th>\n",
              "      <th>Cloud9am</th>\n",
              "      <th>Cloud3pm</th>\n",
              "      <th>Temp9am</th>\n",
              "      <th>Temp3pm</th>\n",
              "      <th>RainToday</th>\n",
              "      <th>RainTomorrow</th>\n",
              "    </tr>\n",
              "  </thead>\n",
              "  <tbody>\n",
              "    <tr>\n",
              "      <th>0</th>\n",
              "      <td>2008-12-01</td>\n",
              "      <td>13.4</td>\n",
              "      <td>22.9</td>\n",
              "      <td>0.6</td>\n",
              "      <td>NaN</td>\n",
              "      <td>NaN</td>\n",
              "      <td>W</td>\n",
              "      <td>44.0</td>\n",
              "      <td>W</td>\n",
              "      <td>WNW</td>\n",
              "      <td>20.0</td>\n",
              "      <td>24.0</td>\n",
              "      <td>71.0</td>\n",
              "      <td>22.0</td>\n",
              "      <td>1007.7</td>\n",
              "      <td>1007.1</td>\n",
              "      <td>8.0</td>\n",
              "      <td>NaN</td>\n",
              "      <td>16.9</td>\n",
              "      <td>21.8</td>\n",
              "      <td>No</td>\n",
              "      <td>No</td>\n",
              "    </tr>\n",
              "    <tr>\n",
              "      <th>1</th>\n",
              "      <td>2008-12-02</td>\n",
              "      <td>7.4</td>\n",
              "      <td>25.1</td>\n",
              "      <td>0.0</td>\n",
              "      <td>NaN</td>\n",
              "      <td>NaN</td>\n",
              "      <td>WNW</td>\n",
              "      <td>44.0</td>\n",
              "      <td>NNW</td>\n",
              "      <td>WSW</td>\n",
              "      <td>4.0</td>\n",
              "      <td>22.0</td>\n",
              "      <td>44.0</td>\n",
              "      <td>25.0</td>\n",
              "      <td>1010.6</td>\n",
              "      <td>1007.8</td>\n",
              "      <td>NaN</td>\n",
              "      <td>NaN</td>\n",
              "      <td>17.2</td>\n",
              "      <td>24.3</td>\n",
              "      <td>No</td>\n",
              "      <td>No</td>\n",
              "    </tr>\n",
              "    <tr>\n",
              "      <th>2</th>\n",
              "      <td>2008-12-03</td>\n",
              "      <td>12.9</td>\n",
              "      <td>25.7</td>\n",
              "      <td>0.0</td>\n",
              "      <td>NaN</td>\n",
              "      <td>NaN</td>\n",
              "      <td>WSW</td>\n",
              "      <td>46.0</td>\n",
              "      <td>W</td>\n",
              "      <td>WSW</td>\n",
              "      <td>19.0</td>\n",
              "      <td>26.0</td>\n",
              "      <td>38.0</td>\n",
              "      <td>30.0</td>\n",
              "      <td>1007.6</td>\n",
              "      <td>1008.7</td>\n",
              "      <td>NaN</td>\n",
              "      <td>2.0</td>\n",
              "      <td>21.0</td>\n",
              "      <td>23.2</td>\n",
              "      <td>No</td>\n",
              "      <td>No</td>\n",
              "    </tr>\n",
              "    <tr>\n",
              "      <th>3</th>\n",
              "      <td>2008-12-04</td>\n",
              "      <td>9.2</td>\n",
              "      <td>28.0</td>\n",
              "      <td>0.0</td>\n",
              "      <td>NaN</td>\n",
              "      <td>NaN</td>\n",
              "      <td>NE</td>\n",
              "      <td>24.0</td>\n",
              "      <td>SE</td>\n",
              "      <td>E</td>\n",
              "      <td>11.0</td>\n",
              "      <td>9.0</td>\n",
              "      <td>45.0</td>\n",
              "      <td>16.0</td>\n",
              "      <td>1017.6</td>\n",
              "      <td>1012.8</td>\n",
              "      <td>NaN</td>\n",
              "      <td>NaN</td>\n",
              "      <td>18.1</td>\n",
              "      <td>26.5</td>\n",
              "      <td>No</td>\n",
              "      <td>No</td>\n",
              "    </tr>\n",
              "    <tr>\n",
              "      <th>4</th>\n",
              "      <td>2008-12-05</td>\n",
              "      <td>17.5</td>\n",
              "      <td>32.3</td>\n",
              "      <td>1.0</td>\n",
              "      <td>NaN</td>\n",
              "      <td>NaN</td>\n",
              "      <td>W</td>\n",
              "      <td>41.0</td>\n",
              "      <td>ENE</td>\n",
              "      <td>NW</td>\n",
              "      <td>7.0</td>\n",
              "      <td>20.0</td>\n",
              "      <td>82.0</td>\n",
              "      <td>33.0</td>\n",
              "      <td>1010.8</td>\n",
              "      <td>1006.0</td>\n",
              "      <td>7.0</td>\n",
              "      <td>8.0</td>\n",
              "      <td>17.8</td>\n",
              "      <td>29.7</td>\n",
              "      <td>No</td>\n",
              "      <td>No</td>\n",
              "    </tr>\n",
              "  </tbody>\n",
              "</table>\n",
              "</div>"
            ],
            "text/plain": [
              "         Date  MinTemp  MaxTemp  ...  Temp3pm  RainToday  RainTomorrow\n",
              "0  2008-12-01     13.4     22.9  ...     21.8         No            No\n",
              "1  2008-12-02      7.4     25.1  ...     24.3         No            No\n",
              "2  2008-12-03     12.9     25.7  ...     23.2         No            No\n",
              "3  2008-12-04      9.2     28.0  ...     26.5         No            No\n",
              "4  2008-12-05     17.5     32.3  ...     29.7         No            No\n",
              "\n",
              "[5 rows x 22 columns]"
            ]
          },
          "metadata": {
            "tags": []
          },
          "execution_count": 231
        }
      ]
    },
    {
      "cell_type": "code",
      "metadata": {
        "colab": {
          "base_uri": "https://localhost:8080/"
        },
        "id": "YJnJ6jrAiaEM",
        "outputId": "1f366c8f-f3cd-4026-ef51-334a5516d423"
      },
      "source": [
        "df.shape"
      ],
      "execution_count": 232,
      "outputs": [
        {
          "output_type": "execute_result",
          "data": {
            "text/plain": [
              "(142193, 22)"
            ]
          },
          "metadata": {
            "tags": []
          },
          "execution_count": 232
        }
      ]
    },
    {
      "cell_type": "markdown",
      "metadata": {
        "id": "h2r7YzEuieiH"
      },
      "source": [
        "We can observe that arround 3 thousand entries have dropped. Now we need to observe the type of our target. "
      ]
    },
    {
      "cell_type": "code",
      "metadata": {
        "id": "kWy_ys1ZO6Eh",
        "colab": {
          "base_uri": "https://localhost:8080/"
        },
        "outputId": "12fb1053-bd04-428e-f066-f7c56497b943"
      },
      "source": [
        "df[target].value_counts()"
      ],
      "execution_count": 233,
      "outputs": [
        {
          "output_type": "execute_result",
          "data": {
            "text/plain": [
              "No     110316\n",
              "Yes     31877\n",
              "Name: RainTomorrow, dtype: int64"
            ]
          },
          "metadata": {
            "tags": []
          },
          "execution_count": 233
        }
      ]
    },
    {
      "cell_type": "markdown",
      "metadata": {
        "id": "PJ4Y7jDFiyeR"
      },
      "source": [
        "We can see that `RainTomorrow` can either be `Yes` or `No` which translates to Classification problem. Lets check the propoptions between these two. "
      ]
    },
    {
      "cell_type": "code",
      "metadata": {
        "id": "9sX87mwLT7bp",
        "colab": {
          "base_uri": "https://localhost:8080/"
        },
        "outputId": "07f13eb6-2d9b-46d8-c20b-a87691a7aca0"
      },
      "source": [
        "df[target].value_counts()/len(df)"
      ],
      "execution_count": 234,
      "outputs": [
        {
          "output_type": "execute_result",
          "data": {
            "text/plain": [
              "No     0.775819\n",
              "Yes    0.224181\n",
              "Name: RainTomorrow, dtype: float64"
            ]
          },
          "metadata": {
            "tags": []
          },
          "execution_count": 234
        }
      ]
    },
    {
      "cell_type": "markdown",
      "metadata": {
        "id": "kSu2poX-jDL6"
      },
      "source": [
        "We can observe that in Australia it rains only 22% of the time. Lets plot this a chart."
      ]
    },
    {
      "cell_type": "code",
      "metadata": {
        "id": "iI6qYNp2TDu-",
        "colab": {
          "base_uri": "https://localhost:8080/",
          "height": 279
        },
        "outputId": "1a41ee34-7d9e-4b89-b148-66415bdea9f2"
      },
      "source": [
        "sns.countplot(x=target, data=df, palette=\"bwr\")\n",
        "plt.show()"
      ],
      "execution_count": 235,
      "outputs": [
        {
          "output_type": "display_data",
          "data": {
            "image/png": "[encoded data removed]",
            "text/plain": [
              "<Figure size 432x288 with 1 Axes>"
            ]
          },
          "metadata": {
            "tags": [],
            "needs_background": "light"
          }
        }
      ]
    },
    {
      "cell_type": "markdown",
      "metadata": {
        "id": "jJg12x9gFi5T"
      },
      "source": [
        "This also shows that our dataset is imbalanced. This means that whichever model we use, we will get almost perfect accuracy. To mitigate that, we will oversample the minority values. This is done by generating new samples."
      ]
    },
    {
      "cell_type": "code",
      "metadata": {
        "id": "lUApB4cjGbqn",
        "colab": {
          "base_uri": "https://localhost:8080/",
          "height": 279
        },
        "outputId": "53723d22-3ddb-4eb5-fb6f-a82a3254145f"
      },
      "source": [
        "yesRain = df[df.RainTomorrow == \"No\"]\r\n",
        "noRain = df[df.RainTomorrow == \"Yes\"]\r\n",
        "\r\n",
        "yesOversampled = resample(yesRain, replace = True, n_samples=len(noRain), random_state=123)\r\n",
        "df = pd.concat([noRain, yesOversampled])\r\n",
        "\r\n",
        "sns.countplot(x='RainTomorrow', data=df, palette=\"bwr\")\r\n",
        "plt.show()"
      ],
      "execution_count": 236,
      "outputs": [
        {
          "output_type": "display_data",
          "data": {
            "image/png": "[encoded data removed]",
            "text/plain": [
              "<Figure size 432x288 with 1 Axes>"
            ]
          },
          "metadata": {
            "tags": [],
            "needs_background": "light"
          }
        }
      ]
    },
    {
      "cell_type": "markdown",
      "metadata": {
        "id": "T67k9AOLwvXH"
      },
      "source": [
        "## Explore Values"
      ]
    },
    {
      "cell_type": "code",
      "metadata": {
        "colab": {
          "base_uri": "https://localhost:8080/",
          "height": 195
        },
        "id": "rBBxMWi2wxxE",
        "outputId": "9b6cb5a7-d3fb-4c64-825f-057b39063e4f"
      },
      "source": [
        "categorical = [name for name in df.columns if df[name].dtype=='O']\n",
        "\n",
        "df[categorical].head()"
      ],
      "execution_count": 237,
      "outputs": [
        {
          "output_type": "execute_result",
          "data": {
            "text/html": [
              "<div>\n",
              "<style scoped>\n",
              "    .dataframe tbody tr th:only-of-type {\n",
              "        vertical-align: middle;\n",
              "    }\n",
              "\n",
              "    .dataframe tbody tr th {\n",
              "        vertical-align: top;\n",
              "    }\n",
              "\n",
              "    .dataframe thead th {\n",
              "        text-align: right;\n",
              "    }\n",
              "</style>\n",
              "<table border=\"1\" class=\"dataframe\">\n",
              "  <thead>\n",
              "    <tr style=\"text-align: right;\">\n",
              "      <th></th>\n",
              "      <th>Date</th>\n",
              "      <th>WindGustDir</th>\n",
              "      <th>WindDir9am</th>\n",
              "      <th>WindDir3pm</th>\n",
              "      <th>RainToday</th>\n",
              "      <th>RainTomorrow</th>\n",
              "    </tr>\n",
              "  </thead>\n",
              "  <tbody>\n",
              "    <tr>\n",
              "      <th>8</th>\n",
              "      <td>2008-12-09</td>\n",
              "      <td>NNW</td>\n",
              "      <td>SE</td>\n",
              "      <td>NW</td>\n",
              "      <td>No</td>\n",
              "      <td>Yes</td>\n",
              "    </tr>\n",
              "    <tr>\n",
              "      <th>10</th>\n",
              "      <td>2008-12-11</td>\n",
              "      <td>N</td>\n",
              "      <td>SSE</td>\n",
              "      <td>ESE</td>\n",
              "      <td>No</td>\n",
              "      <td>Yes</td>\n",
              "    </tr>\n",
              "    <tr>\n",
              "      <th>11</th>\n",
              "      <td>2008-12-12</td>\n",
              "      <td>NNE</td>\n",
              "      <td>NE</td>\n",
              "      <td>ENE</td>\n",
              "      <td>Yes</td>\n",
              "      <td>Yes</td>\n",
              "    </tr>\n",
              "    <tr>\n",
              "      <th>12</th>\n",
              "      <td>2008-12-13</td>\n",
              "      <td>W</td>\n",
              "      <td>NNW</td>\n",
              "      <td>NNW</td>\n",
              "      <td>Yes</td>\n",
              "      <td>Yes</td>\n",
              "    </tr>\n",
              "    <tr>\n",
              "      <th>16</th>\n",
              "      <td>2008-12-17</td>\n",
              "      <td>ENE</td>\n",
              "      <td>SSW</td>\n",
              "      <td>E</td>\n",
              "      <td>No</td>\n",
              "      <td>Yes</td>\n",
              "    </tr>\n",
              "  </tbody>\n",
              "</table>\n",
              "</div>"
            ],
            "text/plain": [
              "          Date WindGustDir WindDir9am WindDir3pm RainToday RainTomorrow\n",
              "8   2008-12-09         NNW         SE         NW        No          Yes\n",
              "10  2008-12-11           N        SSE        ESE        No          Yes\n",
              "11  2008-12-12         NNE         NE        ENE       Yes          Yes\n",
              "12  2008-12-13           W        NNW        NNW       Yes          Yes\n",
              "16  2008-12-17         ENE        SSW          E        No          Yes"
            ]
          },
          "metadata": {
            "tags": []
          },
          "execution_count": 237
        }
      ]
    },
    {
      "cell_type": "markdown",
      "metadata": {
        "id": "jz0OPcKdxSts"
      },
      "source": [
        "Look for missing values of the categorical values"
      ]
    },
    {
      "cell_type": "code",
      "metadata": {
        "colab": {
          "base_uri": "https://localhost:8080/"
        },
        "id": "xoBL1LZoxcCq",
        "outputId": "947f1b11-adc1-4ddb-d37e-266b2641374a"
      },
      "source": [
        "df[categorical].isnull().sum()"
      ],
      "execution_count": 238,
      "outputs": [
        {
          "output_type": "execute_result",
          "data": {
            "text/plain": [
              "Date               0\n",
              "WindGustDir     4434\n",
              "WindDir9am      4217\n",
              "WindDir3pm      1835\n",
              "RainToday        867\n",
              "RainTomorrow       0\n",
              "dtype: int64"
            ]
          },
          "metadata": {
            "tags": []
          },
          "execution_count": 238
        }
      ]
    },
    {
      "cell_type": "markdown",
      "metadata": {
        "id": "cic_HKTbBijz"
      },
      "source": [
        "Lets replace all missing ones with the most common one."
      ]
    },
    {
      "cell_type": "code",
      "metadata": {
        "id": "Y6T04sFqBRgQ"
      },
      "source": [
        "contains_null = [col for col in categorical if df[col].isnull().sum()!=0]\n",
        "\n",
        "for col in contains_null:\n",
        "  most_common = df[col].mode()\n",
        "  df[col].fillna(most_common[0], inplace=True)"
      ],
      "execution_count": 239,
      "outputs": []
    },
    {
      "cell_type": "code",
      "metadata": {
        "colab": {
          "base_uri": "https://localhost:8080/"
        },
        "id": "0IkSrghcB23k",
        "outputId": "b6998fec-dd41-43d6-d947-e2b4bfdb07c3"
      },
      "source": [
        "df[categorical].isnull().sum()"
      ],
      "execution_count": 240,
      "outputs": [
        {
          "output_type": "execute_result",
          "data": {
            "text/plain": [
              "Date            0\n",
              "WindGustDir     0\n",
              "WindDir9am      0\n",
              "WindDir3pm      0\n",
              "RainToday       0\n",
              "RainTomorrow    0\n",
              "dtype: int64"
            ]
          },
          "metadata": {
            "tags": []
          },
          "execution_count": 240
        }
      ]
    },
    {
      "cell_type": "code",
      "metadata": {
        "colab": {
          "base_uri": "https://localhost:8080/",
          "height": 195
        },
        "id": "ajl3YZ1ixr7x",
        "outputId": "ada94939-b2f2-4868-a754-d4f0685df083"
      },
      "source": [
        "numerical = [name for name in df.columns if df[name].dtype!='O']\n",
        "\n",
        "df[numerical].head()"
      ],
      "execution_count": 241,
      "outputs": [
        {
          "output_type": "execute_result",
          "data": {
            "text/html": [
              "<div>\n",
              "<style scoped>\n",
              "    .dataframe tbody tr th:only-of-type {\n",
              "        vertical-align: middle;\n",
              "    }\n",
              "\n",
              "    .dataframe tbody tr th {\n",
              "        vertical-align: top;\n",
              "    }\n",
              "\n",
              "    .dataframe thead th {\n",
              "        text-align: right;\n",
              "    }\n",
              "</style>\n",
              "<table border=\"1\" class=\"dataframe\">\n",
              "  <thead>\n",
              "    <tr style=\"text-align: right;\">\n",
              "      <th></th>\n",
              "      <th>MinTemp</th>\n",
              "      <th>MaxTemp</th>\n",
              "      <th>Rainfall</th>\n",
              "      <th>Evaporation</th>\n",
              "      <th>Sunshine</th>\n",
              "      <th>WindGustSpeed</th>\n",
              "      <th>WindSpeed9am</th>\n",
              "      <th>WindSpeed3pm</th>\n",
              "      <th>Humidity9am</th>\n",
              "      <th>Humidity3pm</th>\n",
              "      <th>Pressure9am</th>\n",
              "      <th>Pressure3pm</th>\n",
              "      <th>Cloud9am</th>\n",
              "      <th>Cloud3pm</th>\n",
              "      <th>Temp9am</th>\n",
              "      <th>Temp3pm</th>\n",
              "    </tr>\n",
              "  </thead>\n",
              "  <tbody>\n",
              "    <tr>\n",
              "      <th>8</th>\n",
              "      <td>9.7</td>\n",
              "      <td>31.9</td>\n",
              "      <td>0.0</td>\n",
              "      <td>NaN</td>\n",
              "      <td>NaN</td>\n",
              "      <td>80.0</td>\n",
              "      <td>7.0</td>\n",
              "      <td>28.0</td>\n",
              "      <td>42.0</td>\n",
              "      <td>9.0</td>\n",
              "      <td>1008.9</td>\n",
              "      <td>1003.6</td>\n",
              "      <td>NaN</td>\n",
              "      <td>NaN</td>\n",
              "      <td>18.3</td>\n",
              "      <td>30.2</td>\n",
              "    </tr>\n",
              "    <tr>\n",
              "      <th>10</th>\n",
              "      <td>13.4</td>\n",
              "      <td>30.4</td>\n",
              "      <td>0.0</td>\n",
              "      <td>NaN</td>\n",
              "      <td>NaN</td>\n",
              "      <td>30.0</td>\n",
              "      <td>17.0</td>\n",
              "      <td>6.0</td>\n",
              "      <td>48.0</td>\n",
              "      <td>22.0</td>\n",
              "      <td>1011.8</td>\n",
              "      <td>1008.7</td>\n",
              "      <td>NaN</td>\n",
              "      <td>NaN</td>\n",
              "      <td>20.4</td>\n",
              "      <td>28.8</td>\n",
              "    </tr>\n",
              "    <tr>\n",
              "      <th>11</th>\n",
              "      <td>15.9</td>\n",
              "      <td>21.7</td>\n",
              "      <td>2.2</td>\n",
              "      <td>NaN</td>\n",
              "      <td>NaN</td>\n",
              "      <td>31.0</td>\n",
              "      <td>15.0</td>\n",
              "      <td>13.0</td>\n",
              "      <td>89.0</td>\n",
              "      <td>91.0</td>\n",
              "      <td>1010.5</td>\n",
              "      <td>1004.2</td>\n",
              "      <td>8.0</td>\n",
              "      <td>8.0</td>\n",
              "      <td>15.9</td>\n",
              "      <td>17.0</td>\n",
              "    </tr>\n",
              "    <tr>\n",
              "      <th>12</th>\n",
              "      <td>15.9</td>\n",
              "      <td>18.6</td>\n",
              "      <td>15.6</td>\n",
              "      <td>NaN</td>\n",
              "      <td>NaN</td>\n",
              "      <td>61.0</td>\n",
              "      <td>28.0</td>\n",
              "      <td>28.0</td>\n",
              "      <td>76.0</td>\n",
              "      <td>93.0</td>\n",
              "      <td>994.3</td>\n",
              "      <td>993.0</td>\n",
              "      <td>8.0</td>\n",
              "      <td>8.0</td>\n",
              "      <td>17.4</td>\n",
              "      <td>15.8</td>\n",
              "    </tr>\n",
              "    <tr>\n",
              "      <th>16</th>\n",
              "      <td>14.1</td>\n",
              "      <td>20.9</td>\n",
              "      <td>0.0</td>\n",
              "      <td>NaN</td>\n",
              "      <td>NaN</td>\n",
              "      <td>22.0</td>\n",
              "      <td>11.0</td>\n",
              "      <td>9.0</td>\n",
              "      <td>69.0</td>\n",
              "      <td>82.0</td>\n",
              "      <td>1012.2</td>\n",
              "      <td>1010.4</td>\n",
              "      <td>8.0</td>\n",
              "      <td>1.0</td>\n",
              "      <td>17.2</td>\n",
              "      <td>18.1</td>\n",
              "    </tr>\n",
              "  </tbody>\n",
              "</table>\n",
              "</div>"
            ],
            "text/plain": [
              "    MinTemp  MaxTemp  Rainfall  ...  Cloud3pm  Temp9am  Temp3pm\n",
              "8       9.7     31.9       0.0  ...       NaN     18.3     30.2\n",
              "10     13.4     30.4       0.0  ...       NaN     20.4     28.8\n",
              "11     15.9     21.7       2.2  ...       8.0     15.9     17.0\n",
              "12     15.9     18.6      15.6  ...       8.0     17.4     15.8\n",
              "16     14.1     20.9       0.0  ...       1.0     17.2     18.1\n",
              "\n",
              "[5 rows x 16 columns]"
            ]
          },
          "metadata": {
            "tags": []
          },
          "execution_count": 241
        }
      ]
    },
    {
      "cell_type": "markdown",
      "metadata": {
        "id": "PhUW_fbxx0Io"
      },
      "source": [
        "Look for missing values in the numerical data"
      ]
    },
    {
      "cell_type": "code",
      "metadata": {
        "colab": {
          "base_uri": "https://localhost:8080/"
        },
        "id": "momsF77Ux2ga",
        "outputId": "b5ab37d0-f4b7-4ef7-dc0a-9d7fe12e74e4"
      },
      "source": [
        "df[numerical].isnull().sum()"
      ],
      "execution_count": 242,
      "outputs": [
        {
          "output_type": "execute_result",
          "data": {
            "text/plain": [
              "MinTemp            307\n",
              "MaxTemp            143\n",
              "Rainfall           867\n",
              "Evaporation      27627\n",
              "Sunshine         30374\n",
              "WindGustSpeed     4403\n",
              "WindSpeed9am       605\n",
              "WindSpeed3pm      1230\n",
              "Humidity9am        894\n",
              "Humidity3pm       1755\n",
              "Pressure9am       6297\n",
              "Pressure3pm       6284\n",
              "Cloud9am         23530\n",
              "Cloud3pm         24822\n",
              "Temp9am            476\n",
              "Temp3pm           1332\n",
              "dtype: int64"
            ]
          },
          "metadata": {
            "tags": []
          },
          "execution_count": 242
        }
      ]
    },
    {
      "cell_type": "code",
      "metadata": {
        "colab": {
          "base_uri": "https://localhost:8080/"
        },
        "id": "jSpuKfjW9K6B",
        "outputId": "b166963a-8166-4e29-abb6-a09ff3a659d7"
      },
      "source": [
        "df.isnull().sum()"
      ],
      "execution_count": 243,
      "outputs": [
        {
          "output_type": "execute_result",
          "data": {
            "text/plain": [
              "Date                 0\n",
              "MinTemp            307\n",
              "MaxTemp            143\n",
              "Rainfall           867\n",
              "Evaporation      27627\n",
              "Sunshine         30374\n",
              "WindGustDir          0\n",
              "WindGustSpeed     4403\n",
              "WindDir9am           0\n",
              "WindDir3pm           0\n",
              "WindSpeed9am       605\n",
              "WindSpeed3pm      1230\n",
              "Humidity9am        894\n",
              "Humidity3pm       1755\n",
              "Pressure9am       6297\n",
              "Pressure3pm       6284\n",
              "Cloud9am         23530\n",
              "Cloud3pm         24822\n",
              "Temp9am            476\n",
              "Temp3pm           1332\n",
              "RainToday            0\n",
              "RainTomorrow         0\n",
              "dtype: int64"
            ]
          },
          "metadata": {
            "tags": []
          },
          "execution_count": 243
        }
      ]
    },
    {
      "cell_type": "markdown",
      "metadata": {
        "id": "v1C7fpStza1W"
      },
      "source": [
        "Lets check the info of the numerical values"
      ]
    },
    {
      "cell_type": "code",
      "metadata": {
        "colab": {
          "base_uri": "https://localhost:8080/",
          "height": 284
        },
        "id": "Is1e2hABzdcm",
        "outputId": "a0c2391d-6ac9-4ff6-9447-69652d6569ce"
      },
      "source": [
        "df[numerical].describe()"
      ],
      "execution_count": 244,
      "outputs": [
        {
          "output_type": "execute_result",
          "data": {
            "text/html": [
              "<div>\n",
              "<style scoped>\n",
              "    .dataframe tbody tr th:only-of-type {\n",
              "        vertical-align: middle;\n",
              "    }\n",
              "\n",
              "    .dataframe tbody tr th {\n",
              "        vertical-align: top;\n",
              "    }\n",
              "\n",
              "    .dataframe thead th {\n",
              "        text-align: right;\n",
              "    }\n",
              "</style>\n",
              "<table border=\"1\" class=\"dataframe\">\n",
              "  <thead>\n",
              "    <tr style=\"text-align: right;\">\n",
              "      <th></th>\n",
              "      <th>MinTemp</th>\n",
              "      <th>MaxTemp</th>\n",
              "      <th>Rainfall</th>\n",
              "      <th>Evaporation</th>\n",
              "      <th>Sunshine</th>\n",
              "      <th>WindGustSpeed</th>\n",
              "      <th>WindSpeed9am</th>\n",
              "      <th>WindSpeed3pm</th>\n",
              "      <th>Humidity9am</th>\n",
              "      <th>Humidity3pm</th>\n",
              "      <th>Pressure9am</th>\n",
              "      <th>Pressure3pm</th>\n",
              "      <th>Cloud9am</th>\n",
              "      <th>Cloud3pm</th>\n",
              "      <th>Temp9am</th>\n",
              "      <th>Temp3pm</th>\n",
              "    </tr>\n",
              "  </thead>\n",
              "  <tbody>\n",
              "    <tr>\n",
              "      <th>count</th>\n",
              "      <td>63447.000000</td>\n",
              "      <td>63611.000000</td>\n",
              "      <td>62887.000000</td>\n",
              "      <td>36127.000000</td>\n",
              "      <td>33380.000000</td>\n",
              "      <td>59351.000000</td>\n",
              "      <td>63149.000000</td>\n",
              "      <td>62524.000000</td>\n",
              "      <td>62860.000000</td>\n",
              "      <td>61999.000000</td>\n",
              "      <td>57457.000000</td>\n",
              "      <td>57470.000000</td>\n",
              "      <td>40224.000000</td>\n",
              "      <td>38932.000000</td>\n",
              "      <td>63278.000000</td>\n",
              "      <td>62422.000000</td>\n",
              "    </tr>\n",
              "    <tr>\n",
              "      <th>mean</th>\n",
              "      <td>12.535220</td>\n",
              "      <td>22.454286</td>\n",
              "      <td>3.674941</td>\n",
              "      <td>5.153522</td>\n",
              "      <td>6.491836</td>\n",
              "      <td>42.134454</td>\n",
              "      <td>14.551283</td>\n",
              "      <td>19.177420</td>\n",
              "      <td>72.102195</td>\n",
              "      <td>57.673301</td>\n",
              "      <td>1016.474001</td>\n",
              "      <td>1014.198163</td>\n",
              "      <td>5.056906</td>\n",
              "      <td>5.207875</td>\n",
              "      <td>16.858518</td>\n",
              "      <td>20.779054</td>\n",
              "    </tr>\n",
              "    <tr>\n",
              "      <th>std</th>\n",
              "      <td>6.391187</td>\n",
              "      <td>7.125528</td>\n",
              "      <td>10.988083</td>\n",
              "      <td>4.039621</td>\n",
              "      <td>3.934987</td>\n",
              "      <td>14.697019</td>\n",
              "      <td>9.202797</td>\n",
              "      <td>9.167757</td>\n",
              "      <td>18.571167</td>\n",
              "      <td>21.766891</td>\n",
              "      <td>7.328239</td>\n",
              "      <td>7.269191</td>\n",
              "      <td>2.775844</td>\n",
              "      <td>2.617885</td>\n",
              "      <td>6.453520</td>\n",
              "      <td>6.946309</td>\n",
              "    </tr>\n",
              "    <tr>\n",
              "      <th>min</th>\n",
              "      <td>-8.200000</td>\n",
              "      <td>-4.100000</td>\n",
              "      <td>0.000000</td>\n",
              "      <td>0.000000</td>\n",
              "      <td>0.000000</td>\n",
              "      <td>7.000000</td>\n",
              "      <td>0.000000</td>\n",
              "      <td>0.000000</td>\n",
              "      <td>0.000000</td>\n",
              "      <td>0.000000</td>\n",
              "      <td>980.500000</td>\n",
              "      <td>977.100000</td>\n",
              "      <td>0.000000</td>\n",
              "      <td>0.000000</td>\n",
              "      <td>-7.000000</td>\n",
              "      <td>-4.400000</td>\n",
              "    </tr>\n",
              "    <tr>\n",
              "      <th>25%</th>\n",
              "      <td>7.900000</td>\n",
              "      <td>17.200000</td>\n",
              "      <td>0.000000</td>\n",
              "      <td>2.400000</td>\n",
              "      <td>3.200000</td>\n",
              "      <td>31.000000</td>\n",
              "      <td>7.000000</td>\n",
              "      <td>13.000000</td>\n",
              "      <td>60.000000</td>\n",
              "      <td>43.000000</td>\n",
              "      <td>1011.700000</td>\n",
              "      <td>1009.300000</td>\n",
              "      <td>2.000000</td>\n",
              "      <td>3.000000</td>\n",
              "      <td>12.100000</td>\n",
              "      <td>15.700000</td>\n",
              "    </tr>\n",
              "    <tr>\n",
              "      <th>50%</th>\n",
              "      <td>12.200000</td>\n",
              "      <td>21.700000</td>\n",
              "      <td>0.000000</td>\n",
              "      <td>4.400000</td>\n",
              "      <td>6.800000</td>\n",
              "      <td>41.000000</td>\n",
              "      <td>13.000000</td>\n",
              "      <td>19.000000</td>\n",
              "      <td>74.000000</td>\n",
              "      <td>58.000000</td>\n",
              "      <td>1016.400000</td>\n",
              "      <td>1014.100000</td>\n",
              "      <td>6.000000</td>\n",
              "      <td>6.000000</td>\n",
              "      <td>16.500000</td>\n",
              "      <td>20.100000</td>\n",
              "    </tr>\n",
              "    <tr>\n",
              "      <th>75%</th>\n",
              "      <td>17.200000</td>\n",
              "      <td>27.400000</td>\n",
              "      <td>2.200000</td>\n",
              "      <td>7.000000</td>\n",
              "      <td>9.900000</td>\n",
              "      <td>50.000000</td>\n",
              "      <td>20.000000</td>\n",
              "      <td>24.000000</td>\n",
              "      <td>87.000000</td>\n",
              "      <td>73.000000</td>\n",
              "      <td>1021.400000</td>\n",
              "      <td>1019.100000</td>\n",
              "      <td>7.000000</td>\n",
              "      <td>7.000000</td>\n",
              "      <td>21.400000</td>\n",
              "      <td>25.500000</td>\n",
              "    </tr>\n",
              "    <tr>\n",
              "      <th>max</th>\n",
              "      <td>30.700000</td>\n",
              "      <td>47.300000</td>\n",
              "      <td>371.000000</td>\n",
              "      <td>145.000000</td>\n",
              "      <td>14.500000</td>\n",
              "      <td>135.000000</td>\n",
              "      <td>87.000000</td>\n",
              "      <td>87.000000</td>\n",
              "      <td>100.000000</td>\n",
              "      <td>100.000000</td>\n",
              "      <td>1040.600000</td>\n",
              "      <td>1037.900000</td>\n",
              "      <td>9.000000</td>\n",
              "      <td>8.000000</td>\n",
              "      <td>39.400000</td>\n",
              "      <td>46.700000</td>\n",
              "    </tr>\n",
              "  </tbody>\n",
              "</table>\n",
              "</div>"
            ],
            "text/plain": [
              "            MinTemp       MaxTemp  ...       Temp9am       Temp3pm\n",
              "count  63447.000000  63611.000000  ...  63278.000000  62422.000000\n",
              "mean      12.535220     22.454286  ...     16.858518     20.779054\n",
              "std        6.391187      7.125528  ...      6.453520      6.946309\n",
              "min       -8.200000     -4.100000  ...     -7.000000     -4.400000\n",
              "25%        7.900000     17.200000  ...     12.100000     15.700000\n",
              "50%       12.200000     21.700000  ...     16.500000     20.100000\n",
              "75%       17.200000     27.400000  ...     21.400000     25.500000\n",
              "max       30.700000     47.300000  ...     39.400000     46.700000\n",
              "\n",
              "[8 rows x 16 columns]"
            ]
          },
          "metadata": {
            "tags": []
          },
          "execution_count": 244
        }
      ]
    },
    {
      "cell_type": "markdown",
      "metadata": {
        "id": "cctiuNdVyBNR"
      },
      "source": [
        "Lets check if there are any outliers in numerical values by drawing some box plots."
      ]
    },
    {
      "cell_type": "code",
      "metadata": {
        "colab": {
          "base_uri": "https://localhost:8080/",
          "height": 918
        },
        "id": "VrQDPLvJyJwp",
        "outputId": "9dc8e051-9648-48db-ff97-3139ce833e54"
      },
      "source": [
        "plt.figure(figsize=(28,16))\n",
        "\n",
        "for index, value in enumerate(numerical):\n",
        "  n = index + 1\n",
        "  plt.subplot(4, 4, n)\n",
        "  fig = df.boxplot(column=value)\n",
        "  fig.set_ylabel(value)"
      ],
      "execution_count": 245,
      "outputs": [
        {
          "output_type": "display_data",
          "data": {
            "image/png": "[encoded data removed]",
            "text/plain": [
              "<Figure size 2016x1152 with 16 Axes>"
            ]
          },
          "metadata": {
            "tags": [],
            "needs_background": "light"
          }
        }
      ]
    },
    {
      "cell_type": "markdown",
      "metadata": {
        "id": "g3-CRJke2CXx"
      },
      "source": [
        "We can observe from these that RainFall, WindSpeed 9am, WindSpeed 3pm and Evaporation might have outliers. Letse check these more in detail."
      ]
    },
    {
      "cell_type": "code",
      "metadata": {
        "colab": {
          "base_uri": "https://localhost:8080/",
          "height": 863
        },
        "id": "1EnJYY3l2TBf",
        "outputId": "4de83c09-b28b-411a-8e82-68c2f244c56a"
      },
      "source": [
        "outliers = ['Rainfall', 'WindSpeed9am', 'WindSpeed3pm', 'Evaporation']\n",
        "\n",
        "plt.figure(figsize=(15,15))\n",
        "\n",
        "for index, value in enumerate(outliers):\n",
        "  n = index + 1\n",
        "  plt.subplot(2, 2, n)\n",
        "  fig = df.boxplot(column=value)\n",
        "  fig.set_ylabel(value)"
      ],
      "execution_count": 246,
      "outputs": [
        {
          "output_type": "display_data",
          "data": {
            "image/png": "[encoded data removed]",
            "text/plain": [
              "<Figure size 1080x1080 with 4 Axes>"
            ]
          },
          "metadata": {
            "tags": [],
            "needs_background": "light"
          }
        }
      ]
    },
    {
      "cell_type": "markdown",
      "metadata": {
        "id": "2HgtEAg_4pB9"
      },
      "source": [
        "Finding the upper and lower bounds of the outliers using IQR"
      ]
    },
    {
      "cell_type": "code",
      "metadata": {
        "colab": {
          "base_uri": "https://localhost:8080/"
        },
        "id": "Jel3eYXZ4tXe",
        "outputId": "d83287fa-75be-4218-c0d2-fb55b3b38ac4"
      },
      "source": [
        "# Rainfall find outlier using IQR and replace\n",
        "\n",
        "IQR = df.Rainfall.quantile(0.75) - df.Rainfall.quantile(0.25)\n",
        "Upper_boundery = df.Rainfall.quantile(0.75) + (IQR * 3)\n",
        "\n",
        "median = df['Rainfall'].median()\n",
        "\n",
        "print(f\"Upper boundary is: {Upper_boundery} and Median is {median}\")\n",
        "\n",
        "df[\"Rainfall\"] = np.where(df[\"Rainfall\"] >Upper_boundery, median,df['Rainfall'])"
      ],
      "execution_count": 247,
      "outputs": [
        {
          "output_type": "stream",
          "text": [
            "Upper boundary is: 8.8 and Median is 0.0\n"
          ],
          "name": "stdout"
        }
      ]
    },
    {
      "cell_type": "code",
      "metadata": {
        "colab": {
          "base_uri": "https://localhost:8080/"
        },
        "id": "4llhZ0fM_d6d",
        "outputId": "dd742a77-bdc9-4ecd-e4fd-66b9fc86222f"
      },
      "source": [
        "# Windspeed 9 am\n",
        "IQR = df.WindSpeed9am.quantile(0.75) - df.WindSpeed9am.quantile(0.25)\n",
        "Upper_boundery = df.WindSpeed9am.quantile(0.75) + (IQR * 3)\n",
        "\n",
        "median = df['WindSpeed9am'].median()\n",
        "\n",
        "print(f\"Upper boundary is: {Upper_boundery} and Median is {median}\")\n",
        "\n",
        "df[\"WindSpeed9am\"] = np.where(df[\"WindSpeed9am\"] >Upper_boundery, median,df['WindSpeed9am'])"
      ],
      "execution_count": 248,
      "outputs": [
        {
          "output_type": "stream",
          "text": [
            "Upper boundary is: 59.0 and Median is 13.0\n"
          ],
          "name": "stdout"
        }
      ]
    },
    {
      "cell_type": "code",
      "metadata": {
        "colab": {
          "base_uri": "https://localhost:8080/"
        },
        "id": "cpXM7N3F_qDy",
        "outputId": "7d42b38f-076a-4f06-f570-882b9a72d460"
      },
      "source": [
        "# Windspeed 3 pm\n",
        "IQR = df.WindSpeed3pm.quantile(0.75) - df.WindSpeed3pm.quantile(0.25)\n",
        "Upper_boundery = df.WindSpeed3pm.quantile(0.75) + (IQR * 3)\n",
        "\n",
        "median = df['WindSpeed3pm'].median()\n",
        "\n",
        "print(f\"Upper boundary is: {Upper_boundery} and Median is {median}\")\n",
        "\n",
        "df[\"WindSpeed3pm\"] = np.where(df[\"WindSpeed3pm\"] >Upper_boundery, median,df['WindSpeed3pm'])"
      ],
      "execution_count": 249,
      "outputs": [
        {
          "output_type": "stream",
          "text": [
            "Upper boundary is: 57.0 and Median is 19.0\n"
          ],
          "name": "stdout"
        }
      ]
    },
    {
      "cell_type": "code",
      "metadata": {
        "colab": {
          "base_uri": "https://localhost:8080/"
        },
        "id": "R8H6EeV2_wHS",
        "outputId": "a69e90ba-88fa-4f7e-f775-f93111a315c4"
      },
      "source": [
        "# Evaporation\n",
        "IQR = df.Evaporation.quantile(0.75) - df.Evaporation.quantile(0.25)\n",
        "Upper_boundery = df.Evaporation.quantile(0.75) + (IQR * 3)\n",
        "\n",
        "median = df['Evaporation'].median()\n",
        "\n",
        "print(f\"Upper boundary is: {Upper_boundery} and Median is {median}\")\n",
        "\n",
        "df[\"Evaporation\"] = np.where(df[\"Evaporation\"] >Upper_boundery, median,df['Evaporation'])"
      ],
      "execution_count": 250,
      "outputs": [
        {
          "output_type": "stream",
          "text": [
            "Upper boundary is: 20.799999999999997 and Median is 4.4\n"
          ],
          "name": "stdout"
        }
      ]
    },
    {
      "cell_type": "markdown",
      "metadata": {
        "id": "iLuOOXg9_1Cp"
      },
      "source": [
        "Lets check the box plots after fixing the outliers"
      ]
    },
    {
      "cell_type": "code",
      "metadata": {
        "colab": {
          "base_uri": "https://localhost:8080/",
          "height": 863
        },
        "id": "O13_y6NB_5cr",
        "outputId": "d1f18bed-d498-4646-f93a-d1b9db904fa2"
      },
      "source": [
        "plt.figure(figsize=(15,15))\n",
        "\n",
        "for index, value in enumerate(outliers):\n",
        "  n = index + 1\n",
        "  plt.subplot(2, 2, n)\n",
        "  fig = df.boxplot(column=value)\n",
        "  fig.set_ylabel(value)"
      ],
      "execution_count": 251,
      "outputs": [
        {
          "output_type": "display_data",
          "data": {
            "image/png": "[encoded data removed]",
            "text/plain": [
              "<Figure size 1080x1080 with 4 Axes>"
            ]
          },
          "metadata": {
            "tags": [],
            "needs_background": "light"
          }
        }
      ]
    },
    {
      "cell_type": "markdown",
      "metadata": {
        "id": "eldlh724AG-Q"
      },
      "source": [
        "Looks better now.\n",
        "\n",
        "Now lets replaces all the NA numerical values with the median one."
      ]
    },
    {
      "cell_type": "code",
      "metadata": {
        "colab": {
          "base_uri": "https://localhost:8080/"
        },
        "id": "_TSa9dERAIo3",
        "outputId": "e199e492-ccfc-463a-8c92-033665d2713c"
      },
      "source": [
        "for col in numerical:\n",
        "  col_median = df[col].median()\n",
        "  df[col].fillna(col_median, inplace=True)\n",
        "\n",
        "df[numerical].isnull().sum()"
      ],
      "execution_count": 252,
      "outputs": [
        {
          "output_type": "execute_result",
          "data": {
            "text/plain": [
              "MinTemp          0\n",
              "MaxTemp          0\n",
              "Rainfall         0\n",
              "Evaporation      0\n",
              "Sunshine         0\n",
              "WindGustSpeed    0\n",
              "WindSpeed9am     0\n",
              "WindSpeed3pm     0\n",
              "Humidity9am      0\n",
              "Humidity3pm      0\n",
              "Pressure9am      0\n",
              "Pressure3pm      0\n",
              "Cloud9am         0\n",
              "Cloud3pm         0\n",
              "Temp9am          0\n",
              "Temp3pm          0\n",
              "dtype: int64"
            ]
          },
          "metadata": {
            "tags": []
          },
          "execution_count": 252
        }
      ]
    },
    {
      "cell_type": "markdown",
      "metadata": {
        "id": "WUNwFNTVA66Q"
      },
      "source": [
        "Now theres no null values anymore. Lastly encode categorical values\n",
        "\n",
        "\n"
      ]
    },
    {
      "cell_type": "code",
      "metadata": {
        "id": "AU33GnOuM68Y",
        "colab": {
          "base_uri": "https://localhost:8080/",
          "height": 215
        },
        "outputId": "2f97a85d-35df-4a32-9419-bc98f6501eab"
      },
      "source": [
        "df = df.apply(LabelEncoder().fit_transform)\n",
        "\n",
        "df.head()"
      ],
      "execution_count": 253,
      "outputs": [
        {
          "output_type": "execute_result",
          "data": {
            "text/html": [
              "<div>\n",
              "<style scoped>\n",
              "    .dataframe tbody tr th:only-of-type {\n",
              "        vertical-align: middle;\n",
              "    }\n",
              "\n",
              "    .dataframe tbody tr th {\n",
              "        vertical-align: top;\n",
              "    }\n",
              "\n",
              "    .dataframe thead th {\n",
              "        text-align: right;\n",
              "    }\n",
              "</style>\n",
              "<table border=\"1\" class=\"dataframe\">\n",
              "  <thead>\n",
              "    <tr style=\"text-align: right;\">\n",
              "      <th></th>\n",
              "      <th>Date</th>\n",
              "      <th>MinTemp</th>\n",
              "      <th>MaxTemp</th>\n",
              "      <th>Rainfall</th>\n",
              "      <th>Evaporation</th>\n",
              "      <th>Sunshine</th>\n",
              "      <th>WindGustDir</th>\n",
              "      <th>WindGustSpeed</th>\n",
              "      <th>WindDir9am</th>\n",
              "      <th>WindDir3pm</th>\n",
              "      <th>WindSpeed9am</th>\n",
              "      <th>WindSpeed3pm</th>\n",
              "      <th>Humidity9am</th>\n",
              "      <th>Humidity3pm</th>\n",
              "      <th>Pressure9am</th>\n",
              "      <th>Pressure3pm</th>\n",
              "      <th>Cloud9am</th>\n",
              "      <th>Cloud3pm</th>\n",
              "      <th>Temp9am</th>\n",
              "      <th>Temp3pm</th>\n",
              "      <th>RainToday</th>\n",
              "      <th>RainTomorrow</th>\n",
              "    </tr>\n",
              "  </thead>\n",
              "  <tbody>\n",
              "    <tr>\n",
              "      <th>8</th>\n",
              "      <td>300</td>\n",
              "      <td>169</td>\n",
              "      <td>346</td>\n",
              "      <td>0</td>\n",
              "      <td>44</td>\n",
              "      <td>68</td>\n",
              "      <td>6</td>\n",
              "      <td>39</td>\n",
              "      <td>9</td>\n",
              "      <td>7</td>\n",
              "      <td>4</td>\n",
              "      <td>15</td>\n",
              "      <td>42</td>\n",
              "      <td>9</td>\n",
              "      <td>223</td>\n",
              "      <td>194</td>\n",
              "      <td>6</td>\n",
              "      <td>6</td>\n",
              "      <td>231</td>\n",
              "      <td>341</td>\n",
              "      <td>0</td>\n",
              "      <td>1</td>\n",
              "    </tr>\n",
              "    <tr>\n",
              "      <th>10</th>\n",
              "      <td>302</td>\n",
              "      <td>206</td>\n",
              "      <td>331</td>\n",
              "      <td>0</td>\n",
              "      <td>44</td>\n",
              "      <td>68</td>\n",
              "      <td>3</td>\n",
              "      <td>12</td>\n",
              "      <td>10</td>\n",
              "      <td>2</td>\n",
              "      <td>9</td>\n",
              "      <td>3</td>\n",
              "      <td>48</td>\n",
              "      <td>22</td>\n",
              "      <td>252</td>\n",
              "      <td>245</td>\n",
              "      <td>6</td>\n",
              "      <td>6</td>\n",
              "      <td>252</td>\n",
              "      <td>327</td>\n",
              "      <td>0</td>\n",
              "      <td>1</td>\n",
              "    </tr>\n",
              "    <tr>\n",
              "      <th>11</th>\n",
              "      <td>303</td>\n",
              "      <td>231</td>\n",
              "      <td>244</td>\n",
              "      <td>22</td>\n",
              "      <td>44</td>\n",
              "      <td>68</td>\n",
              "      <td>5</td>\n",
              "      <td>13</td>\n",
              "      <td>4</td>\n",
              "      <td>1</td>\n",
              "      <td>8</td>\n",
              "      <td>7</td>\n",
              "      <td>89</td>\n",
              "      <td>91</td>\n",
              "      <td>239</td>\n",
              "      <td>200</td>\n",
              "      <td>8</td>\n",
              "      <td>8</td>\n",
              "      <td>207</td>\n",
              "      <td>209</td>\n",
              "      <td>1</td>\n",
              "      <td>1</td>\n",
              "    </tr>\n",
              "    <tr>\n",
              "      <th>12</th>\n",
              "      <td>304</td>\n",
              "      <td>231</td>\n",
              "      <td>213</td>\n",
              "      <td>0</td>\n",
              "      <td>44</td>\n",
              "      <td>68</td>\n",
              "      <td>13</td>\n",
              "      <td>29</td>\n",
              "      <td>6</td>\n",
              "      <td>6</td>\n",
              "      <td>15</td>\n",
              "      <td>15</td>\n",
              "      <td>76</td>\n",
              "      <td>93</td>\n",
              "      <td>77</td>\n",
              "      <td>88</td>\n",
              "      <td>8</td>\n",
              "      <td>8</td>\n",
              "      <td>222</td>\n",
              "      <td>197</td>\n",
              "      <td>1</td>\n",
              "      <td>1</td>\n",
              "    </tr>\n",
              "    <tr>\n",
              "      <th>16</th>\n",
              "      <td>308</td>\n",
              "      <td>213</td>\n",
              "      <td>236</td>\n",
              "      <td>0</td>\n",
              "      <td>44</td>\n",
              "      <td>68</td>\n",
              "      <td>1</td>\n",
              "      <td>8</td>\n",
              "      <td>11</td>\n",
              "      <td>0</td>\n",
              "      <td>6</td>\n",
              "      <td>5</td>\n",
              "      <td>69</td>\n",
              "      <td>82</td>\n",
              "      <td>256</td>\n",
              "      <td>262</td>\n",
              "      <td>8</td>\n",
              "      <td>1</td>\n",
              "      <td>220</td>\n",
              "      <td>220</td>\n",
              "      <td>0</td>\n",
              "      <td>1</td>\n",
              "    </tr>\n",
              "  </tbody>\n",
              "</table>\n",
              "</div>"
            ],
            "text/plain": [
              "    Date  MinTemp  MaxTemp  Rainfall  ...  Temp9am  Temp3pm  RainToday  RainTomorrow\n",
              "8    300      169      346         0  ...      231      341          0             1\n",
              "10   302      206      331         0  ...      252      327          0             1\n",
              "11   303      231      244        22  ...      207      209          1             1\n",
              "12   304      231      213         0  ...      222      197          1             1\n",
              "16   308      213      236         0  ...      220      220          0             1\n",
              "\n",
              "[5 rows x 22 columns]"
            ]
          },
          "metadata": {
            "tags": []
          },
          "execution_count": 253
        }
      ]
    },
    {
      "cell_type": "markdown",
      "metadata": {
        "id": "eXBus87NRtXf"
      },
      "source": [
        "Reshuffle the data before spliting. We notcied that there are duplicate entries in the data. We deicded to drop them, as reshuffling is not possible with them. "
      ]
    },
    {
      "cell_type": "code",
      "metadata": {
        "id": "QxmLPRA1CqCh"
      },
      "source": [
        "df.drop_duplicates(keep = False, inplace = True)\n",
        "\n",
        "df = df.reindex(np.random.permutation(df.index))"
      ],
      "execution_count": 254,
      "outputs": []
    },
    {
      "cell_type": "markdown",
      "metadata": {
        "id": "RQ003Z3-Rblr"
      },
      "source": [
        "Split data into train and test set"
      ]
    },
    {
      "cell_type": "code",
      "metadata": {
        "id": "8vP7lhnLIqAX",
        "colab": {
          "base_uri": "https://localhost:8080/"
        },
        "outputId": "4dc824c5-b065-4f54-b1da-36fff5c5be79"
      },
      "source": [
        "y = df[target]\n",
        "X = df.drop([target], axis=1)\n",
        "X_train, X_test, y_train, y_test = train_test_split(X, y, test_size = 0.2, random_state = 0)\n",
        "X_train.shape, X_test.shape"
      ],
      "execution_count": 255,
      "outputs": [
        {
          "output_type": "execute_result",
          "data": {
            "text/plain": [
              "((44852, 21), (11214, 21))"
            ]
          },
          "metadata": {
            "tags": []
          },
          "execution_count": 255
        }
      ]
    },
    {
      "cell_type": "markdown",
      "metadata": {
        "id": "_Zun-WiFRoWQ"
      },
      "source": [
        "### Function to plot confusion matrices"
      ]
    },
    {
      "cell_type": "code",
      "metadata": {
        "id": "FFj41BGeP8Gq"
      },
      "source": [
        "def plot_confusion_matrix(cm):\n",
        "  cm_matrix = pd.DataFrame(data=cm, columns=['TP:1', 'TN:0'], \n",
        "                                 index=['FP:1', 'FN:0'])\n",
        "  sns.heatmap(cm_matrix, annot=True, fmt='d', cmap=plt.cm.Blues)\n",
        "\n",
        "  print('\\nTrue Positives = ', cm[0,0])\n",
        "  print('\\nTrue Negatives = ', cm[1,1])\n",
        "  print('\\nFalse Positives = ', cm[0,1])\n",
        "  print('\\nFalse Negatives = ', cm[1,0])"
      ],
      "execution_count": 256,
      "outputs": []
    },
    {
      "cell_type": "markdown",
      "metadata": {
        "id": "ihfNTdPlIL4-"
      },
      "source": [
        "# Decision Tree Classifier"
      ]
    },
    {
      "cell_type": "code",
      "metadata": {
        "id": "A8xt31BULUbI",
        "colab": {
          "base_uri": "https://localhost:8080/"
        },
        "outputId": "63b385d6-84c0-4e9e-c3bc-64c91cdc9ef2"
      },
      "source": [
        "tree = DecisionTreeClassifier(criterion = 'entropy', splitter='random', random_state=2, max_depth=10).fit(X_train,y_train)\n",
        "\n",
        "y_pred_test = tree.predict(X_test)\n",
        "\n",
        "dtc_score = accuracy_score(y_test, y_pred_test)\n",
        "\n",
        "print(f'Model accuracy score: {dtc_score}')"
      ],
      "execution_count": 257,
      "outputs": [
        {
          "output_type": "stream",
          "text": [
            "Model accuracy score: 0.759318708756911\n"
          ],
          "name": "stdout"
        }
      ]
    },
    {
      "cell_type": "markdown",
      "metadata": {
        "id": "MgZG9siMOU5q"
      },
      "source": [
        "Compare train and test set accuracy score"
      ]
    },
    {
      "cell_type": "code",
      "metadata": {
        "id": "-q20eO57OXCS",
        "colab": {
          "base_uri": "https://localhost:8080/"
        },
        "outputId": "ba71fe98-dcc5-472d-a000-558f5bf5c200"
      },
      "source": [
        "y_pred_train = tree.predict(X_train)\n",
        "\n",
        "dtc_score2 = accuracy_score(y_train, y_pred_train)\n",
        "\n",
        "print(f'Model accuracy score: {dtc_score2}')"
      ],
      "execution_count": 258,
      "outputs": [
        {
          "output_type": "stream",
          "text": [
            "Model accuracy score: 0.7801881744403817\n"
          ],
          "name": "stdout"
        }
      ]
    },
    {
      "cell_type": "markdown",
      "metadata": {
        "id": "MtXq7LyIPlCA"
      },
      "source": [
        "Plotting confusion matrices"
      ]
    },
    {
      "cell_type": "code",
      "metadata": {
        "id": "2CsfD6DFPnjM",
        "colab": {
          "base_uri": "https://localhost:8080/",
          "height": 403
        },
        "outputId": "752ac379-301e-4402-e49a-b3e79d4d8350"
      },
      "source": [
        "cm = confusion_matrix(y_test, y_pred_test)\n",
        "plot_confusion_matrix(cm)"
      ],
      "execution_count": 259,
      "outputs": [
        {
          "output_type": "stream",
          "text": [
            "\n",
            "True Positives =  3512\n",
            "\n",
            "True Negatives =  5003\n",
            "\n",
            "False Positives =  1285\n",
            "\n",
            "False Negatives =  1414\n"
          ],
          "name": "stdout"
        },
        {
          "output_type": "display_data",
          "data": {
            "image/png": "[encoded data removed]",
            "text/plain": [
              "<Figure size 432x288 with 2 Axes>"
            ]
          },
          "metadata": {
            "tags": [],
            "needs_background": "light"
          }
        }
      ]
    },
    {
      "cell_type": "markdown",
      "metadata": {
        "id": "m2iDY6KTRfuQ"
      },
      "source": [
        "# Logistic Regression Model"
      ]
    },
    {
      "cell_type": "code",
      "metadata": {
        "id": "dRsHklz0SFGQ",
        "colab": {
          "base_uri": "https://localhost:8080/"
        },
        "outputId": "68950816-720b-41b7-f155-455f10abfb0f"
      },
      "source": [
        "logreg = LogisticRegression(solver='liblinear', random_state=0).fit(X_train, y_train)\n",
        "\n",
        "y_pred_test = logreg.predict(X_test)\n",
        "\n",
        "lr_score = accuracy_score(y_test, y_pred_test)\n",
        "\n",
        "print(f'Model accuracy score: {lr_score}')"
      ],
      "execution_count": 260,
      "outputs": [
        {
          "output_type": "stream",
          "text": [
            "Model accuracy score: 0.7830390583199572\n"
          ],
          "name": "stdout"
        }
      ]
    },
    {
      "cell_type": "markdown",
      "metadata": {
        "id": "9OLQj6aMSYxP"
      },
      "source": [
        "Compare againts test set"
      ]
    },
    {
      "cell_type": "code",
      "metadata": {
        "id": "_A8k6A6lSbTz",
        "colab": {
          "base_uri": "https://localhost:8080/"
        },
        "outputId": "d1066cdb-f2fd-405d-82b8-5a853cac1b33"
      },
      "source": [
        "y_pred_train = logreg.predict(X_train)\n",
        "\n",
        "lr_score2 = accuracy_score(y_train, y_pred_train)\n",
        "\n",
        "print(f'Model accuracy score: {lr_score2}')"
      ],
      "execution_count": 261,
      "outputs": [
        {
          "output_type": "stream",
          "text": [
            "Model accuracy score: 0.7808570409346295\n"
          ],
          "name": "stdout"
        }
      ]
    },
    {
      "cell_type": "code",
      "metadata": {
        "id": "YRjJYkHaSjra",
        "colab": {
          "base_uri": "https://localhost:8080/",
          "height": 399
        },
        "outputId": "49a2f725-8302-4b07-d785-81facc21e5b3"
      },
      "source": [
        "cm = confusion_matrix(y_test, y_pred_test)\n",
        "\n",
        "plot_confusion_matrix(cm)"
      ],
      "execution_count": 262,
      "outputs": [
        {
          "output_type": "stream",
          "text": [
            "\n",
            "True Positives =  3515\n",
            "\n",
            "True Negatives =  5266\n",
            "\n",
            "False Positives =  1282\n",
            "\n",
            "False Negatives =  1151\n"
          ],
          "name": "stdout"
        },
        {
          "output_type": "display_data",
          "data": {
            "image/png": "[encoded data removed]",
            "text/plain": [
              "<Figure size 432x288 with 2 Axes>"
            ]
          },
          "metadata": {
            "tags": [],
            "needs_background": "light"
          }
        }
      ]
    },
    {
      "cell_type": "markdown",
      "metadata": {
        "id": "zPKj3bSQTe1z"
      },
      "source": [
        "# Neural Network Model"
      ]
    },
    {
      "cell_type": "code",
      "metadata": {
        "id": "9ztX-ec8Tg_m",
        "colab": {
          "base_uri": "https://localhost:8080/"
        },
        "outputId": "1f2617cc-1bf2-467c-9f13-2ea277221e0b"
      },
      "source": [
        "nn_model = MLPClassifier(random_state = 0, max_iter=500, learning_rate='constant').fit(X_train, y_train)\n",
        "\n",
        "nn_score = nn_model.score(X_test, y_test)\n",
        "\n",
        "y_pred_test = nn_model.predict(X_test)\n",
        "\n",
        "print(f'Model accuracy score: {nn_score}')"
      ],
      "execution_count": 263,
      "outputs": [
        {
          "output_type": "stream",
          "text": [
            "Model accuracy score: 0.7023363652577136\n"
          ],
          "name": "stdout"
        }
      ]
    },
    {
      "cell_type": "code",
      "metadata": {
        "id": "TcHkVYMXTjzV",
        "colab": {
          "base_uri": "https://localhost:8080/"
        },
        "outputId": "2f966938-cfdd-4564-dba4-dd2c4af13dae"
      },
      "source": [
        "y_pred_train = nn_model.predict(X_train)\n",
        "\n",
        "nn_score2 = accuracy_score(y_train, y_pred_train)\n",
        "\n",
        "print(f'Model accuracy score: {nn_score2}')"
      ],
      "execution_count": 264,
      "outputs": [
        {
          "output_type": "stream",
          "text": [
            "Model accuracy score: 0.7060331757781146\n"
          ],
          "name": "stdout"
        }
      ]
    },
    {
      "cell_type": "code",
      "metadata": {
        "id": "o-mNXM7hTl2O",
        "colab": {
          "base_uri": "https://localhost:8080/",
          "height": 399
        },
        "outputId": "a6f72650-7780-40c9-a108-e10461d8025c"
      },
      "source": [
        "cm = confusion_matrix(y_test, y_pred_test)\n",
        "\n",
        "plot_confusion_matrix(cm)"
      ],
      "execution_count": 265,
      "outputs": [
        {
          "output_type": "stream",
          "text": [
            "\n",
            "True Positives =  1726\n",
            "\n",
            "True Negatives =  6150\n",
            "\n",
            "False Positives =  3071\n",
            "\n",
            "False Negatives =  267\n"
          ],
          "name": "stdout"
        },
        {
          "output_type": "display_data",
          "data": {
            "image/png": "[encoded data removed]",
            "text/plain": [
              "<Figure size 432x288 with 2 Axes>"
            ]
          },
          "metadata": {
            "tags": [],
            "needs_background": "light"
          }
        }
      ]
    },
    {
      "cell_type": "markdown",
      "metadata": {
        "id": "wEBM79tykhYw"
      },
      "source": [
        "# Hyperparameter Optimization using GridSearch"
      ]
    },
    {
      "cell_type": "markdown",
      "metadata": {
        "id": "9Mf2-BJV-i06"
      },
      "source": [
        "GridSearch for Logistic Regression model"
      ]
    },
    {
      "cell_type": "code",
      "metadata": {
        "id": "W1PH0KpBkoy1",
        "outputId": "a92c3ec3-eb99-4b32-ec66-ff4a95f2a757",
        "colab": {
          "base_uri": "https://localhost:8080/"
        }
      },
      "source": [
        "from sklearn.model_selection import GridSearchCV\r\n",
        "\r\n",
        "params = [{'penalty':['l1','l2']}, {'C':[1, 10, 100, 1000]}]\r\n",
        "\r\n",
        "gs_lr = GridSearchCV(estimator = logreg,  \r\n",
        "                           param_grid = params,\r\n",
        "                           scoring = 'accuracy',\r\n",
        "                           cv = 5,\r\n",
        "                           verbose=0)\r\n",
        "\r\n",
        "gs_lr.fit(X_train, y_train)"
      ],
      "execution_count": 266,
      "outputs": [
        {
          "output_type": "execute_result",
          "data": {
            "text/plain": [
              "GridSearchCV(cv=5, error_score=nan,\n",
              "             estimator=LogisticRegression(C=1.0, class_weight=None, dual=False,\n",
              "                                          fit_intercept=True,\n",
              "                                          intercept_scaling=1, l1_ratio=None,\n",
              "                                          max_iter=100, multi_class='auto',\n",
              "                                          n_jobs=None, penalty='l2',\n",
              "                                          random_state=0, solver='liblinear',\n",
              "                                          tol=0.0001, verbose=0,\n",
              "                                          warm_start=False),\n",
              "             iid='deprecated', n_jobs=None,\n",
              "             param_grid=[{'penalty': ['l1', 'l2']}, {'C': [1, 10, 100, 1000]}],\n",
              "             pre_dispatch='2*n_jobs', refit=True, return_train_score=False,\n",
              "             scoring='accuracy', verbose=0)"
            ]
          },
          "metadata": {
            "tags": []
          },
          "execution_count": 266
        }
      ]
    },
    {
      "cell_type": "code",
      "metadata": {
        "id": "Cq1JmiZQwSOC",
        "outputId": "381fa956-274b-42b1-9ea6-cac75705a52d",
        "colab": {
          "base_uri": "https://localhost:8080/"
        }
      },
      "source": [
        "print('GridSearch CV best score for LR model: {:.4f}\\n\\n'.format(gs_lr.best_score_))\r\n",
        "\r\n",
        "print('Parameters that give the best results :','\\n\\n', (gs_lr.best_params_))\r\n",
        "\r\n",
        "print('\\n\\nEstimator that was chosen by the search :','\\n\\n', (gs_lr.best_estimator_))"
      ],
      "execution_count": 267,
      "outputs": [
        {
          "output_type": "stream",
          "text": [
            "GridSearch CV best score for LR model: 0.7826\n",
            "\n",
            "\n",
            "Parameters that give the best results : \n",
            "\n",
            " {'penalty': 'l1'}\n",
            "\n",
            "\n",
            "Estimator that was chosen by the search : \n",
            "\n",
            " LogisticRegression(C=1.0, class_weight=None, dual=False, fit_intercept=True,\n",
            "                   intercept_scaling=1, l1_ratio=None, max_iter=100,\n",
            "                   multi_class='auto', n_jobs=None, penalty='l1',\n",
            "                   random_state=0, solver='liblinear', tol=0.0001, verbose=0,\n",
            "                   warm_start=False)\n"
          ],
          "name": "stdout"
        }
      ]
    },
    {
      "cell_type": "markdown",
      "metadata": {
        "id": "brnNrn025pik"
      },
      "source": [
        "GridSearch for Decision Tree Classifier model"
      ]
    },
    {
      "cell_type": "code",
      "metadata": {
        "id": "KUmo0ZFs5oGo",
        "outputId": "4f275bb0-2ef6-46f4-f4b2-3ddb74dc6403",
        "colab": {
          "base_uri": "https://localhost:8080/"
        }
      },
      "source": [
        "depth = np.arange(1,30)\r\n",
        "leaves = [1,2,4,5,10,20,30,40,80,100]\r\n",
        "param_grid =[{'max_depth':depth,\r\n",
        "             'min_samples_leaf':leaves}]\r\n",
        "gs_tree = GridSearchCV(estimator = tree,param_grid = param_grid,cv=10)\r\n",
        "gs_tree.fit(X_train,y_train)"
      ],
      "execution_count": 268,
      "outputs": [
        {
          "output_type": "execute_result",
          "data": {
            "text/plain": [
              "GridSearchCV(cv=10, error_score=nan,\n",
              "             estimator=DecisionTreeClassifier(ccp_alpha=0.0, class_weight=None,\n",
              "                                              criterion='entropy', max_depth=10,\n",
              "                                              max_features=None,\n",
              "                                              max_leaf_nodes=None,\n",
              "                                              min_impurity_decrease=0.0,\n",
              "                                              min_impurity_split=None,\n",
              "                                              min_samples_leaf=1,\n",
              "                                              min_samples_split=2,\n",
              "                                              min_weight_fraction_leaf=0.0,\n",
              "                                              presort='deprecated',\n",
              "                                              random_state=2,\n",
              "                                              splitter='random'),\n",
              "             iid='deprecated', n_jobs=None,\n",
              "             param_grid=[{'max_depth': array([ 1,  2,  3,  4,  5,  6,  7,  8,  9, 10, 11, 12, 13, 14, 15, 16, 17,\n",
              "       18, 19, 20, 21, 22, 23, 24, 25, 26, 27, 28, 29]),\n",
              "                          'min_samples_leaf': [1, 2, 4, 5, 10, 20, 30, 40, 80,\n",
              "                                               100]}],\n",
              "             pre_dispatch='2*n_jobs', refit=True, return_train_score=False,\n",
              "             scoring=None, verbose=0)"
            ]
          },
          "metadata": {
            "tags": []
          },
          "execution_count": 268
        }
      ]
    },
    {
      "cell_type": "code",
      "metadata": {
        "id": "gy79NXFp580Z",
        "outputId": "182d6f4d-2429-419e-8fc7-6d80637238ca",
        "colab": {
          "base_uri": "https://localhost:8080/"
        }
      },
      "source": [
        "print('GridSearch CV best score for DTC model: {:.4f}\\n\\n'.format(gs_tree.best_score_))\r\n",
        "\r\n",
        "print('Parameters that give the best results :','\\n\\n', (gs_tree.best_params_))\r\n",
        "\r\n",
        "print('\\n\\nEstimator that was chosen by the search :','\\n\\n', (gs_tree.best_estimator_))"
      ],
      "execution_count": 269,
      "outputs": [
        {
          "output_type": "stream",
          "text": [
            "GridSearch CV best score for DTC model: 0.7684\n",
            "\n",
            "\n",
            "Parameters that give the best results : \n",
            "\n",
            " {'max_depth': 15, 'min_samples_leaf': 40}\n",
            "\n",
            "\n",
            "Estimator that was chosen by the search : \n",
            "\n",
            " DecisionTreeClassifier(ccp_alpha=0.0, class_weight=None, criterion='entropy',\n",
            "                       max_depth=15, max_features=None, max_leaf_nodes=None,\n",
            "                       min_impurity_decrease=0.0, min_impurity_split=None,\n",
            "                       min_samples_leaf=40, min_samples_split=2,\n",
            "                       min_weight_fraction_leaf=0.0, presort='deprecated',\n",
            "                       random_state=2, splitter='random')\n"
          ],
          "name": "stdout"
        }
      ]
    },
    {
      "cell_type": "markdown",
      "metadata": {
        "id": "QCeiUqy3-2C2"
      },
      "source": [
        "GridSearch for NN model"
      ]
    },
    {
      "cell_type": "code",
      "metadata": {
        "id": "CG7Iwkth_HEd",
        "outputId": "305f34a0-72f8-42f8-e234-32a61f60ce21",
        "colab": {
          "base_uri": "https://localhost:8080/"
        }
      },
      "source": [
        "param_grid = {'solver': ['lbfgs'], 'max_iter': [500,1000,1500], 'alpha': 10.0 ** -np.arange(1, 7), 'hidden_layer_sizes':np.arange(5, 12), 'random_state':[0,1,2,3,4,5,6,7,8,9]}\r\n",
        "nn_gs = GridSearchCV(estimator=nn_model, param_grid=param_grid, n_jobs=-1, cv=3)\r\n",
        "nn_gs.fit(X_train, y_train)"
      ],
      "execution_count": 270,
      "outputs": [
        {
          "output_type": "execute_result",
          "data": {
            "text/plain": [
              "GridSearchCV(cv=3, error_score=nan,\n",
              "             estimator=MLPClassifier(activation='relu', alpha=0.0001,\n",
              "                                     batch_size='auto', beta_1=0.9,\n",
              "                                     beta_2=0.999, early_stopping=False,\n",
              "                                     epsilon=1e-08, hidden_layer_sizes=(100,),\n",
              "                                     learning_rate='constant',\n",
              "                                     learning_rate_init=0.001, max_fun=15000,\n",
              "                                     max_iter=500, momentum=0.9,\n",
              "                                     n_iter_no_change=10,\n",
              "                                     nesterovs_momentum=True, power_t=0.5,\n",
              "                                     random_state...\n",
              "                                     validation_fraction=0.1, verbose=False,\n",
              "                                     warm_start=False),\n",
              "             iid='deprecated', n_jobs=-1,\n",
              "             param_grid={'alpha': array([1.e-01, 1.e-02, 1.e-03, 1.e-04, 1.e-05, 1.e-06]),\n",
              "                         'hidden_layer_sizes': array([ 5,  6,  7,  8,  9, 10, 11]),\n",
              "                         'max_iter': [500, 1000, 1500],\n",
              "                         'random_state': [0, 1, 2, 3, 4, 5, 6, 7, 8, 9],\n",
              "                         'solver': ['lbfgs']},\n",
              "             pre_dispatch='2*n_jobs', refit=True, return_train_score=False,\n",
              "             scoring=None, verbose=0)"
            ]
          },
          "metadata": {
            "tags": []
          },
          "execution_count": 270
        }
      ]
    },
    {
      "cell_type": "code",
      "metadata": {
        "id": "3lzzSkhtCMUq",
        "outputId": "0639bf3a-07b6-4600-bfba-138e10c2d115",
        "colab": {
          "base_uri": "https://localhost:8080/"
        }
      },
      "source": [
        "print('GridSearch CV best score for NN model: {:.4f}\\n\\n'.format(nn_gs.best_score_))\r\n",
        "\r\n",
        "print('Parameters that give the best results :','\\n\\n', (nn_gs.best_params_))\r\n",
        "\r\n",
        "print('\\n\\nEstimator that was chosen by the search :','\\n\\n', (nn_gs.best_estimator_))"
      ],
      "execution_count": 271,
      "outputs": [
        {
          "output_type": "stream",
          "text": [
            "GridSearch CV best score for NN model: 0.7090\n",
            "\n",
            "\n",
            "Parameters that give the best results : \n",
            "\n",
            " {'alpha': 1e-05, 'hidden_layer_sizes': 5, 'max_iter': 1500, 'random_state': 2, 'solver': 'lbfgs'}\n",
            "\n",
            "\n",
            "Estimator that was chosen by the search : \n",
            "\n",
            " MLPClassifier(activation='relu', alpha=1e-05, batch_size='auto', beta_1=0.9,\n",
            "              beta_2=0.999, early_stopping=False, epsilon=1e-08,\n",
            "              hidden_layer_sizes=5, learning_rate='constant',\n",
            "              learning_rate_init=0.001, max_fun=15000, max_iter=1500,\n",
            "              momentum=0.9, n_iter_no_change=10, nesterovs_momentum=True,\n",
            "              power_t=0.5, random_state=2, shuffle=True, solver='lbfgs',\n",
            "              tol=0.0001, validation_fraction=0.1, verbose=False,\n",
            "              warm_start=False)\n"
          ],
          "name": "stdout"
        }
      ]
    },
    {
      "cell_type": "code",
      "metadata": {
        "id": "afypMGRNH2wJ",
        "outputId": "57032acd-6091-4c5f-9500-f264c9fe7969",
        "colab": {
          "base_uri": "https://localhost:8080/"
        }
      },
      "source": [
        "scores = [[dtc_score, gs_tree.best_score_], [lr_score,gs_lr.best_score_], [nn_score,nn_gs.best_score_]]\r\n",
        "\r\n",
        "scores"
      ],
      "execution_count": 283,
      "outputs": [
        {
          "output_type": "execute_result",
          "data": {
            "text/plain": [
              "[[0.759318708756911, 0.7684384665584145],\n",
              " [0.7830390583199572, 0.7825959778486035],\n",
              " [0.7023363652577136, 0.7090446003209147]]"
            ]
          },
          "metadata": {
            "tags": []
          },
          "execution_count": 283
        }
      ]
    },
    {
      "cell_type": "code",
      "metadata": {
        "id": "tLGNdD-fJBNu",
        "outputId": "7369e662-7606-4397-be91-56092c6a4a6d",
        "colab": {
          "base_uri": "https://localhost:8080/",
          "height": 606
        }
      },
      "source": [
        "plt.bar([0.1, 0.2, 0.3, 0.4, 0.5, 0.6, 0.7, 0.8, 0.9, 1],scores)\r\n",
        "plt.show()"
      ],
      "execution_count": 287,
      "outputs": [
        {
          "output_type": "error",
          "ename": "ValueError",
          "evalue": "ignored",
          "traceback": [
            "\u001b[0;31m---------------------------------------------------------------------------\u001b[0m",
            "\u001b[0;31mValueError\u001b[0m                                Traceback (most recent call last)",
            "\u001b[0;32m<ipython-input-287-1ee483de7edd>\u001b[0m in \u001b[0;36m<module>\u001b[0;34m()\u001b[0m\n\u001b[0;32m----> 1\u001b[0;31m \u001b[0mplt\u001b[0m\u001b[0;34m.\u001b[0m\u001b[0mbar\u001b[0m\u001b[0;34m(\u001b[0m\u001b[0;34m[\u001b[0m\u001b[0;36m0.1\u001b[0m\u001b[0;34m,\u001b[0m \u001b[0;36m0.2\u001b[0m\u001b[0;34m,\u001b[0m \u001b[0;36m0.3\u001b[0m\u001b[0;34m,\u001b[0m \u001b[0;36m0.4\u001b[0m\u001b[0;34m,\u001b[0m \u001b[0;36m0.5\u001b[0m\u001b[0;34m,\u001b[0m \u001b[0;36m0.6\u001b[0m\u001b[0;34m,\u001b[0m \u001b[0;36m0.7\u001b[0m\u001b[0;34m,\u001b[0m \u001b[0;36m0.8\u001b[0m\u001b[0;34m,\u001b[0m \u001b[0;36m0.9\u001b[0m\u001b[0;34m,\u001b[0m \u001b[0;36m1\u001b[0m\u001b[0;34m]\u001b[0m\u001b[0;34m,\u001b[0m\u001b[0mscores\u001b[0m\u001b[0;34m)\u001b[0m\u001b[0;34m\u001b[0m\u001b[0;34m\u001b[0m\u001b[0m\n\u001b[0m\u001b[1;32m      2\u001b[0m \u001b[0mplt\u001b[0m\u001b[0;34m.\u001b[0m\u001b[0mshow\u001b[0m\u001b[0;34m(\u001b[0m\u001b[0;34m)\u001b[0m\u001b[0;34m\u001b[0m\u001b[0;34m\u001b[0m\u001b[0m\n",
            "\u001b[0;32m/usr/local/lib/python3.6/dist-packages/matplotlib/pyplot.py\u001b[0m in \u001b[0;36mbar\u001b[0;34m(x, height, width, bottom, align, data, **kwargs)\u001b[0m\n\u001b[1;32m   2407\u001b[0m     return gca().bar(\n\u001b[1;32m   2408\u001b[0m         \u001b[0mx\u001b[0m\u001b[0;34m,\u001b[0m \u001b[0mheight\u001b[0m\u001b[0;34m,\u001b[0m \u001b[0mwidth\u001b[0m\u001b[0;34m=\u001b[0m\u001b[0mwidth\u001b[0m\u001b[0;34m,\u001b[0m \u001b[0mbottom\u001b[0m\u001b[0;34m=\u001b[0m\u001b[0mbottom\u001b[0m\u001b[0;34m,\u001b[0m \u001b[0malign\u001b[0m\u001b[0;34m=\u001b[0m\u001b[0malign\u001b[0m\u001b[0;34m,\u001b[0m\u001b[0;34m\u001b[0m\u001b[0;34m\u001b[0m\u001b[0m\n\u001b[0;32m-> 2409\u001b[0;31m         **({\"data\": data} if data is not None else {}), **kwargs)\n\u001b[0m\u001b[1;32m   2410\u001b[0m \u001b[0;34m\u001b[0m\u001b[0m\n\u001b[1;32m   2411\u001b[0m \u001b[0;34m\u001b[0m\u001b[0m\n",
            "\u001b[0;32m/usr/local/lib/python3.6/dist-packages/matplotlib/__init__.py\u001b[0m in \u001b[0;36minner\u001b[0;34m(ax, data, *args, **kwargs)\u001b[0m\n\u001b[1;32m   1563\u001b[0m     \u001b[0;32mdef\u001b[0m \u001b[0minner\u001b[0m\u001b[0;34m(\u001b[0m\u001b[0max\u001b[0m\u001b[0;34m,\u001b[0m \u001b[0;34m*\u001b[0m\u001b[0margs\u001b[0m\u001b[0;34m,\u001b[0m \u001b[0mdata\u001b[0m\u001b[0;34m=\u001b[0m\u001b[0;32mNone\u001b[0m\u001b[0;34m,\u001b[0m \u001b[0;34m**\u001b[0m\u001b[0mkwargs\u001b[0m\u001b[0;34m)\u001b[0m\u001b[0;34m:\u001b[0m\u001b[0;34m\u001b[0m\u001b[0;34m\u001b[0m\u001b[0m\n\u001b[1;32m   1564\u001b[0m         \u001b[0;32mif\u001b[0m \u001b[0mdata\u001b[0m \u001b[0;32mis\u001b[0m \u001b[0;32mNone\u001b[0m\u001b[0;34m:\u001b[0m\u001b[0;34m\u001b[0m\u001b[0;34m\u001b[0m\u001b[0m\n\u001b[0;32m-> 1565\u001b[0;31m             \u001b[0;32mreturn\u001b[0m \u001b[0mfunc\u001b[0m\u001b[0;34m(\u001b[0m\u001b[0max\u001b[0m\u001b[0;34m,\u001b[0m \u001b[0;34m*\u001b[0m\u001b[0mmap\u001b[0m\u001b[0;34m(\u001b[0m\u001b[0msanitize_sequence\u001b[0m\u001b[0;34m,\u001b[0m \u001b[0margs\u001b[0m\u001b[0;34m)\u001b[0m\u001b[0;34m,\u001b[0m \u001b[0;34m**\u001b[0m\u001b[0mkwargs\u001b[0m\u001b[0;34m)\u001b[0m\u001b[0;34m\u001b[0m\u001b[0;34m\u001b[0m\u001b[0m\n\u001b[0m\u001b[1;32m   1566\u001b[0m \u001b[0;34m\u001b[0m\u001b[0m\n\u001b[1;32m   1567\u001b[0m         \u001b[0mbound\u001b[0m \u001b[0;34m=\u001b[0m \u001b[0mnew_sig\u001b[0m\u001b[0;34m.\u001b[0m\u001b[0mbind\u001b[0m\u001b[0;34m(\u001b[0m\u001b[0max\u001b[0m\u001b[0;34m,\u001b[0m \u001b[0;34m*\u001b[0m\u001b[0margs\u001b[0m\u001b[0;34m,\u001b[0m \u001b[0;34m**\u001b[0m\u001b[0mkwargs\u001b[0m\u001b[0;34m)\u001b[0m\u001b[0;34m\u001b[0m\u001b[0;34m\u001b[0m\u001b[0m\n",
            "\u001b[0;32m/usr/local/lib/python3.6/dist-packages/matplotlib/axes/_axes.py\u001b[0m in \u001b[0;36mbar\u001b[0;34m(self, x, height, width, bottom, align, **kwargs)\u001b[0m\n\u001b[1;32m   2340\u001b[0m         x, height, width, y, linewidth = np.broadcast_arrays(\n\u001b[1;32m   2341\u001b[0m             \u001b[0;31m# Make args iterable too.\u001b[0m\u001b[0;34m\u001b[0m\u001b[0;34m\u001b[0m\u001b[0;34m\u001b[0m\u001b[0m\n\u001b[0;32m-> 2342\u001b[0;31m             np.atleast_1d(x), height, width, y, linewidth)\n\u001b[0m\u001b[1;32m   2343\u001b[0m \u001b[0;34m\u001b[0m\u001b[0m\n\u001b[1;32m   2344\u001b[0m         \u001b[0;31m# Now that units have been converted, set the tick locations.\u001b[0m\u001b[0;34m\u001b[0m\u001b[0;34m\u001b[0m\u001b[0;34m\u001b[0m\u001b[0m\n",
            "\u001b[0;32m<__array_function__ internals>\u001b[0m in \u001b[0;36mbroadcast_arrays\u001b[0;34m(*args, **kwargs)\u001b[0m\n",
            "\u001b[0;32m/usr/local/lib/python3.6/dist-packages/numpy/lib/stride_tricks.py\u001b[0m in \u001b[0;36mbroadcast_arrays\u001b[0;34m(subok, *args)\u001b[0m\n\u001b[1;32m    256\u001b[0m     \u001b[0margs\u001b[0m \u001b[0;34m=\u001b[0m \u001b[0;34m[\u001b[0m\u001b[0mnp\u001b[0m\u001b[0;34m.\u001b[0m\u001b[0marray\u001b[0m\u001b[0;34m(\u001b[0m\u001b[0m_m\u001b[0m\u001b[0;34m,\u001b[0m \u001b[0mcopy\u001b[0m\u001b[0;34m=\u001b[0m\u001b[0;32mFalse\u001b[0m\u001b[0;34m,\u001b[0m \u001b[0msubok\u001b[0m\u001b[0;34m=\u001b[0m\u001b[0msubok\u001b[0m\u001b[0;34m)\u001b[0m \u001b[0;32mfor\u001b[0m \u001b[0m_m\u001b[0m \u001b[0;32min\u001b[0m \u001b[0margs\u001b[0m\u001b[0;34m]\u001b[0m\u001b[0;34m\u001b[0m\u001b[0;34m\u001b[0m\u001b[0m\n\u001b[1;32m    257\u001b[0m \u001b[0;34m\u001b[0m\u001b[0m\n\u001b[0;32m--> 258\u001b[0;31m     \u001b[0mshape\u001b[0m \u001b[0;34m=\u001b[0m \u001b[0m_broadcast_shape\u001b[0m\u001b[0;34m(\u001b[0m\u001b[0;34m*\u001b[0m\u001b[0margs\u001b[0m\u001b[0;34m)\u001b[0m\u001b[0;34m\u001b[0m\u001b[0;34m\u001b[0m\u001b[0m\n\u001b[0m\u001b[1;32m    259\u001b[0m \u001b[0;34m\u001b[0m\u001b[0m\n\u001b[1;32m    260\u001b[0m     \u001b[0;32mif\u001b[0m \u001b[0mall\u001b[0m\u001b[0;34m(\u001b[0m\u001b[0marray\u001b[0m\u001b[0;34m.\u001b[0m\u001b[0mshape\u001b[0m \u001b[0;34m==\u001b[0m \u001b[0mshape\u001b[0m \u001b[0;32mfor\u001b[0m \u001b[0marray\u001b[0m \u001b[0;32min\u001b[0m \u001b[0margs\u001b[0m\u001b[0;34m)\u001b[0m\u001b[0;34m:\u001b[0m\u001b[0;34m\u001b[0m\u001b[0;34m\u001b[0m\u001b[0m\n",
            "\u001b[0;32m/usr/local/lib/python3.6/dist-packages/numpy/lib/stride_tricks.py\u001b[0m in \u001b[0;36m_broadcast_shape\u001b[0;34m(*args)\u001b[0m\n\u001b[1;32m    187\u001b[0m     \u001b[0;31m# use the old-iterator because np.nditer does not handle size 0 arrays\u001b[0m\u001b[0;34m\u001b[0m\u001b[0;34m\u001b[0m\u001b[0;34m\u001b[0m\u001b[0m\n\u001b[1;32m    188\u001b[0m     \u001b[0;31m# consistently\u001b[0m\u001b[0;34m\u001b[0m\u001b[0;34m\u001b[0m\u001b[0;34m\u001b[0m\u001b[0m\n\u001b[0;32m--> 189\u001b[0;31m     \u001b[0mb\u001b[0m \u001b[0;34m=\u001b[0m \u001b[0mnp\u001b[0m\u001b[0;34m.\u001b[0m\u001b[0mbroadcast\u001b[0m\u001b[0;34m(\u001b[0m\u001b[0;34m*\u001b[0m\u001b[0margs\u001b[0m\u001b[0;34m[\u001b[0m\u001b[0;34m:\u001b[0m\u001b[0;36m32\u001b[0m\u001b[0;34m]\u001b[0m\u001b[0;34m)\u001b[0m\u001b[0;34m\u001b[0m\u001b[0;34m\u001b[0m\u001b[0m\n\u001b[0m\u001b[1;32m    190\u001b[0m     \u001b[0;31m# unfortunately, it cannot handle 32 or more arguments directly\u001b[0m\u001b[0;34m\u001b[0m\u001b[0;34m\u001b[0m\u001b[0;34m\u001b[0m\u001b[0m\n\u001b[1;32m    191\u001b[0m     \u001b[0;32mfor\u001b[0m \u001b[0mpos\u001b[0m \u001b[0;32min\u001b[0m \u001b[0mrange\u001b[0m\u001b[0;34m(\u001b[0m\u001b[0;36m32\u001b[0m\u001b[0;34m,\u001b[0m \u001b[0mlen\u001b[0m\u001b[0;34m(\u001b[0m\u001b[0margs\u001b[0m\u001b[0;34m)\u001b[0m\u001b[0;34m,\u001b[0m \u001b[0;36m31\u001b[0m\u001b[0;34m)\u001b[0m\u001b[0;34m:\u001b[0m\u001b[0;34m\u001b[0m\u001b[0;34m\u001b[0m\u001b[0m\n",
            "\u001b[0;31mValueError\u001b[0m: shape mismatch: objects cannot be broadcast to a single shape"
          ]
        },
        {
          "output_type": "display_data",
          "data": {
            "image/png": "[encoded data removed]",
            "text/plain": [
              "<Figure size 432x288 with 1 Axes>"
            ]
          },
          "metadata": {
            "tags": [],
            "needs_background": "light"
          }
        }
      ]
    },
    {
      "cell_type": "code",
      "metadata": {
        "id": "eIodtVfn138N",
        "outputId": "88710a5d-5639-42f5-eb6c-d3b65481fe72",
        "colab": {
          "base_uri": "https://localhost:8080/",
          "height": 337
        }
      },
      "source": [
        "fig = plt.figure()\r\n",
        "models = [dtc_score, lr_score, nn_score]\r\n",
        "#optimised_models = [gs_tree.best_score_, lr_gs.best_score_, nn_gs.best_score_] \r\n",
        "ax = fig.add_axes([0,0,1,1])\r\n",
        "ax.bar(dtc_score, gs_tree.best_score_)\r\n",
        "plt.show()"
      ],
      "execution_count": 275,
      "outputs": [
        {
          "output_type": "display_data",
          "data": {
            "image/png": "[encoded data removed]",
            "text/plain": [
              "<Figure size 432x288 with 1 Axes>"
            ]
          },
          "metadata": {
            "tags": [],
            "needs_background": "light"
          }
        }
      ]
    }
  ]
}